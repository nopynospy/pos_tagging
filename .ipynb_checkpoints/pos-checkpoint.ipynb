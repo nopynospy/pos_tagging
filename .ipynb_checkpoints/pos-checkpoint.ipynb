{
 "cells": [
  {
   "cell_type": "code",
   "execution_count": 1,
   "id": "03e350a4",
   "metadata": {},
   "outputs": [],
   "source": [
    "import nltk\n",
    "from nltk.util import ngrams\n",
    "from nltk import pos_tag, word_tokenize, RegexpParser, Tree\n",
    "from nltk.tokenize import PunktSentenceTokenizer"
   ]
  },
  {
   "cell_type": "code",
   "execution_count": 2,
   "id": "6a760fb9",
   "metadata": {},
   "outputs": [
    {
     "name": "stdout",
     "output_type": "stream",
     "text": [
      "$: dollar\n",
      "    $ -$ --$ A$ C$ HK$ M$ NZ$ S$ U.S.$ US$\n",
      "'': closing quotation mark\n",
      "    ' ''\n",
      "(: opening parenthesis\n",
      "    ( [ {\n",
      "): closing parenthesis\n",
      "    ) ] }\n",
      ",: comma\n",
      "    ,\n",
      "--: dash\n",
      "    --\n",
      ".: sentence terminator\n",
      "    . ! ?\n",
      ":: colon or ellipsis\n",
      "    : ; ...\n",
      "CC: conjunction, coordinating\n",
      "    & 'n and both but either et for less minus neither nor or plus so\n",
      "    therefore times v. versus vs. whether yet\n",
      "CD: numeral, cardinal\n",
      "    mid-1890 nine-thirty forty-two one-tenth ten million 0.5 one forty-\n",
      "    seven 1987 twenty '79 zero two 78-degrees eighty-four IX '60s .025\n",
      "    fifteen 271,124 dozen quintillion DM2,000 ...\n",
      "DT: determiner\n",
      "    all an another any both del each either every half la many much nary\n",
      "    neither no some such that the them these this those\n",
      "EX: existential there\n",
      "    there\n",
      "FW: foreign word\n",
      "    gemeinschaft hund ich jeux habeas Haementeria Herr K'ang-si vous\n",
      "    lutihaw alai je jour objets salutaris fille quibusdam pas trop Monte\n",
      "    terram fiche oui corporis ...\n",
      "IN: preposition or conjunction, subordinating\n",
      "    astride among uppon whether out inside pro despite on by throughout\n",
      "    below within for towards near behind atop around if like until below\n",
      "    next into if beside ...\n",
      "JJ: adjective or numeral, ordinal\n",
      "    third ill-mannered pre-war regrettable oiled calamitous first separable\n",
      "    ectoplasmic battery-powered participatory fourth still-to-be-named\n",
      "    multilingual multi-disciplinary ...\n",
      "JJR: adjective, comparative\n",
      "    bleaker braver breezier briefer brighter brisker broader bumper busier\n",
      "    calmer cheaper choosier cleaner clearer closer colder commoner costlier\n",
      "    cozier creamier crunchier cuter ...\n",
      "JJS: adjective, superlative\n",
      "    calmest cheapest choicest classiest cleanest clearest closest commonest\n",
      "    corniest costliest crassest creepiest crudest cutest darkest deadliest\n",
      "    dearest deepest densest dinkiest ...\n",
      "LS: list item marker\n",
      "    A A. B B. C C. D E F First G H I J K One SP-44001 SP-44002 SP-44005\n",
      "    SP-44007 Second Third Three Two * a b c d first five four one six three\n",
      "    two\n",
      "MD: modal auxiliary\n",
      "    can cannot could couldn't dare may might must need ought shall should\n",
      "    shouldn't will would\n",
      "NN: noun, common, singular or mass\n",
      "    common-carrier cabbage knuckle-duster Casino afghan shed thermostat\n",
      "    investment slide humour falloff slick wind hyena override subhumanity\n",
      "    machinist ...\n",
      "NNP: noun, proper, singular\n",
      "    Motown Venneboerger Czestochwa Ranzer Conchita Trumplane Christos\n",
      "    Oceanside Escobar Kreisler Sawyer Cougar Yvette Ervin ODI Darryl CTCA\n",
      "    Shannon A.K.C. Meltex Liverpool ...\n",
      "NNPS: noun, proper, plural\n",
      "    Americans Americas Amharas Amityvilles Amusements Anarcho-Syndicalists\n",
      "    Andalusians Andes Andruses Angels Animals Anthony Antilles Antiques\n",
      "    Apache Apaches Apocrypha ...\n",
      "NNS: noun, common, plural\n",
      "    undergraduates scotches bric-a-brac products bodyguards facets coasts\n",
      "    divestitures storehouses designs clubs fragrances averages\n",
      "    subjectivists apprehensions muses factory-jobs ...\n",
      "PDT: pre-determiner\n",
      "    all both half many quite such sure this\n",
      "POS: genitive marker\n",
      "    ' 's\n",
      "PRP: pronoun, personal\n",
      "    hers herself him himself hisself it itself me myself one oneself ours\n",
      "    ourselves ownself self she thee theirs them themselves they thou thy us\n",
      "PRP$: pronoun, possessive\n",
      "    her his mine my our ours their thy your\n",
      "RB: adverb\n",
      "    occasionally unabatingly maddeningly adventurously professedly\n",
      "    stirringly prominently technologically magisterially predominately\n",
      "    swiftly fiscally pitilessly ...\n",
      "RBR: adverb, comparative\n",
      "    further gloomier grander graver greater grimmer harder harsher\n",
      "    healthier heavier higher however larger later leaner lengthier less-\n",
      "    perfectly lesser lonelier longer louder lower more ...\n",
      "RBS: adverb, superlative\n",
      "    best biggest bluntest earliest farthest first furthest hardest\n",
      "    heartiest highest largest least less most nearest second tightest worst\n",
      "RP: particle\n",
      "    aboard about across along apart around aside at away back before behind\n",
      "    by crop down ever fast for forth from go high i.e. in into just later\n",
      "    low more off on open out over per pie raising start teeth that through\n",
      "    under unto up up-pp upon whole with you\n",
      "SYM: symbol\n",
      "    % & ' '' ''. ) ). * + ,. < = > @ A[fj] U.S U.S.S.R * ** ***\n",
      "TO: \"to\" as preposition or infinitive marker\n",
      "    to\n",
      "UH: interjection\n",
      "    Goodbye Goody Gosh Wow Jeepers Jee-sus Hubba Hey Kee-reist Oops amen\n",
      "    huh howdy uh dammit whammo shucks heck anyways whodunnit honey golly\n",
      "    man baby diddle hush sonuvabitch ...\n",
      "VB: verb, base form\n",
      "    ask assemble assess assign assume atone attention avoid bake balkanize\n",
      "    bank begin behold believe bend benefit bevel beware bless boil bomb\n",
      "    boost brace break bring broil brush build ...\n",
      "VBD: verb, past tense\n",
      "    dipped pleaded swiped regummed soaked tidied convened halted registered\n",
      "    cushioned exacted snubbed strode aimed adopted belied figgered\n",
      "    speculated wore appreciated contemplated ...\n",
      "VBG: verb, present participle or gerund\n",
      "    telegraphing stirring focusing angering judging stalling lactating\n",
      "    hankerin' alleging veering capping approaching traveling besieging\n",
      "    encrypting interrupting erasing wincing ...\n",
      "VBN: verb, past participle\n",
      "    multihulled dilapidated aerosolized chaired languished panelized used\n",
      "    experimented flourished imitated reunifed factored condensed sheared\n",
      "    unsettled primed dubbed desired ...\n",
      "VBP: verb, present tense, not 3rd person singular\n",
      "    predominate wrap resort sue twist spill cure lengthen brush terminate\n",
      "    appear tend stray glisten obtain comprise detest tease attract\n",
      "    emphasize mold postpone sever return wag ...\n",
      "VBZ: verb, present tense, 3rd person singular\n",
      "    bases reconstructs marks mixes displeases seals carps weaves snatches\n",
      "    slumps stretches authorizes smolders pictures emerges stockpiles\n",
      "    seduces fizzes uses bolsters slaps speaks pleads ...\n",
      "WDT: WH-determiner\n",
      "    that what whatever which whichever\n",
      "WP: WH-pronoun\n",
      "    that what whatever whatsoever which who whom whosoever\n",
      "WP$: WH-pronoun, possessive\n",
      "    whose\n",
      "WRB: Wh-adverb\n",
      "    how however whence whenever where whereby whereever wherein whereof why\n",
      "``: opening quotation mark\n",
      "    ` ``\n"
     ]
    }
   ],
   "source": [
    "# nltk.download('tagsets')\n",
    "nltk.help.upenn_tagset()"
   ]
  },
  {
   "cell_type": "code",
   "execution_count": 3,
   "id": "74c1630e",
   "metadata": {},
   "outputs": [],
   "source": [
    "grammar = r\"\"\"\n",
    "  NP: {<DT>?<JJ>*<NN|NNS|NNP|NNPS><NN|NNS|NNP|NNPS|PP>*}          # Chunk sequences of DT, JJ, NN\n",
    "  PP: {<IN><NP>}               # Chunk prepositions followed by NP\n",
    "  VP: {<VB.*><NP|PP|CLAUSE>+$} # Chunk verbs and their arguments\n",
    "  CLAUSE: {<NP><VP>}           # Chunk NP, VP\n",
    "  \"\"\"\n",
    "\n",
    "chunker = RegexpParser(grammar)"
   ]
  },
  {
   "cell_type": "code",
   "execution_count": 4,
   "id": "225e6be8",
   "metadata": {},
   "outputs": [],
   "source": [
    "def chunk(corpus):\n",
    "    tagged = pos_tag(word_tokenize(corpus))\n",
    "    output = chunker.parse(tagged)\n",
    "    return str(output)"
   ]
  },
  {
   "cell_type": "code",
   "execution_count": 5,
   "id": "18783ff7",
   "metadata": {},
   "outputs": [],
   "source": [
    "# output.draw()"
   ]
  },
  {
   "cell_type": "code",
   "execution_count": 6,
   "id": "49f8f89d",
   "metadata": {},
   "outputs": [],
   "source": [
    "tokenizer = PunktSentenceTokenizer()\n",
    "\n",
    "def tag_pos(corpus):\n",
    "\n",
    "    tokenized = tokenizer.tokenize(corpus)\n",
    "\n",
    "    try:\n",
    "        for sent in tokenized:\n",
    "            words = nltk.word_tokenize(sent)\n",
    "            tagged = nltk.pos_tag(words)\n",
    "            return tagged\n",
    "    except Exception as e:\n",
    "        return str(e)"
   ]
  },
  {
   "cell_type": "code",
   "execution_count": 7,
   "id": "944b7213",
   "metadata": {},
   "outputs": [],
   "source": [
    "def tag_and_chunk(corpus):\n",
    "    print(chunk(corpus))\n",
    "    print(tag_pos(corpus))\n",
    "    \n",
    "def t_c_list(ls, append):\n",
    "    for p in ls:\n",
    "        sent = p + append\n",
    "        tag_and_chunk(sent)\n",
    "        print(\"\\n\")"
   ]
  },
  {
   "cell_type": "markdown",
   "id": "8fd5be7d",
   "metadata": {},
   "source": [
    "# Noun Phrase"
   ]
  },
  {
   "cell_type": "markdown",
   "id": "211a9deb",
   "metadata": {},
   "source": [
    "Linguistics for English Language Teaching: Sounds, Words, and Sentences "
   ]
  },
  {
   "cell_type": "code",
   "execution_count": 8,
   "id": "46c00372",
   "metadata": {},
   "outputs": [
    {
     "name": "stdout",
     "output_type": "stream",
     "text": [
      "(S (NP John/NNP) laughed/VBD (PP at/IN (NP the/DT cat/NN)) ./.)\n",
      "[('John', 'NNP'), ('laughed', 'VBD'), ('at', 'IN'), ('the', 'DT'), ('cat', 'NN'), ('.', '.')]\n",
      "\n",
      "\n",
      "(S (NP mailmen/NNS) laughed/VBD (PP at/IN (NP the/DT cat/NN)) ./.)\n",
      "[('mailmen', 'NNS'), ('laughed', 'VBD'), ('at', 'IN'), ('the', 'DT'), ('cat', 'NN'), ('.', '.')]\n",
      "\n",
      "\n",
      "(S\n",
      "  most/JJS\n",
      "  (NP students/NNS)\n",
      "  laughed/VBN\n",
      "  (PP at/IN (NP the/DT cat/NN))\n",
      "  ./.)\n",
      "[('most', 'JJS'), ('students', 'NNS'), ('laughed', 'VBN'), ('at', 'IN'), ('the', 'DT'), ('cat', 'NN'), ('.', '.')]\n",
      "\n",
      "\n",
      "(S\n",
      "  (NP many/JJ Americans/NNPS)\n",
      "  laughed/VBN\n",
      "  (PP at/IN (NP the/DT cat/NN))\n",
      "  ./.)\n",
      "[('many', 'JJ'), ('Americans', 'NNPS'), ('laughed', 'VBN'), ('at', 'IN'), ('the', 'DT'), ('cat', 'NN'), ('.', '.')]\n",
      "\n",
      "\n",
      "(S\n",
      "  a/DT\n",
      "  huge/JJ\n",
      "  ,/,\n",
      "  (NP loveable/JJ bear/NN)\n",
      "  laughed/VBN\n",
      "  (PP at/IN (NP the/DT cat/NN))\n",
      "  ./.)\n",
      "[('a', 'DT'), ('huge', 'JJ'), (',', ','), ('loveable', 'JJ'), ('bear', 'NN'), ('laughed', 'VBN'), ('at', 'IN'), ('the', 'DT'), ('cat', 'NN'), ('.', '.')]\n",
      "\n",
      "\n",
      "(S\n",
      "  (NP a/DT student/NN)\n",
      "  (PP from/IN (NP brazil/NN))\n",
      "  laughed/VBN\n",
      "  (PP at/IN (NP the/DT cat/NN))\n",
      "  ./.)\n",
      "[('a', 'DT'), ('student', 'NN'), ('from', 'IN'), ('brazil', 'NN'), ('laughed', 'VBN'), ('at', 'IN'), ('the', 'DT'), ('cat', 'NN'), ('.', '.')]\n",
      "\n",
      "\n",
      "(S\n",
      "  (NP the/DT table/NN)\n",
      "  (PP in/IN (NP the/DT corner/NN))\n",
      "  laughed/VBD\n",
      "  (PP at/IN (NP the/DT cat/NN))\n",
      "  ./.)\n",
      "[('the', 'DT'), ('table', 'NN'), ('in', 'IN'), ('the', 'DT'), ('corner', 'NN'), ('laughed', 'VBD'), ('at', 'IN'), ('the', 'DT'), ('cat', 'NN'), ('.', '.')]\n",
      "\n",
      "\n",
      "(S\n",
      "  (NP the/DT people/NNS)\n",
      "  we/PRP\n",
      "  interviewed/VBD\n",
      "  laughed/VBN\n",
      "  (PP at/IN (NP the/DT cat/NN))\n",
      "  ./.)\n",
      "[('the', 'DT'), ('people', 'NNS'), ('we', 'PRP'), ('interviewed', 'VBD'), ('laughed', 'VBN'), ('at', 'IN'), ('the', 'DT'), ('cat', 'NN'), ('.', '.')]\n",
      "\n",
      "\n",
      "(S\n",
      "  (NP John/NNP)\n",
      "  and/CC\n",
      "  his/PRP$\n",
      "  (NP friends/NNS)\n",
      "  laughed/VBN\n",
      "  (PP at/IN (NP the/DT cat/NN))\n",
      "  ./.)\n",
      "[('John', 'NNP'), ('and', 'CC'), ('his', 'PRP$'), ('friends', 'NNS'), ('laughed', 'VBN'), ('at', 'IN'), ('the', 'DT'), ('cat', 'NN'), ('.', '.')]\n",
      "\n",
      "\n"
     ]
    }
   ],
   "source": [
    "noun_phrases = [ \"John\",\n",
    " \"mailmen\",\n",
    " \"most students\", \n",
    " \"many Americans\",\n",
    " \"a huge, loveable bear\",\n",
    " \"a student from brazil\",\n",
    " \"the table in the corner\",\n",
    " \"the people we interviewed\",\n",
    "\"John and his friends\"]\n",
    "\n",
    "t_c_list(noun_phrases, \" laughed at the cat.\")"
   ]
  },
  {
   "cell_type": "markdown",
   "id": "30c84a85",
   "metadata": {},
   "source": [
    "Many and most are considred as adverbs, but they can also be quantifiers.\n",
    "His can be pronoun and determiner, here it is treated as pronoun."
   ]
  },
  {
   "cell_type": "markdown",
   "id": "b507d600",
   "metadata": {},
   "source": [
    "English Syntax: An Introduction"
   ]
  },
  {
   "cell_type": "code",
   "execution_count": 9,
   "id": "95408c32",
   "metadata": {},
   "outputs": [
    {
     "name": "stdout",
     "output_type": "stream",
     "text": [
      "(S His/PRP$ (NP friend/NN) learned/VBD (NP dancing/NN) ./.)\n",
      "[('His', 'PRP$'), ('friend', 'NN'), ('learned', 'VBD'), ('dancing', 'NN'), ('.', '.')]\n",
      "None\n",
      "\n",
      "\n",
      "(S\n",
      "  My/PRP$\n",
      "  (NP bother/NN ’/NNP s/NN friend/NN)\n",
      "  learned/VBD\n",
      "  (NP dancing/NN)\n",
      "  ./.)\n",
      "[('My', 'PRP$'), ('bother', 'NN'), ('’', 'NNP'), ('s', 'NN'), ('friend', 'NN'), ('learned', 'VBD'), ('dancing', 'NN'), ('.', '.')]\n",
      "None\n",
      "\n",
      "\n",
      "(S\n",
      "  (NP The/DT president/NN ’/NNP)\n",
      "  s/VBZ\n",
      "  bodyguard/RB\n",
      "  learned/VBN\n",
      "  (NP surveillance/NN)\n",
      "  ./.)\n",
      "[('The', 'DT'), ('president', 'NN'), ('’', 'NNP'), ('s', 'VBZ'), ('bodyguard', 'RB'), ('learned', 'VBN'), ('surveillance', 'NN'), ('.', '.')]\n",
      "None\n",
      "\n",
      "\n",
      "(S\n",
      "  (NP The/DT King/NNP)\n",
      "  (PP of/IN (NP Rock/NNP))\n",
      "  and/CC\n",
      "  (NP Roll/NNP ’/NNP s/NN records/NNS)\n",
      "  led/VBD\n",
      "  to/TO\n",
      "  dancing/VBG\n",
      "  ./.)\n",
      "[('The', 'DT'), ('King', 'NNP'), ('of', 'IN'), ('Rock', 'NNP'), ('and', 'CC'), ('Roll', 'NNP'), ('’', 'NNP'), ('s', 'NN'), ('records', 'NNS'), ('led', 'VBD'), ('to', 'TO'), ('dancing', 'VBG'), ('.', '.')]\n",
      "None\n",
      "\n",
      "\n"
     ]
    }
   ],
   "source": [
    "sentences = [ \"His friend learned dancing.\",\n",
    " \"My bother’s friend learned dancing.\",\n",
    " \"The president’s bodyguard learned surveillance.\", \n",
    " \"The King of Rock and Roll’s records led to dancing.\"]\n",
    "\n",
    "for s in sentences:\n",
    "    print(tag_and_chunk(s))\n",
    "    print(\"\\n\")"
   ]
  },
  {
   "cell_type": "code",
   "execution_count": 10,
   "id": "c548712d",
   "metadata": {
    "scrolled": true
   },
   "outputs": [
    {
     "name": "stdout",
     "output_type": "stream",
     "text": [
      "(S I/PRP am/VBP (PP at/IN (NP the/DT bus/NN stop/NN)) ./.)\n",
      "[('I', 'PRP'), ('am', 'VBP'), ('at', 'IN'), ('the', 'DT'), ('bus', 'NN'), ('stop', 'NN'), ('.', '.')]\n"
     ]
    }
   ],
   "source": [
    "compund_noun = \"I am at the bus stop.\"\n",
    "tag_and_chunk(compund_noun)"
   ]
  },
  {
   "cell_type": "markdown",
   "id": "505a3c4a",
   "metadata": {},
   "source": [
    "## Possesive Determiner\n",
    "\n",
    "Possesive determiner should be seperated from possesive pronoun. His, hers, mine is not followed by another noun, but his, her and my are."
   ]
  },
  {
   "cell_type": "code",
   "execution_count": 11,
   "id": "ddf892bc",
   "metadata": {},
   "outputs": [
    {
     "name": "stdout",
     "output_type": "stream",
     "text": [
      "(S my/PRP$ (NP friend/NN) learned/VBD (NP dancing/NN) ./.)\n",
      "[('my', 'PRP$'), ('friend', 'NN'), ('learned', 'VBD'), ('dancing', 'NN'), ('.', '.')]\n",
      "\n",
      "\n",
      "(S our/PRP$ (NP friend/NN) learned/VBD (NP dancing/NN) ./.)\n",
      "[('our', 'PRP$'), ('friend', 'NN'), ('learned', 'VBD'), ('dancing', 'NN'), ('.', '.')]\n",
      "\n",
      "\n",
      "(S your/PRP$ (NP friend/NN) learned/VBD (NP dancing/NN) ./.)\n",
      "[('your', 'PRP$'), ('friend', 'NN'), ('learned', 'VBD'), ('dancing', 'NN'), ('.', '.')]\n",
      "\n",
      "\n",
      "(S his/PRP$ (NP friend/NN) learned/VBD (NP dancing/NN) ./.)\n",
      "[('his', 'PRP$'), ('friend', 'NN'), ('learned', 'VBD'), ('dancing', 'NN'), ('.', '.')]\n",
      "\n",
      "\n",
      "(S her/PRP$ (NP friend/NN) learned/VBD (NP dancing/NN) ./.)\n",
      "[('her', 'PRP$'), ('friend', 'NN'), ('learned', 'VBD'), ('dancing', 'NN'), ('.', '.')]\n",
      "\n",
      "\n",
      "(S their/PRP$ (NP friend/NN) learned/VBD (NP dancing/NN) ./.)\n",
      "[('their', 'PRP$'), ('friend', 'NN'), ('learned', 'VBD'), ('dancing', 'NN'), ('.', '.')]\n",
      "\n",
      "\n",
      "(S its/PRP$ (NP friend/NN) learned/VBD (NP dancing/NN) ./.)\n",
      "[('its', 'PRP$'), ('friend', 'NN'), ('learned', 'VBD'), ('dancing', 'NN'), ('.', '.')]\n",
      "\n",
      "\n"
     ]
    }
   ],
   "source": [
    "pos_dets = [\"my\", \"our\", \"your\", \"his\", \"her\", \"their\", \"its\"]\n",
    "    \n",
    "t_c_list(pos_dets, \" friend learned dancing.\")"
   ]
  },
  {
   "cell_type": "markdown",
   "id": "e33dfe1e",
   "metadata": {},
   "source": [
    "In every instance, considering possesive determiners as pronouns causes chunking issues in noun phrase."
   ]
  },
  {
   "cell_type": "code",
   "execution_count": 12,
   "id": "db141c85",
   "metadata": {},
   "outputs": [
    {
     "name": "stdout",
     "output_type": "stream",
     "text": [
      "(S (NP Cat/NNP friend/NN) learned/VBD (NP dancing/NN) ./.)\n",
      "[('Cat', 'NNP'), ('friend', 'NN'), ('learned', 'VBD'), ('dancing', 'NN'), ('.', '.')]\n"
     ]
    }
   ],
   "source": [
    "tag_and_chunk(\"Cat friend learned dancing.\")"
   ]
  },
  {
   "cell_type": "markdown",
   "id": "6177da62",
   "metadata": {},
   "source": [
    "Because the grammar set earlier already includes compound noun, converting the possesive determiners to a random noun fixes the noun phrase chunking issue in possesive determiner + noun."
   ]
  },
  {
   "cell_type": "markdown",
   "id": "a380f9f3",
   "metadata": {},
   "source": [
    "## Demonstrative determiners"
   ]
  },
  {
   "cell_type": "code",
   "execution_count": 13,
   "id": "d68e56ef",
   "metadata": {},
   "outputs": [
    {
     "name": "stdout",
     "output_type": "stream",
     "text": [
      "(S (NP this/DT cat/NN) can/MD swim/VB ./.)\n",
      "[('this', 'DT'), ('cat', 'NN'), ('can', 'MD'), ('swim', 'VB'), ('.', '.')]\n",
      "\n",
      "\n",
      "(S (NP that/DT cat/NN) can/MD swim/VB ./.)\n",
      "[('that', 'DT'), ('cat', 'NN'), ('can', 'MD'), ('swim', 'VB'), ('.', '.')]\n",
      "\n",
      "\n"
     ]
    }
   ],
   "source": [
    "s_dem_dets = [\"this\", \"that\"]\n",
    "    \n",
    "t_c_list(s_dem_dets, \" cat can swim.\")"
   ]
  },
  {
   "cell_type": "code",
   "execution_count": 14,
   "id": "2c24d52f",
   "metadata": {},
   "outputs": [
    {
     "name": "stdout",
     "output_type": "stream",
     "text": [
      "(S (NP these/DT cats/NNS) can/MD swim/VB ./.)\n",
      "[('these', 'DT'), ('cats', 'NNS'), ('can', 'MD'), ('swim', 'VB'), ('.', '.')]\n",
      "\n",
      "\n",
      "(S (NP those/DT cats/NNS) can/MD swim/VB ./.)\n",
      "[('those', 'DT'), ('cats', 'NNS'), ('can', 'MD'), ('swim', 'VB'), ('.', '.')]\n",
      "\n",
      "\n"
     ]
    }
   ],
   "source": [
    "p_dem_dets = [\"these\", \"those\"]\n",
    "\n",
    "t_c_list(p_dem_dets, \" cats can swim.\")"
   ]
  },
  {
   "cell_type": "markdown",
   "id": "6805763b",
   "metadata": {},
   "source": [
    "No issue for demonstrative determiners."
   ]
  },
  {
   "cell_type": "markdown",
   "id": "b313f6b0",
   "metadata": {},
   "source": [
    "## Articles (Can be considered as determiners)"
   ]
  },
  {
   "cell_type": "code",
   "execution_count": 15,
   "id": "e8568dea",
   "metadata": {},
   "outputs": [
    {
     "name": "stdout",
     "output_type": "stream",
     "text": [
      "(S (NP the/DT cat/NN) can/MD fly/VB ./.)\n",
      "[('the', 'DT'), ('cat', 'NN'), ('can', 'MD'), ('fly', 'VB'), ('.', '.')]\n",
      "\n",
      "\n",
      "(S (NP a/DT cat/NN) can/MD fly/VB ./.)\n",
      "[('a', 'DT'), ('cat', 'NN'), ('can', 'MD'), ('fly', 'VB'), ('.', '.')]\n",
      "\n",
      "\n",
      "(S (NP an/DT orange/NN) can/MD fly/VB ./.)\n",
      "[('an', 'DT'), ('orange', 'NN'), ('can', 'MD'), ('fly', 'VB'), ('.', '.')]\n",
      "\n",
      "\n"
     ]
    }
   ],
   "source": [
    "art_nouns = [\"the cat\", \"a cat\", \"an orange\"]\n",
    "\n",
    "t_c_list(art_nouns, \" can fly.\")"
   ]
  },
  {
   "cell_type": "markdown",
   "id": "9fbf5b94",
   "metadata": {},
   "source": [
    "No issue for articles."
   ]
  },
  {
   "cell_type": "markdown",
   "id": "79624793",
   "metadata": {},
   "source": [
    "## Quantifiers (as determiners)"
   ]
  },
  {
   "cell_type": "code",
   "execution_count": 16,
   "id": "28269dde",
   "metadata": {},
   "outputs": [
    {
     "name": "stdout",
     "output_type": "stream",
     "text": [
      "(S (NP several/JJ cats/NNS) can/MD fly/VB ./.)\n",
      "[('several', 'JJ'), ('cats', 'NNS'), ('can', 'MD'), ('fly', 'VB'), ('.', '.')]\n",
      "\n",
      "\n",
      "(S (NP few/JJ cats/NNS) can/MD fly/VB ./.)\n",
      "[('few', 'JJ'), ('cats', 'NNS'), ('can', 'MD'), ('fly', 'VB'), ('.', '.')]\n",
      "\n",
      "\n",
      "(S fewer/JJR (NP cats/NNS) can/MD fly/VB ./.)\n",
      "[('fewer', 'JJR'), ('cats', 'NNS'), ('can', 'MD'), ('fly', 'VB'), ('.', '.')]\n",
      "\n",
      "\n",
      "(S (NP many/JJ cats/NNS) can/MD fly/VB ./.)\n",
      "[('many', 'JJ'), ('cats', 'NNS'), ('can', 'MD'), ('fly', 'VB'), ('.', '.')]\n",
      "\n",
      "\n",
      "(S (NP all/DT cats/NNS) can/MD fly/VB ./.)\n",
      "[('all', 'DT'), ('cats', 'NNS'), ('can', 'MD'), ('fly', 'VB'), ('.', '.')]\n",
      "\n",
      "\n",
      "(S (NP some/DT cats/NNS) can/MD fly/VB ./.)\n",
      "[('some', 'DT'), ('cats', 'NNS'), ('can', 'MD'), ('fly', 'VB'), ('.', '.')]\n",
      "\n",
      "\n",
      "(S (NP no/DT cats/NNS) can/MD fly/VB ./.)\n",
      "[('no', 'DT'), ('cats', 'NNS'), ('can', 'MD'), ('fly', 'VB'), ('.', '.')]\n",
      "\n",
      "\n",
      "(S (NP neither/DT cats/NNS) can/MD fly/VB ./.)\n",
      "[('neither', 'DT'), ('cats', 'NNS'), ('can', 'MD'), ('fly', 'VB'), ('.', '.')]\n",
      "\n",
      "\n",
      "(S (NP either/DT cats/NNS) can/MD fly/VB ./.)\n",
      "[('either', 'DT'), ('cats', 'NNS'), ('can', 'MD'), ('fly', 'VB'), ('.', '.')]\n",
      "\n",
      "\n",
      "(S enough/RB (NP cats/NNS) can/MD fly/VB ./.)\n",
      "[('enough', 'RB'), ('cats', 'NNS'), ('can', 'MD'), ('fly', 'VB'), ('.', '.')]\n",
      "\n",
      "\n",
      "(S (NP other/JJ cats/NNS) can/MD fly/VB ./.)\n",
      "[('other', 'JJ'), ('cats', 'NNS'), ('can', 'MD'), ('fly', 'VB'), ('.', '.')]\n",
      "\n",
      "\n",
      "(S (NP both/DT cats/NNS) can/MD fly/VB ./.)\n",
      "[('both', 'DT'), ('cats', 'NNS'), ('can', 'MD'), ('fly', 'VB'), ('.', '.')]\n",
      "\n",
      "\n"
     ]
    }
   ],
   "source": [
    "p_quantifiers = [\"several\", \"few\", \"fewer\", \"many\", \"all\", \"some\", \"no\", \"neither\", \"either\", \"enough\", \"other\", \"both\"]\n",
    "\n",
    "t_c_list(p_quantifiers, \" cats can fly.\")"
   ]
  },
  {
   "cell_type": "code",
   "execution_count": 17,
   "id": "bb67ee6c",
   "metadata": {},
   "outputs": [
    {
     "name": "stdout",
     "output_type": "stream",
     "text": [
      "(S (NP every/DT cat/NN) can/MD fly/VB ./.)\n",
      "[('every', 'DT'), ('cat', 'NN'), ('can', 'MD'), ('fly', 'VB'), ('.', '.')]\n",
      "\n",
      "\n",
      "(S (NP each/DT cat/NN) can/MD fly/VB ./.)\n",
      "[('each', 'DT'), ('cat', 'NN'), ('can', 'MD'), ('fly', 'VB'), ('.', '.')]\n",
      "\n",
      "\n",
      "(S (NP any/DT cat/NN) can/MD fly/VB ./.)\n",
      "[('any', 'DT'), ('cat', 'NN'), ('can', 'MD'), ('fly', 'VB'), ('.', '.')]\n",
      "\n",
      "\n",
      "(S (NP another/DT cat/NN) can/MD fly/VB ./.)\n",
      "[('another', 'DT'), ('cat', 'NN'), ('can', 'MD'), ('fly', 'VB'), ('.', '.')]\n",
      "\n",
      "\n"
     ]
    }
   ],
   "source": [
    "s_quantifiers = [\"every\", \"each\", \"any\", \"another\"]\n",
    "\n",
    "t_c_list(s_quantifiers, \" cat can fly.\")"
   ]
  },
  {
   "cell_type": "code",
   "execution_count": 18,
   "id": "640ac174",
   "metadata": {},
   "outputs": [
    {
     "name": "stdout",
     "output_type": "stream",
     "text": [
      "(S (NP little/JJ water/NN) is/VBZ needed/VBN ./.)\n",
      "[('little', 'JJ'), ('water', 'NN'), ('is', 'VBZ'), ('needed', 'VBN'), ('.', '.')]\n",
      "\n",
      "\n",
      "(S (NP much/JJ water/NN) is/VBZ needed/VBN ./.)\n",
      "[('much', 'JJ'), ('water', 'NN'), ('is', 'VBZ'), ('needed', 'VBN'), ('.', '.')]\n",
      "\n",
      "\n"
     ]
    }
   ],
   "source": [
    "u_quantifiers = [\"little\", \"much\"]\n",
    "\n",
    "t_c_list(u_quantifiers, \" water is needed.\")"
   ]
  },
  {
   "cell_type": "markdown",
   "id": "ca4adc5d",
   "metadata": {},
   "source": [
    "Most of the quantifiers are treated as adjectives or determiners, which led to accurate noun phrase parsing. Only 'enough' is considered as adverb."
   ]
  },
  {
   "cell_type": "code",
   "execution_count": 19,
   "id": "782fe969",
   "metadata": {},
   "outputs": [
    {
     "name": "stdout",
     "output_type": "stream",
     "text": [
      "(S (NP a/DT lot/NN) (PP of/IN (NP the/DT cats/NNS)) ate/VBP ./.)\n",
      "[('a', 'DT'), ('lot', 'NN'), ('of', 'IN'), ('the', 'DT'), ('cats', 'NNS'), ('ate', 'VBP'), ('.', '.')]\n",
      "\n",
      "\n",
      "(S (NP a/DT number/NN) (PP of/IN (NP the/DT cats/NNS)) ate/VBP ./.)\n",
      "[('a', 'DT'), ('number', 'NN'), ('of', 'IN'), ('the', 'DT'), ('cats', 'NNS'), ('ate', 'VBP'), ('.', '.')]\n",
      "\n",
      "\n",
      "(S many/JJ (PP of/IN (NP the/DT cats/NNS)) ate/VBP ./.)\n",
      "[('many', 'JJ'), ('of', 'IN'), ('the', 'DT'), ('cats', 'NNS'), ('ate', 'VBP'), ('.', '.')]\n",
      "\n",
      "\n",
      "(S some/DT (PP of/IN (NP the/DT cats/NNS)) ate/VBP ./.)\n",
      "[('some', 'DT'), ('of', 'IN'), ('the', 'DT'), ('cats', 'NNS'), ('ate', 'VBP'), ('.', '.')]\n",
      "\n",
      "\n",
      "(S (NP none/NN) (PP of/IN (NP the/DT cats/NNS)) ate/VBP ./.)\n",
      "[('none', 'NN'), ('of', 'IN'), ('the', 'DT'), ('cats', 'NNS'), ('ate', 'VBP'), ('.', '.')]\n",
      "\n",
      "\n",
      "(S any/DT (PP of/IN (NP the/DT cats/NNS)) ate/VBP ./.)\n",
      "[('any', 'DT'), ('of', 'IN'), ('the', 'DT'), ('cats', 'NNS'), ('ate', 'VBP'), ('.', '.')]\n",
      "\n",
      "\n",
      "(S several/JJ (PP of/IN (NP the/DT cats/NNS)) ate/VBP ./.)\n",
      "[('several', 'JJ'), ('of', 'IN'), ('the', 'DT'), ('cats', 'NNS'), ('ate', 'VBP'), ('.', '.')]\n",
      "\n",
      "\n",
      "(S most/JJS (PP of/IN (NP the/DT cats/NNS)) ate/VBP ./.)\n",
      "[('most', 'JJS'), ('of', 'IN'), ('the', 'DT'), ('cats', 'NNS'), ('ate', 'VBP'), ('.', '.')]\n",
      "\n",
      "\n",
      "(S few/JJ (PP of/IN (NP the/DT cats/NNS)) ate/VBP ./.)\n",
      "[('few', 'JJ'), ('of', 'IN'), ('the', 'DT'), ('cats', 'NNS'), ('ate', 'VBP'), ('.', '.')]\n",
      "\n",
      "\n",
      "(S each/DT (PP of/IN (NP the/DT cats/NNS)) ate/VBP ./.)\n",
      "[('each', 'DT'), ('of', 'IN'), ('the', 'DT'), ('cats', 'NNS'), ('ate', 'VBP'), ('.', '.')]\n",
      "\n",
      "\n",
      "(S both/DT (PP of/IN (NP the/DT cats/NNS)) ate/VBP ./.)\n",
      "[('both', 'DT'), ('of', 'IN'), ('the', 'DT'), ('cats', 'NNS'), ('ate', 'VBP'), ('.', '.')]\n",
      "\n",
      "\n"
     ]
    }
   ],
   "source": [
    "c_quan_with_of = [\"a lot\", \"a number\", \"many\", \"some\", \"none\", \"any\", \"several\", \"most\", \"few\", \"each\", \"both\"]\n",
    "\n",
    "t_c_list(c_quan_with_of, \" of the cats ate.\")"
   ]
  },
  {
   "cell_type": "code",
   "execution_count": 20,
   "id": "662c0d98",
   "metadata": {},
   "outputs": [
    {
     "name": "stdout",
     "output_type": "stream",
     "text": [
      "(S much/RB (PP of/IN (NP the/DT water/NN)) is/VBZ left/VBN ./.)\n",
      "[('much', 'RB'), ('of', 'IN'), ('the', 'DT'), ('water', 'NN'), ('is', 'VBZ'), ('left', 'VBN'), ('.', '.')]\n",
      "\n",
      "\n",
      "(S\n",
      "  a/DT\n",
      "  little/JJ\n",
      "  (PP of/IN (NP the/DT water/NN))\n",
      "  is/VBZ\n",
      "  left/VBN\n",
      "  ./.)\n",
      "[('a', 'DT'), ('little', 'JJ'), ('of', 'IN'), ('the', 'DT'), ('water', 'NN'), ('is', 'VBZ'), ('left', 'VBN'), ('.', '.')]\n",
      "\n",
      "\n"
     ]
    }
   ],
   "source": [
    "u_quan_with_of = [\"much\", \"a little\"]\n",
    "\n",
    "t_c_list(u_quan_with_of, \" of the water is left.\")"
   ]
  },
  {
   "cell_type": "markdown",
   "id": "250c0c5e",
   "metadata": {},
   "source": [
    "A {noun1} of {noun2} can be treated as (NP a/DT {noun1}/NN (PP of/IN (NP the/DT {noun2}/NN))). Even though in the grammar variable at the beginning, NP's definition included PP, PP is only defined after NP. Thus, it is unable to include the 'of the {noun2}' into the first noun phrase."
   ]
  },
  {
   "cell_type": "code",
   "execution_count": 21,
   "id": "15ddd25c",
   "metadata": {},
   "outputs": [
    {
     "name": "stdout",
     "output_type": "stream",
     "text": [
      "(S (NP Buckets/NNS) (PP of/IN (NP the/DT cats/NNS)) ate/VBP ./.)\n",
      "[('Buckets', 'NNS'), ('of', 'IN'), ('the', 'DT'), ('cats', 'NNS'), ('ate', 'VBP'), ('.', '.')]\n",
      "(S\n",
      "  (NP A/DT bucket/NN)\n",
      "  (PP of/IN (NP the/DT water/NN))\n",
      "  is/VBZ\n",
      "  left/VBN\n",
      "  ./.)\n",
      "[('A', 'DT'), ('bucket', 'NN'), ('of', 'IN'), ('the', 'DT'), ('water', 'NN'), ('is', 'VBZ'), ('left', 'VBN'), ('.', '.')]\n"
     ]
    }
   ],
   "source": [
    "tag_and_chunk(\"Buckets of the cats ate.\")\n",
    "tag_and_chunk(\"A bucket of the water is left.\")"
   ]
  },
  {
   "cell_type": "markdown",
   "id": "5be03cf8",
   "metadata": {},
   "source": [
    "Despite the prepositional phrase issue, using a random noun to replace the quantifier before of will at least lead to the correct parsing of the noun phrase before 'of'."
   ]
  },
  {
   "cell_type": "code",
   "execution_count": 22,
   "id": "40b879b5",
   "metadata": {},
   "outputs": [
    {
     "name": "stdout",
     "output_type": "stream",
     "text": [
      "(S I/PRP love/VBP (NP blue/NN) ./.)\n",
      "[('I', 'PRP'), ('love', 'VBP'), ('blue', 'NN'), ('.', '.')]\n",
      "(S (NP The/DT blue/NN car/NN) is/VBZ gone/VBN ./.)\n",
      "[('The', 'DT'), ('blue', 'NN'), ('car', 'NN'), ('is', 'VBZ'), ('gone', 'VBN'), ('.', '.')]\n"
     ]
    }
   ],
   "source": [
    "tag_and_chunk(\"I love blue.\")\n",
    "tag_and_chunk(\"The blue car is gone.\")"
   ]
  },
  {
   "cell_type": "markdown",
   "id": "dcdee6e2",
   "metadata": {},
   "source": [
    "It cannot distinguish between colour as a noun vs. as an adjective."
   ]
  },
  {
   "cell_type": "code",
   "execution_count": 23,
   "id": "80362be4",
   "metadata": {},
   "outputs": [
    {
     "name": "stdout",
     "output_type": "stream",
     "text": [
      "(S I/PRP can/MD help/VB you/PRP ./.)\n",
      "[('I', 'PRP'), ('can', 'MD'), ('help', 'VB'), ('you', 'PRP'), ('.', '.')]\n",
      "(S (NP The/DT tin/NN) can/MD is/VBZ red/JJ ./.)\n",
      "[('The', 'DT'), ('tin', 'NN'), ('can', 'MD'), ('is', 'VBZ'), ('red', 'JJ'), ('.', '.')]\n",
      "(S (NP The/DT tin/NN cans/NNS) are/VBP red/JJ ./.)\n",
      "[('The', 'DT'), ('tin', 'NN'), ('cans', 'NNS'), ('are', 'VBP'), ('red', 'JJ'), ('.', '.')]\n"
     ]
    }
   ],
   "source": [
    "tag_and_chunk(\"I can help you.\")\n",
    "tag_and_chunk(\"The tin can is red.\")\n",
    "tag_and_chunk(\"The tin cans are red.\")"
   ]
  },
  {
   "cell_type": "markdown",
   "id": "3fa09ad5",
   "metadata": {},
   "source": [
    "It can detect cans, but not distinguish between can as a modal verb and can as a singular noun."
   ]
  },
  {
   "cell_type": "code",
   "execution_count": 24,
   "id": "5b70a4e2",
   "metadata": {},
   "outputs": [
    {
     "name": "stdout",
     "output_type": "stream",
     "text": [
      "(S (NP Test/NNP) your/PRP$ might/MD ./.)\n",
      "[('Test', 'NNP'), ('your', 'PRP$'), ('might', 'MD'), ('.', '.')]\n",
      "(S Test/VB your/PRP$ (NP mights/NNS) ./.)\n",
      "[('Test', 'VB'), ('your', 'PRP$'), ('mights', 'NNS'), ('.', '.')]\n",
      "(S I/PRP might/MD be/VB late/RB ./.)\n",
      "[('I', 'PRP'), ('might', 'MD'), ('be', 'VB'), ('late', 'RB'), ('.', '.')]\n"
     ]
    }
   ],
   "source": [
    "tag_and_chunk(\"Test your might.\")\n",
    "tag_and_chunk(\"Test your mights.\")\n",
    "tag_and_chunk(\"I might be late.\")"
   ]
  },
  {
   "cell_type": "markdown",
   "id": "3c083f99",
   "metadata": {},
   "source": [
    "# Coordinating Conjunction"
   ]
  },
  {
   "cell_type": "markdown",
   "id": "dfc8462d",
   "metadata": {},
   "source": [
    "https://grammar.yourdictionary.com/parts-of-speech/conjunctions/coordinating-conjunctions.html"
   ]
  },
  {
   "cell_type": "code",
   "execution_count": 25,
   "id": "013824ec",
   "metadata": {},
   "outputs": [
    {
     "name": "stdout",
     "output_type": "stream",
     "text": [
      "(S\n",
      "  I/PRP\n",
      "  go/VBP\n",
      "  to/TO\n",
      "  (NP the/DT park/NN)\n",
      "  (NP every/DT Sunday/NNP)\n",
      "  ./.)\n",
      "[('I', 'PRP'), ('go', 'VBP'), ('to', 'TO'), ('the', 'DT'), ('park', 'NN'), ('every', 'DT'), ('Sunday', 'NNP'), ('.', '.')]\n",
      "(S I/PRP long/RB to/TO see/VB his/PRP$ (NP face/NN) ./.)\n",
      "[('I', 'PRP'), ('long', 'RB'), ('to', 'TO'), ('see', 'VB'), ('his', 'PRP$'), ('face', 'NN'), ('.', '.')]\n",
      "(S\n",
      "  I/PRP\n",
      "  go/VBP\n",
      "  to/TO\n",
      "  (NP the/DT park/NN)\n",
      "  (NP every/DT Sunday/NNP)\n",
      "  ,/,\n",
      "  for/IN\n",
      "  I/PRP\n",
      "  long/JJ\n",
      "  to/TO\n",
      "  see/VB\n",
      "  his/PRP$\n",
      "  (NP face/NN)\n",
      "  ./.)\n",
      "[('I', 'PRP'), ('go', 'VBP'), ('to', 'TO'), ('the', 'DT'), ('park', 'NN'), ('every', 'DT'), ('Sunday', 'NNP'), (',', ','), ('for', 'IN'), ('I', 'PRP'), ('long', 'JJ'), ('to', 'TO'), ('see', 'VB'), ('his', 'PRP$'), ('face', 'NN'), ('.', '.')]\n"
     ]
    }
   ],
   "source": [
    "tag_and_chunk(\"I go to the park every Sunday.\")\n",
    "tag_and_chunk(\"I long to see his face.\")\n",
    "for_conj = \"I go to the park every Sunday, for I long to see his face.\"\n",
    "tag_and_chunk(for_conj)"
   ]
  },
  {
   "cell_type": "markdown",
   "id": "aa68e8f5",
   "metadata": {},
   "source": [
    "NLTK treats for as an adverb, but it can also be coordinating conjuction."
   ]
  },
  {
   "cell_type": "code",
   "execution_count": 26,
   "id": "281c7794",
   "metadata": {},
   "outputs": [
    {
     "name": "stdout",
     "output_type": "stream",
     "text": [
      "(S\n",
      "  I/PRP\n",
      "  like/VBP\n",
      "  to/TO\n",
      "  read/VB\n",
      "  ,/,\n",
      "  and/CC\n",
      "  I/PRP\n",
      "  write/VBP\n",
      "  in/IN\n",
      "  my/PRP$\n",
      "  (NP journal/NN)\n",
      "  (NP every/DT night/NN)\n",
      "  ./.)\n",
      "[('I', 'PRP'), ('like', 'VBP'), ('to', 'TO'), ('read', 'VB'), (',', ','), ('and', 'CC'), ('I', 'PRP'), ('write', 'VBP'), ('in', 'IN'), ('my', 'PRP$'), ('journal', 'NN'), ('every', 'DT'), ('night', 'NN'), ('.', '.')]\n"
     ]
    }
   ],
   "source": [
    "and_conj = \"I like to read, and I write in my journal every night.\"\n",
    "tag_and_chunk(and_conj)"
   ]
  },
  {
   "cell_type": "code",
   "execution_count": 27,
   "id": "111edf9b",
   "metadata": {},
   "outputs": [
    {
     "name": "stdout",
     "output_type": "stream",
     "text": [
      "(S\n",
      "  You/PRP\n",
      "  should/MD\n",
      "  invite/VB\n",
      "  (NP Mario/NNP)\n",
      "  and/CC\n",
      "  (NP Estefan/NNP)\n",
      "  to/TO\n",
      "  (NP the/DT party/NN)\n",
      "  ./.)\n",
      "[('You', 'PRP'), ('should', 'MD'), ('invite', 'VB'), ('Mario', 'NNP'), ('and', 'CC'), ('Estefan', 'NNP'), ('to', 'TO'), ('the', 'DT'), ('party', 'NN'), ('.', '.')]\n"
     ]
    }
   ],
   "source": [
    "and_conj = \"You should invite Mario and Estefan to the party.\"\n",
    "tag_and_chunk(and_conj)"
   ]
  },
  {
   "cell_type": "markdown",
   "id": "b48db660",
   "metadata": {},
   "source": [
    "And is accurate."
   ]
  },
  {
   "cell_type": "code",
   "execution_count": 28,
   "id": "4fed94c5",
   "metadata": {},
   "outputs": [
    {
     "name": "stdout",
     "output_type": "stream",
     "text": [
      "(S\n",
      "  My/PRP$\n",
      "  (NP sister/NN doesn/NN ’/NNP t/NN)\n",
      "  like/IN\n",
      "  to/TO\n",
      "  study/VB\n",
      "  ,/,\n",
      "  nor/CC\n",
      "  does/VBZ\n",
      "  she/PRP\n",
      "  take/VB\n",
      "  (NP notes/NNS)\n",
      "  (PP in/IN (NP class/NN))\n",
      "  ./.)\n",
      "[('My', 'PRP$'), ('sister', 'NN'), ('doesn', 'NN'), ('’', 'NNP'), ('t', 'NN'), ('like', 'IN'), ('to', 'TO'), ('study', 'VB'), (',', ','), ('nor', 'CC'), ('does', 'VBZ'), ('she', 'PRP'), ('take', 'VB'), ('notes', 'NNS'), ('in', 'IN'), ('class', 'NN'), ('.', '.')]\n"
     ]
    }
   ],
   "source": [
    "nor_conj = \"My sister doesn’t like to study, nor does she take notes in class.\"\n",
    "tag_and_chunk(nor_conj)"
   ]
  },
  {
   "cell_type": "markdown",
   "id": "520c8ff0",
   "metadata": {},
   "source": [
    "Nor is accurate"
   ]
  },
  {
   "cell_type": "code",
   "execution_count": 29,
   "id": "71746c8f",
   "metadata": {},
   "outputs": [
    {
     "name": "stdout",
     "output_type": "stream",
     "text": [
      "(S\n",
      "  (NP Television/NN)\n",
      "  is/VBZ\n",
      "  (NP a/DT wonderful/JJ escape/NN)\n",
      "  ,/,\n",
      "  but/CC\n",
      "  it/PRP\n",
      "  interferes/VBZ\n",
      "  with/IN\n",
      "  my/PRP$\n",
      "  (NP writing/NN)\n",
      "  ./.)\n",
      "[('Television', 'NN'), ('is', 'VBZ'), ('a', 'DT'), ('wonderful', 'JJ'), ('escape', 'NN'), (',', ','), ('but', 'CC'), ('it', 'PRP'), ('interferes', 'VBZ'), ('with', 'IN'), ('my', 'PRP$'), ('writing', 'NN'), ('.', '.')]\n"
     ]
    }
   ],
   "source": [
    "but_conj = \"Television is a wonderful escape, but it interferes with my writing.\"\n",
    "tag_and_chunk(but_conj)"
   ]
  },
  {
   "cell_type": "code",
   "execution_count": 30,
   "id": "fa53149d",
   "metadata": {},
   "outputs": [
    {
     "name": "stdout",
     "output_type": "stream",
     "text": [
      "(S\n",
      "  We/PRP\n",
      "  could/MD\n",
      "  have/VB\n",
      "  dinner/VBN\n",
      "  (PP before/IN (NP the/DT movie/NN))\n",
      "  ,/,\n",
      "  or/CC\n",
      "  we/PRP\n",
      "  could/MD\n",
      "  grab/VB\n",
      "  (NP a/DT bite/JJ afterward/NN)\n",
      "  ./.)\n",
      "[('We', 'PRP'), ('could', 'MD'), ('have', 'VB'), ('dinner', 'VBN'), ('before', 'IN'), ('the', 'DT'), ('movie', 'NN'), (',', ','), ('or', 'CC'), ('we', 'PRP'), ('could', 'MD'), ('grab', 'VB'), ('a', 'DT'), ('bite', 'JJ'), ('afterward', 'NN'), ('.', '.')]\n"
     ]
    }
   ],
   "source": [
    "or_conj = \"We could have dinner before the movie, or we could grab a bite afterward.\"\n",
    "tag_and_chunk(or_conj)"
   ]
  },
  {
   "cell_type": "code",
   "execution_count": 31,
   "id": "2c9963f4",
   "metadata": {},
   "outputs": [
    {
     "name": "stdout",
     "output_type": "stream",
     "text": [
      "(S\n",
      "  I/PRP\n",
      "  can/MD\n",
      "  ’/VB\n",
      "  t/JJ\n",
      "  decide/IN\n",
      "  if/IN\n",
      "  I/PRP\n",
      "  should/MD\n",
      "  study/VB\n",
      "  (NP economics/NNS)\n",
      "  or/CC\n",
      "  (NP political/JJ science/NN)\n",
      "  ./.)\n",
      "[('I', 'PRP'), ('can', 'MD'), ('’', 'VB'), ('t', 'JJ'), ('decide', 'IN'), ('if', 'IN'), ('I', 'PRP'), ('should', 'MD'), ('study', 'VB'), ('economics', 'NNS'), ('or', 'CC'), ('political', 'JJ'), ('science', 'NN'), ('.', '.')]\n"
     ]
    }
   ],
   "source": [
    "or_conj = \"I can’t decide if I should study economics or political science.\"\n",
    "tag_and_chunk(or_conj)"
   ]
  },
  {
   "cell_type": "code",
   "execution_count": 32,
   "id": "ac2548aa",
   "metadata": {},
   "outputs": [
    {
     "name": "stdout",
     "output_type": "stream",
     "text": [
      "(S\n",
      "  I/PRP\n",
      "  always/RB\n",
      "  take/VBP\n",
      "  (NP a/DT book/NN)\n",
      "  to/TO\n",
      "  (NP the/DT beach/NN)\n",
      "  ,/,\n",
      "  yet/RB\n",
      "  I/PRP\n",
      "  never/RB\n",
      "  seem/VBP\n",
      "  to/TO\n",
      "  turn/VB\n",
      "  (NP a/DT single/JJ page/NN)\n",
      "  ./.)\n",
      "[('I', 'PRP'), ('always', 'RB'), ('take', 'VBP'), ('a', 'DT'), ('book', 'NN'), ('to', 'TO'), ('the', 'DT'), ('beach', 'NN'), (',', ','), ('yet', 'RB'), ('I', 'PRP'), ('never', 'RB'), ('seem', 'VBP'), ('to', 'TO'), ('turn', 'VB'), ('a', 'DT'), ('single', 'JJ'), ('page', 'NN'), ('.', '.')]\n"
     ]
    }
   ],
   "source": [
    "yet_conj = \"I always take a book to the beach, yet I never seem to turn a single page.\"\n",
    "tag_and_chunk(yet_conj)"
   ]
  },
  {
   "cell_type": "code",
   "execution_count": null,
   "id": "474700c9",
   "metadata": {},
   "outputs": [],
   "source": []
  }
 ],
 "metadata": {
  "kernelspec": {
   "display_name": "Python 3 (ipykernel)",
   "language": "python",
   "name": "python3"
  },
  "language_info": {
   "codemirror_mode": {
    "name": "ipython",
    "version": 3
   },
   "file_extension": ".py",
   "mimetype": "text/x-python",
   "name": "python",
   "nbconvert_exporter": "python",
   "pygments_lexer": "ipython3",
   "version": "3.8.10"
  }
 },
 "nbformat": 4,
 "nbformat_minor": 5
}
