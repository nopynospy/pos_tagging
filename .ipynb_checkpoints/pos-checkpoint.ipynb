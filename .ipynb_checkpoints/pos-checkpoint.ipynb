{
 "cells": [
  {
   "cell_type": "code",
   "execution_count": 1,
   "id": "03e350a4",
   "metadata": {},
   "outputs": [],
   "source": [
    "import nltk\n",
    "from nltk.util import ngrams\n",
    "from nltk import pos_tag, word_tokenize, RegexpParser, Tree\n",
    "from nltk.tokenize import PunktSentenceTokenizer"
   ]
  },
  {
   "cell_type": "markdown",
   "id": "3d0bd125",
   "metadata": {},
   "source": [
    "View all the pos tags in nltk."
   ]
  },
  {
   "cell_type": "code",
   "execution_count": 2,
   "id": "6a760fb9",
   "metadata": {},
   "outputs": [
    {
     "name": "stdout",
     "output_type": "stream",
     "text": [
      "$: dollar\n",
      "    $ -$ --$ A$ C$ HK$ M$ NZ$ S$ U.S.$ US$\n",
      "'': closing quotation mark\n",
      "    ' ''\n",
      "(: opening parenthesis\n",
      "    ( [ {\n",
      "): closing parenthesis\n",
      "    ) ] }\n",
      ",: comma\n",
      "    ,\n",
      "--: dash\n",
      "    --\n",
      ".: sentence terminator\n",
      "    . ! ?\n",
      ":: colon or ellipsis\n",
      "    : ; ...\n",
      "CC: conjunction, coordinating\n",
      "    & 'n and both but either et for less minus neither nor or plus so\n",
      "    therefore times v. versus vs. whether yet\n",
      "CD: numeral, cardinal\n",
      "    mid-1890 nine-thirty forty-two one-tenth ten million 0.5 one forty-\n",
      "    seven 1987 twenty '79 zero two 78-degrees eighty-four IX '60s .025\n",
      "    fifteen 271,124 dozen quintillion DM2,000 ...\n",
      "DT: determiner\n",
      "    all an another any both del each either every half la many much nary\n",
      "    neither no some such that the them these this those\n",
      "EX: existential there\n",
      "    there\n",
      "FW: foreign word\n",
      "    gemeinschaft hund ich jeux habeas Haementeria Herr K'ang-si vous\n",
      "    lutihaw alai je jour objets salutaris fille quibusdam pas trop Monte\n",
      "    terram fiche oui corporis ...\n",
      "IN: preposition or conjunction, subordinating\n",
      "    astride among uppon whether out inside pro despite on by throughout\n",
      "    below within for towards near behind atop around if like until below\n",
      "    next into if beside ...\n",
      "JJ: adjective or numeral, ordinal\n",
      "    third ill-mannered pre-war regrettable oiled calamitous first separable\n",
      "    ectoplasmic battery-powered participatory fourth still-to-be-named\n",
      "    multilingual multi-disciplinary ...\n",
      "JJR: adjective, comparative\n",
      "    bleaker braver breezier briefer brighter brisker broader bumper busier\n",
      "    calmer cheaper choosier cleaner clearer closer colder commoner costlier\n",
      "    cozier creamier crunchier cuter ...\n",
      "JJS: adjective, superlative\n",
      "    calmest cheapest choicest classiest cleanest clearest closest commonest\n",
      "    corniest costliest crassest creepiest crudest cutest darkest deadliest\n",
      "    dearest deepest densest dinkiest ...\n",
      "LS: list item marker\n",
      "    A A. B B. C C. D E F First G H I J K One SP-44001 SP-44002 SP-44005\n",
      "    SP-44007 Second Third Three Two * a b c d first five four one six three\n",
      "    two\n",
      "MD: modal auxiliary\n",
      "    can cannot could couldn't dare may might must need ought shall should\n",
      "    shouldn't will would\n",
      "NN: noun, common, singular or mass\n",
      "    common-carrier cabbage knuckle-duster Casino afghan shed thermostat\n",
      "    investment slide humour falloff slick wind hyena override subhumanity\n",
      "    machinist ...\n",
      "NNP: noun, proper, singular\n",
      "    Motown Venneboerger Czestochwa Ranzer Conchita Trumplane Christos\n",
      "    Oceanside Escobar Kreisler Sawyer Cougar Yvette Ervin ODI Darryl CTCA\n",
      "    Shannon A.K.C. Meltex Liverpool ...\n",
      "NNPS: noun, proper, plural\n",
      "    Americans Americas Amharas Amityvilles Amusements Anarcho-Syndicalists\n",
      "    Andalusians Andes Andruses Angels Animals Anthony Antilles Antiques\n",
      "    Apache Apaches Apocrypha ...\n",
      "NNS: noun, common, plural\n",
      "    undergraduates scotches bric-a-brac products bodyguards facets coasts\n",
      "    divestitures storehouses designs clubs fragrances averages\n",
      "    subjectivists apprehensions muses factory-jobs ...\n",
      "PDT: pre-determiner\n",
      "    all both half many quite such sure this\n",
      "POS: genitive marker\n",
      "    ' 's\n",
      "PRP: pronoun, personal\n",
      "    hers herself him himself hisself it itself me myself one oneself ours\n",
      "    ourselves ownself self she thee theirs them themselves they thou thy us\n",
      "PRP$: pronoun, possessive\n",
      "    her his mine my our ours their thy your\n",
      "RB: adverb\n",
      "    occasionally unabatingly maddeningly adventurously professedly\n",
      "    stirringly prominently technologically magisterially predominately\n",
      "    swiftly fiscally pitilessly ...\n",
      "RBR: adverb, comparative\n",
      "    further gloomier grander graver greater grimmer harder harsher\n",
      "    healthier heavier higher however larger later leaner lengthier less-\n",
      "    perfectly lesser lonelier longer louder lower more ...\n",
      "RBS: adverb, superlative\n",
      "    best biggest bluntest earliest farthest first furthest hardest\n",
      "    heartiest highest largest least less most nearest second tightest worst\n",
      "RP: particle\n",
      "    aboard about across along apart around aside at away back before behind\n",
      "    by crop down ever fast for forth from go high i.e. in into just later\n",
      "    low more off on open out over per pie raising start teeth that through\n",
      "    under unto up up-pp upon whole with you\n",
      "SYM: symbol\n",
      "    % & ' '' ''. ) ). * + ,. < = > @ A[fj] U.S U.S.S.R * ** ***\n",
      "TO: \"to\" as preposition or infinitive marker\n",
      "    to\n",
      "UH: interjection\n",
      "    Goodbye Goody Gosh Wow Jeepers Jee-sus Hubba Hey Kee-reist Oops amen\n",
      "    huh howdy uh dammit whammo shucks heck anyways whodunnit honey golly\n",
      "    man baby diddle hush sonuvabitch ...\n",
      "VB: verb, base form\n",
      "    ask assemble assess assign assume atone attention avoid bake balkanize\n",
      "    bank begin behold believe bend benefit bevel beware bless boil bomb\n",
      "    boost brace break bring broil brush build ...\n",
      "VBD: verb, past tense\n",
      "    dipped pleaded swiped regummed soaked tidied convened halted registered\n",
      "    cushioned exacted snubbed strode aimed adopted belied figgered\n",
      "    speculated wore appreciated contemplated ...\n",
      "VBG: verb, present participle or gerund\n",
      "    telegraphing stirring focusing angering judging stalling lactating\n",
      "    hankerin' alleging veering capping approaching traveling besieging\n",
      "    encrypting interrupting erasing wincing ...\n",
      "VBN: verb, past participle\n",
      "    multihulled dilapidated aerosolized chaired languished panelized used\n",
      "    experimented flourished imitated reunifed factored condensed sheared\n",
      "    unsettled primed dubbed desired ...\n",
      "VBP: verb, present tense, not 3rd person singular\n",
      "    predominate wrap resort sue twist spill cure lengthen brush terminate\n",
      "    appear tend stray glisten obtain comprise detest tease attract\n",
      "    emphasize mold postpone sever return wag ...\n",
      "VBZ: verb, present tense, 3rd person singular\n",
      "    bases reconstructs marks mixes displeases seals carps weaves snatches\n",
      "    slumps stretches authorizes smolders pictures emerges stockpiles\n",
      "    seduces fizzes uses bolsters slaps speaks pleads ...\n",
      "WDT: WH-determiner\n",
      "    that what whatever which whichever\n",
      "WP: WH-pronoun\n",
      "    that what whatever whatsoever which who whom whosoever\n",
      "WP$: WH-pronoun, possessive\n",
      "    whose\n",
      "WRB: Wh-adverb\n",
      "    how however whence whenever where whereby whereever wherein whereof why\n",
      "``: opening quotation mark\n",
      "    ` ``\n"
     ]
    }
   ],
   "source": [
    "# nltk.download('tagsets')\n",
    "nltk.help.upenn_tagset()"
   ]
  },
  {
   "cell_type": "markdown",
   "id": "9e91628a",
   "metadata": {},
   "source": [
    "Define the grammar for chunking."
   ]
  },
  {
   "cell_type": "code",
   "execution_count": 3,
   "id": "74c1630e",
   "metadata": {},
   "outputs": [],
   "source": [
    "grammar = r\"\"\"\n",
    "  AdjP: {<RB>?<JJ|JJR|JJS|RBR|RBS>}    # Adjectives may have comparative and superlative, and come after adverbs like very\n",
    "  AdjP: {<AdjP><,>*<AdjP>*<,>*<AdjP>*<CC>?<AdjP>}    # Multiple adjectives can come in comma and 'and'\n",
    "  NP: {<DT|WDT|WP$>?<CD>?<AdjP>*<NN|NNS|NNP|NNPS><POS>*<NN|NNS|NNP|NNPS|PP|CD>*<VBG>?}    # Determiner, number and adjectives come before nouns and nouns may have possessive -s and followed by another noun\n",
    "  NP: {<PRP|EX|CD|WP|WRB|PRP$|WP$>}    # Pronouns and numbers can also replace nouns and function as one\n",
    "  PP: {<IN>?<IN>?<IN|TO><NP>}    # Prepositions come before nouns and sometimes two prepositions come together\n",
    "  NP: {<NP><PP>}    # Noun can come before prepositions, usually describing the location of the noun\n",
    "  NP: {<NP><,>*<NP>*<,>*<NP>*<CC>?<NP>}    # Multiple nouns can come in comma and 'and'\n",
    "  ToP: {<TO><VB><NP>?}    # To is both a noun phrase and an infinitive that comes before a base verb\n",
    "  VP: {<MD>?<RB>*<VB|VBD|VBP|VBZ><VB>?<VBN>?<VBN>?<VBG>?<VBN>?<RB>*<IN>?<ToP>?}    # Modal verbs come before verbs. Various tenses are formed through specific sequences of verb forms. Phrasal verbs are verbs that come with a preposition.\n",
    "  \"\"\"\n",
    "\n",
    "chunker = RegexpParser(grammar)"
   ]
  },
  {
   "cell_type": "markdown",
   "id": "2f6acee4",
   "metadata": {},
   "source": [
    "Create a function to return chunked text."
   ]
  },
  {
   "cell_type": "code",
   "execution_count": 4,
   "id": "225e6be8",
   "metadata": {},
   "outputs": [],
   "source": [
    "def chunk(corpus):\n",
    "    tagged = pos_tag(word_tokenize(corpus))\n",
    "    output = chunker.parse(tagged)\n",
    "    return str(output)"
   ]
  },
  {
   "cell_type": "markdown",
   "id": "ab41f517",
   "metadata": {},
   "source": [
    "Create a function to label the words with pos."
   ]
  },
  {
   "cell_type": "code",
   "execution_count": 5,
   "id": "49f8f89d",
   "metadata": {},
   "outputs": [],
   "source": [
    "tokenizer = PunktSentenceTokenizer()\n",
    "\n",
    "def tag_pos(corpus):\n",
    "\n",
    "    tokenized = tokenizer.tokenize(corpus)\n",
    "\n",
    "    try:\n",
    "        for sent in tokenized:\n",
    "            words = nltk.word_tokenize(sent)\n",
    "            tagged = nltk.pos_tag(words)\n",
    "            return tagged\n",
    "    except Exception as e:\n",
    "        return str(e)"
   ]
  },
  {
   "cell_type": "markdown",
   "id": "6cb6338f",
   "metadata": {},
   "source": [
    "Combine both functions and allow sentences to be generated from list and then parsed and chunked."
   ]
  },
  {
   "cell_type": "code",
   "execution_count": 6,
   "id": "944b7213",
   "metadata": {},
   "outputs": [],
   "source": [
    "def tag_and_chunk(corpus):\n",
    "    print(chunk(corpus))\n",
    "    print(tag_pos(corpus))\n",
    "    \n",
    "def t_c_list(ls, prepend=\"\", append=\"\"):\n",
    "    for p in ls:\n",
    "        sent = prepend + p + append\n",
    "        tag_and_chunk(sent)\n",
    "        print(\"\\n\")"
   ]
  },
  {
   "cell_type": "markdown",
   "id": "26ac8ff6",
   "metadata": {},
   "source": [
    "This function can modify the pos in tagged result."
   ]
  },
  {
   "cell_type": "code",
   "execution_count": 7,
   "id": "0979f165",
   "metadata": {},
   "outputs": [],
   "source": [
    "def modify_pos(sent, word, pos, no_cap=True, prev_pos=[], next_pos=[], prev_word=[], next_word=[]):\n",
    "    # Tag the sentence with pos\n",
    "    if no_cap: sent = sent.lower()\n",
    "    tagTuple = tag_pos(sent)\n",
    "    tupleIndices = [i for i, v in enumerate(tagTuple) if v[0] == word]\n",
    "    for i, t in enumerate(tupleIndices):\n",
    "        is_match = 1\n",
    "        \n",
    "        for j, pp in enumerate(prev_pos):\n",
    "            # Disqualify if any of the previous pos is different from expectation\n",
    "            curr_i = t - len(prev_pos) - j\n",
    "            if tagTuple[curr_i][1] != pp: is_match -= 1\n",
    "            \n",
    "        for k, pw in enumerate(prev_word):\n",
    "            # Disqualify if any of the previous word is different from expectation\n",
    "            curr_i = t - len(prev_word) - k\n",
    "            if tagTuple[curr_i][0] != pw: is_match -= 1\n",
    "            \n",
    "        for m, np in enumerate(next_pos):\n",
    "            # Disqualify if any of the next pos is different from expectation\n",
    "            curr_i = t + len(next_pos) - m\n",
    "            if tagTuple[curr_i][1] != np: is_match -= 1\n",
    "            \n",
    "        for n, nw in enumerate(next_word):\n",
    "            # Disqualify if any of the next word is different from expectation\n",
    "            curr_i = t + len(next_word) - n\n",
    "            if tagTuple[curr_i][0] != nw: is_match -= 1\n",
    "      \n",
    "        if is_match == 1:\n",
    "            tagTuple[tupleIndices[i]] = (word, pos)\n",
    "\n",
    "    return tagTuple"
   ]
  },
  {
   "cell_type": "markdown",
   "id": "a8a64e97",
   "metadata": {},
   "source": [
    "# Adjective Phrase"
   ]
  },
  {
   "cell_type": "code",
   "execution_count": 8,
   "id": "5d7bca84",
   "metadata": {},
   "outputs": [
    {
     "name": "stdout",
     "output_type": "stream",
     "text": [
      "(S\n",
      "  My/PRP$\n",
      "  (NP cat/NN)\n",
      "  (VP has/VBZ)\n",
      "  (NP a/DT (AdjP long/JJ) tail/NN)\n",
      "  ./.)\n",
      "[('My', 'PRP$'), ('cat', 'NN'), ('has', 'VBZ'), ('a', 'DT'), ('long', 'JJ'), ('tail', 'NN'), ('.', '.')]\n",
      "\n",
      "\n",
      "(S\n",
      "  My/PRP$\n",
      "  (NP cat/NN)\n",
      "  (VP has/VBZ)\n",
      "  (NP a/DT (AdjP longer/JJR) tail/NN)\n",
      "  ./.)\n",
      "[('My', 'PRP$'), ('cat', 'NN'), ('has', 'VBZ'), ('a', 'DT'), ('longer', 'JJR'), ('tail', 'NN'), ('.', '.')]\n",
      "\n",
      "\n",
      "(S\n",
      "  My/PRP$\n",
      "  (NP cat/NN)\n",
      "  (VP has/VBZ)\n",
      "  (NP a/DT (AdjP longest/JJ) tail/NN)\n",
      "  ./.)\n",
      "[('My', 'PRP$'), ('cat', 'NN'), ('has', 'VBZ'), ('a', 'DT'), ('longest', 'JJ'), ('tail', 'NN'), ('.', '.')]\n",
      "\n",
      "\n",
      "(S\n",
      "  My/PRP$\n",
      "  (NP cat/NN)\n",
      "  (VP has/VBZ)\n",
      "  (NP a/DT (AdjP (AdjP long/JJ) and/CC (AdjP sharp/JJ)) tail/NN)\n",
      "  ./.)\n",
      "[('My', 'PRP$'), ('cat', 'NN'), ('has', 'VBZ'), ('a', 'DT'), ('long', 'JJ'), ('and', 'CC'), ('sharp', 'JJ'), ('tail', 'NN'), ('.', '.')]\n",
      "\n",
      "\n",
      "(S\n",
      "  My/PRP$\n",
      "  (NP cat/NN)\n",
      "  (VP has/VBZ)\n",
      "  (NP\n",
      "    a/DT\n",
      "    (AdjP (AdjP long/JJ) ,/, (AdjP sharp/JJ) and/CC (AdjP bright/JJ))\n",
      "    tail/NN)\n",
      "  ./.)\n",
      "[('My', 'PRP$'), ('cat', 'NN'), ('has', 'VBZ'), ('a', 'DT'), ('long', 'JJ'), (',', ','), ('sharp', 'JJ'), ('and', 'CC'), ('bright', 'JJ'), ('tail', 'NN'), ('.', '.')]\n",
      "\n",
      "\n",
      "(S\n",
      "  My/PRP$\n",
      "  (NP cat/NN)\n",
      "  (VP has/VBZ)\n",
      "  (NP a/DT (AdjP very/RB long/JJ) tail/NN)\n",
      "  ./.)\n",
      "[('My', 'PRP$'), ('cat', 'NN'), ('has', 'VBZ'), ('a', 'DT'), ('very', 'RB'), ('long', 'JJ'), ('tail', 'NN'), ('.', '.')]\n",
      "\n",
      "\n"
     ]
    }
   ],
   "source": [
    "adjs = [\"long\", \"longer\", \"longest\", \"long and sharp\", \"long, sharp and bright\", \"very long\"]\n",
    "\n",
    "t_c_list(adjs, prepend=\"My cat has a \", append=\" tail.\")"
   ]
  },
  {
   "cell_type": "markdown",
   "id": "8fd5be7d",
   "metadata": {},
   "source": [
    "# Noun Phrase"
   ]
  },
  {
   "cell_type": "markdown",
   "id": "211a9deb",
   "metadata": {},
   "source": [
    "Samples taken from \"Linguistics for English Language Teaching: Sounds, Words, and Sentences\""
   ]
  },
  {
   "cell_type": "code",
   "execution_count": 9,
   "id": "46c00372",
   "metadata": {},
   "outputs": [
    {
     "name": "stdout",
     "output_type": "stream",
     "text": [
      "(S (NP John/NNP) (VP laughed/VBD) (PP at/IN (NP the/DT cat/NN)) ./.)\n",
      "[('John', 'NNP'), ('laughed', 'VBD'), ('at', 'IN'), ('the', 'DT'), ('cat', 'NN'), ('.', '.')]\n",
      "\n",
      "\n",
      "(S\n",
      "  (NP mailmen/NNS)\n",
      "  (VP laughed/VBD)\n",
      "  (PP at/IN (NP the/DT cat/NN))\n",
      "  ./.)\n",
      "[('mailmen', 'NNS'), ('laughed', 'VBD'), ('at', 'IN'), ('the', 'DT'), ('cat', 'NN'), ('.', '.')]\n",
      "\n",
      "\n",
      "(S\n",
      "  (NP (AdjP most/JJS) students/NNS)\n",
      "  laughed/VBN\n",
      "  (PP at/IN (NP the/DT cat/NN))\n",
      "  ./.)\n",
      "[('most', 'JJS'), ('students', 'NNS'), ('laughed', 'VBN'), ('at', 'IN'), ('the', 'DT'), ('cat', 'NN'), ('.', '.')]\n",
      "\n",
      "\n",
      "(S\n",
      "  (NP (AdjP many/JJ) Americans/NNPS)\n",
      "  laughed/VBN\n",
      "  (PP at/IN (NP the/DT cat/NN))\n",
      "  ./.)\n",
      "[('many', 'JJ'), ('Americans', 'NNPS'), ('laughed', 'VBN'), ('at', 'IN'), ('the', 'DT'), ('cat', 'NN'), ('.', '.')]\n",
      "\n",
      "\n",
      "(S\n",
      "  (NP a/DT (AdjP (AdjP huge/JJ) ,/, (AdjP loveable/JJ)) bear/NN)\n",
      "  laughed/VBN\n",
      "  (PP at/IN (NP the/DT cat/NN))\n",
      "  ./.)\n",
      "[('a', 'DT'), ('huge', 'JJ'), (',', ','), ('loveable', 'JJ'), ('bear', 'NN'), ('laughed', 'VBN'), ('at', 'IN'), ('the', 'DT'), ('cat', 'NN'), ('.', '.')]\n",
      "\n",
      "\n",
      "(S\n",
      "  (NP (NP a/DT student/NN) (PP from/IN (NP brazil/NN)))\n",
      "  laughed/VBN\n",
      "  (PP at/IN (NP the/DT cat/NN))\n",
      "  ./.)\n",
      "[('a', 'DT'), ('student', 'NN'), ('from', 'IN'), ('brazil', 'NN'), ('laughed', 'VBN'), ('at', 'IN'), ('the', 'DT'), ('cat', 'NN'), ('.', '.')]\n",
      "\n",
      "\n",
      "(S\n",
      "  (NP (NP the/DT table/NN) (PP in/IN (NP the/DT corner/NN)))\n",
      "  (VP laughed/VBD)\n",
      "  (PP at/IN (NP the/DT cat/NN))\n",
      "  ./.)\n",
      "[('the', 'DT'), ('table', 'NN'), ('in', 'IN'), ('the', 'DT'), ('corner', 'NN'), ('laughed', 'VBD'), ('at', 'IN'), ('the', 'DT'), ('cat', 'NN'), ('.', '.')]\n",
      "\n",
      "\n",
      "(S\n",
      "  (NP (NP the/DT people/NNS) (NP we/PRP))\n",
      "  (VP interviewed/VBD laughed/VBN)\n",
      "  (PP at/IN (NP the/DT cat/NN))\n",
      "  ./.)\n",
      "[('the', 'DT'), ('people', 'NNS'), ('we', 'PRP'), ('interviewed', 'VBD'), ('laughed', 'VBN'), ('at', 'IN'), ('the', 'DT'), ('cat', 'NN'), ('.', '.')]\n",
      "\n",
      "\n",
      "(S\n",
      "  (NP John/NNP)\n",
      "  and/CC\n",
      "  his/PRP$\n",
      "  (NP friends/NNS)\n",
      "  laughed/VBN\n",
      "  (PP at/IN (NP the/DT cat/NN))\n",
      "  ./.)\n",
      "[('John', 'NNP'), ('and', 'CC'), ('his', 'PRP$'), ('friends', 'NNS'), ('laughed', 'VBN'), ('at', 'IN'), ('the', 'DT'), ('cat', 'NN'), ('.', '.')]\n",
      "\n",
      "\n"
     ]
    }
   ],
   "source": [
    "noun_phrases = [ \"John\",\n",
    " \"mailmen\",\n",
    " \"most students\", \n",
    " \"many Americans\",\n",
    " \"a huge, loveable bear\",\n",
    " \"a student from brazil\",\n",
    " \"the table in the corner\",\n",
    " \"the people we interviewed\",\n",
    "\"John and his friends\"]\n",
    "\n",
    "t_c_list(noun_phrases, append=\" laughed at the cat.\")"
   ]
  },
  {
   "cell_type": "markdown",
   "id": "30c84a85",
   "metadata": {},
   "source": [
    "Oddly, pronouns (PRP$) just doesn't work in the chunking grammar, despite being specified in the noun phrase rule."
   ]
  },
  {
   "cell_type": "code",
   "execution_count": 10,
   "id": "e1e3febe",
   "metadata": {},
   "outputs": [
    {
     "name": "stdout",
     "output_type": "stream",
     "text": [
      "(S\n",
      "  (NP (NP john/NN) and/CC (NP his/DT friends/NNS))\n",
      "  laughed/VBN\n",
      "  (PP at/IN (NP the/DT cat/NN))\n",
      "  ./.)\n"
     ]
    }
   ],
   "source": [
    "print(chunker.parse(modify_pos(\"John and his friends laughed at the cat.\", \"his\", \"DT\", next_pos=[\"NNS\"])))"
   ]
  },
  {
   "cell_type": "markdown",
   "id": "3a2541f1",
   "metadata": {},
   "source": [
    "But this can be mitigated easily by making 'his' a determiner if it is followed by a noun."
   ]
  },
  {
   "cell_type": "markdown",
   "id": "b507d600",
   "metadata": {},
   "source": [
    "Samples taken from 'English Syntax: An Introduction'"
   ]
  },
  {
   "cell_type": "code",
   "execution_count": 11,
   "id": "95408c32",
   "metadata": {},
   "outputs": [
    {
     "name": "stdout",
     "output_type": "stream",
     "text": [
      "(S His/PRP$ (NP friend/NN) (VP learned/VBD) (NP dancing/NN) ./.)\n",
      "[('His', 'PRP$'), ('friend', 'NN'), ('learned', 'VBD'), ('dancing', 'NN'), ('.', '.')]\n",
      "None\n",
      "\n",
      "\n",
      "(S\n",
      "  My/PRP$\n",
      "  (NP bother/NN ’/NNP s/NN friend/NN)\n",
      "  (VP learned/VBD)\n",
      "  (NP dancing/NN)\n",
      "  ./.)\n",
      "[('My', 'PRP$'), ('bother', 'NN'), ('’', 'NNP'), ('s', 'NN'), ('friend', 'NN'), ('learned', 'VBD'), ('dancing', 'NN'), ('.', '.')]\n",
      "None\n",
      "\n",
      "\n",
      "(S\n",
      "  (NP The/DT president/NN ’/NNP)\n",
      "  (VP s/VBZ bodyguard/RB)\n",
      "  learned/VBN\n",
      "  (NP surveillance/NN)\n",
      "  ./.)\n",
      "[('The', 'DT'), ('president', 'NN'), ('’', 'NNP'), ('s', 'VBZ'), ('bodyguard', 'RB'), ('learned', 'VBN'), ('surveillance', 'NN'), ('.', '.')]\n",
      "None\n",
      "\n",
      "\n",
      "(S\n",
      "  (NP\n",
      "    (NP (NP The/DT King/NNP) (PP of/IN (NP Rock/NNP)))\n",
      "    and/CC\n",
      "    (NP Roll/NNP ’/NNP s/NN records/NNS))\n",
      "  (VP led/VBD)\n",
      "  to/TO\n",
      "  dancing/VBG\n",
      "  ./.)\n",
      "[('The', 'DT'), ('King', 'NNP'), ('of', 'IN'), ('Rock', 'NNP'), ('and', 'CC'), ('Roll', 'NNP'), ('’', 'NNP'), ('s', 'NN'), ('records', 'NNS'), ('led', 'VBD'), ('to', 'TO'), ('dancing', 'VBG'), ('.', '.')]\n",
      "None\n",
      "\n",
      "\n"
     ]
    }
   ],
   "source": [
    "sentences = [ \"His friend learned dancing.\",\n",
    " \"My bother’s friend learned dancing.\",\n",
    " \"The president’s bodyguard learned surveillance.\", \n",
    " \"The King of Rock and Roll’s records led to dancing.\"]\n",
    "\n",
    "for s in sentences:\n",
    "    print(tag_and_chunk(s))\n",
    "    print(\"\\n\")"
   ]
  },
  {
   "cell_type": "markdown",
   "id": "9ab79794",
   "metadata": {},
   "source": [
    "Possessive -s sometimes get parsed wrongly as verb, perhaps due to how 's is also the contracted form of 'is'."
   ]
  },
  {
   "cell_type": "code",
   "execution_count": 77,
   "id": "9c4d8c20",
   "metadata": {},
   "outputs": [
    {
     "name": "stdout",
     "output_type": "stream",
     "text": [
      "(S (NP his/DT friend/NN) (VP learned/VBD) (NP dancing/NN) ./.)\n",
      "(S\n",
      "  (NP the/DT president/NN ’/NNP)\n",
      "  (VP s/VBZ bodyguard/RB)\n",
      "  learned/VBN\n",
      "  (NP surveillance/NN)\n",
      "  ./.)\n"
     ]
    }
   ],
   "source": [
    "print(chunker.parse(modify_pos(\"His friend learned dancing.\", \"his\", \"DT\", next_pos=[\"NN\"])))\n",
    "print(chunker.parse(modify_pos(\"The president’s bodyguard learned surveillance.\", \"s\", \"NN\", prev_word=[\"’\"],\n",
    "                               prev_pos=[\"NN\", \"NN\"])))"
   ]
  },
  {
   "cell_type": "markdown",
   "id": "06bd8b70",
   "metadata": {},
   "source": [
    "But grammatically speaking, -s for 'is' is used with pronouns, like he's, she's. It's possible to add extra codes to differentiate -s for is or possessive."
   ]
  },
  {
   "cell_type": "markdown",
   "id": "505a3c4a",
   "metadata": {},
   "source": [
    "## Possesive Determiner\n",
    "\n",
    "Possesive determiner should be seperated from possesive pronoun. His, hers, mine is not followed by another noun, but his, her and my are."
   ]
  },
  {
   "cell_type": "code",
   "execution_count": 13,
   "id": "ddf892bc",
   "metadata": {},
   "outputs": [
    {
     "name": "stdout",
     "output_type": "stream",
     "text": [
      "(S my/PRP$ (NP friend/NN) (VP learned/VBD) (NP dancing/NN) ./.)\n",
      "[('my', 'PRP$'), ('friend', 'NN'), ('learned', 'VBD'), ('dancing', 'NN'), ('.', '.')]\n",
      "\n",
      "\n",
      "(S our/PRP$ (NP friend/NN) (VP learned/VBD) (NP dancing/NN) ./.)\n",
      "[('our', 'PRP$'), ('friend', 'NN'), ('learned', 'VBD'), ('dancing', 'NN'), ('.', '.')]\n",
      "\n",
      "\n",
      "(S your/PRP$ (NP friend/NN) (VP learned/VBD) (NP dancing/NN) ./.)\n",
      "[('your', 'PRP$'), ('friend', 'NN'), ('learned', 'VBD'), ('dancing', 'NN'), ('.', '.')]\n",
      "\n",
      "\n",
      "(S his/PRP$ (NP friend/NN) (VP learned/VBD) (NP dancing/NN) ./.)\n",
      "[('his', 'PRP$'), ('friend', 'NN'), ('learned', 'VBD'), ('dancing', 'NN'), ('.', '.')]\n",
      "\n",
      "\n",
      "(S her/PRP$ (NP friend/NN) (VP learned/VBD) (NP dancing/NN) ./.)\n",
      "[('her', 'PRP$'), ('friend', 'NN'), ('learned', 'VBD'), ('dancing', 'NN'), ('.', '.')]\n",
      "\n",
      "\n",
      "(S their/PRP$ (NP friend/NN) (VP learned/VBD) (NP dancing/NN) ./.)\n",
      "[('their', 'PRP$'), ('friend', 'NN'), ('learned', 'VBD'), ('dancing', 'NN'), ('.', '.')]\n",
      "\n",
      "\n",
      "(S its/PRP$ (NP friend/NN) (VP learned/VBD) (NP dancing/NN) ./.)\n",
      "[('its', 'PRP$'), ('friend', 'NN'), ('learned', 'VBD'), ('dancing', 'NN'), ('.', '.')]\n",
      "\n",
      "\n"
     ]
    }
   ],
   "source": [
    "pos_dets = [\"my\", \"our\", \"your\", \"his\", \"her\", \"their\", \"its\"]\n",
    "    \n",
    "t_c_list(pos_dets, append=\" friend learned dancing.\")"
   ]
  },
  {
   "cell_type": "markdown",
   "id": "e33dfe1e",
   "metadata": {},
   "source": [
    "In every instance, considering possesive determiners as pronouns causes chunking issues in noun phrase."
   ]
  },
  {
   "cell_type": "code",
   "execution_count": 78,
   "id": "db141c85",
   "metadata": {},
   "outputs": [
    {
     "name": "stdout",
     "output_type": "stream",
     "text": [
      "(S (NP his/DT friend/NN) (VP learned/VBD) (NP dancing/NN) ./.)\n",
      "(S (NP my/DT friend/NN) (VP learned/VBD) (NP dancing/NN) ./.)\n"
     ]
    }
   ],
   "source": [
    "print(chunker.parse(modify_pos(\"His friend learned dancing.\", \"his\", \"DT\", next_pos=[\"NN\"])))\n",
    "print(chunker.parse(modify_pos(\"My friend learned dancing.\", \"my\", \"DT\", next_pos=[\"NN\"])))"
   ]
  },
  {
   "cell_type": "markdown",
   "id": "6177da62",
   "metadata": {},
   "source": [
    "Despite the grammar set, there is still a need to change possessive pronouns to determiners for better noun phrase parsing."
   ]
  },
  {
   "cell_type": "markdown",
   "id": "b75c639e",
   "metadata": {},
   "source": [
    "## Compound noun and verbs as adjectives\n",
    "Refers to an object that uses two nouns and when verbs are used as adjectives."
   ]
  },
  {
   "cell_type": "code",
   "execution_count": 15,
   "id": "44adfa4b",
   "metadata": {},
   "outputs": [
    {
     "name": "stdout",
     "output_type": "stream",
     "text": [
      "(S (NP I/PRP) (VP am/VBP) (PP at/IN (NP the/DT bus/NN stop/NN)) ./.)\n",
      "[('I', 'PRP'), ('am', 'VBP'), ('at', 'IN'), ('the', 'DT'), ('bus', 'NN'), ('stop', 'NN'), ('.', '.')]\n",
      "(S (NP I/PRP) (VP live/VBP) (PP in/IN (NP Street/NNP 13/CD)) ./.)\n",
      "[('I', 'PRP'), ('live', 'VBP'), ('in', 'IN'), ('Street', 'NNP'), ('13', 'CD'), ('.', '.')]\n"
     ]
    }
   ],
   "source": [
    "tag_and_chunk(\"I am at the bus stop.\")\n",
    "tag_and_chunk(\"I live in Street 13.\")"
   ]
  },
  {
   "cell_type": "code",
   "execution_count": 16,
   "id": "b181f4fc",
   "metadata": {},
   "outputs": [
    {
     "name": "stdout",
     "output_type": "stream",
     "text": [
      "(S\n",
      "  (NP He/PRP)\n",
      "  (VP finished/VBD)\n",
      "  the/DT\n",
      "  remaining/VBG\n",
      "  (NP food/NN)\n",
      "  ./.)\n",
      "[('He', 'PRP'), ('finished', 'VBD'), ('the', 'DT'), ('remaining', 'VBG'), ('food', 'NN'), ('.', '.')]\n",
      "(S\n",
      "  (NP He/PRP)\n",
      "  (VP finished/VBD)\n",
      "  (NP the/DT food/NN remaining/VBG)\n",
      "  ./.)\n",
      "[('He', 'PRP'), ('finished', 'VBD'), ('the', 'DT'), ('food', 'NN'), ('remaining', 'VBG'), ('.', '.')]\n",
      "(S (NP He/PRP) (VP finished/VBD) (NP the/DT food/NN eaten/NN) ./.)\n",
      "[('He', 'PRP'), ('finished', 'VBD'), ('the', 'DT'), ('food', 'NN'), ('eaten', 'NN'), ('.', '.')]\n"
     ]
    }
   ],
   "source": [
    "tag_and_chunk(\"He finished the remaining food.\")\n",
    "tag_and_chunk(\"He finished the food remaining.\")\n",
    "tag_and_chunk(\"He finished the food eaten.\")"
   ]
  },
  {
   "cell_type": "markdown",
   "id": "0e85e65b",
   "metadata": {},
   "source": [
    "When 'remaining' is used to describe food, the noun phrase parsing only worked when 'remaining' comes after 'food', so as to not affect the parsing of verb phrase."
   ]
  },
  {
   "cell_type": "markdown",
   "id": "a380f9f3",
   "metadata": {},
   "source": [
    "## Demonstrative determiners"
   ]
  },
  {
   "cell_type": "code",
   "execution_count": 17,
   "id": "d68e56ef",
   "metadata": {},
   "outputs": [
    {
     "name": "stdout",
     "output_type": "stream",
     "text": [
      "(S (NP this/DT cat/NN) (VP can/MD swim/VB) ./.)\n",
      "[('this', 'DT'), ('cat', 'NN'), ('can', 'MD'), ('swim', 'VB'), ('.', '.')]\n",
      "\n",
      "\n",
      "(S (NP that/DT cat/NN) (VP can/MD swim/VB) ./.)\n",
      "[('that', 'DT'), ('cat', 'NN'), ('can', 'MD'), ('swim', 'VB'), ('.', '.')]\n",
      "\n",
      "\n"
     ]
    }
   ],
   "source": [
    "s_dem_dets = [\"this\", \"that\"]\n",
    "    \n",
    "t_c_list(s_dem_dets, append=\" cat can swim.\")"
   ]
  },
  {
   "cell_type": "code",
   "execution_count": 18,
   "id": "2c24d52f",
   "metadata": {},
   "outputs": [
    {
     "name": "stdout",
     "output_type": "stream",
     "text": [
      "(S (NP these/DT cats/NNS) (VP can/MD swim/VB) ./.)\n",
      "[('these', 'DT'), ('cats', 'NNS'), ('can', 'MD'), ('swim', 'VB'), ('.', '.')]\n",
      "\n",
      "\n",
      "(S (NP those/DT cats/NNS) (VP can/MD swim/VB) ./.)\n",
      "[('those', 'DT'), ('cats', 'NNS'), ('can', 'MD'), ('swim', 'VB'), ('.', '.')]\n",
      "\n",
      "\n"
     ]
    }
   ],
   "source": [
    "p_dem_dets = [\"these\", \"those\"]\n",
    "\n",
    "t_c_list(p_dem_dets, append=\" cats can swim.\")"
   ]
  },
  {
   "cell_type": "markdown",
   "id": "6805763b",
   "metadata": {},
   "source": [
    "No issue for demonstrative determiners."
   ]
  },
  {
   "cell_type": "markdown",
   "id": "b313f6b0",
   "metadata": {},
   "source": [
    "## Articles (Can be considered as determiners)"
   ]
  },
  {
   "cell_type": "code",
   "execution_count": 19,
   "id": "e8568dea",
   "metadata": {},
   "outputs": [
    {
     "name": "stdout",
     "output_type": "stream",
     "text": [
      "(S (NP the/DT cat/NN) (VP can/MD fly/VB) ./.)\n",
      "[('the', 'DT'), ('cat', 'NN'), ('can', 'MD'), ('fly', 'VB'), ('.', '.')]\n",
      "\n",
      "\n",
      "(S (NP a/DT cat/NN) (VP can/MD fly/VB) ./.)\n",
      "[('a', 'DT'), ('cat', 'NN'), ('can', 'MD'), ('fly', 'VB'), ('.', '.')]\n",
      "\n",
      "\n",
      "(S (NP an/DT orange/NN) (VP can/MD fly/VB) ./.)\n",
      "[('an', 'DT'), ('orange', 'NN'), ('can', 'MD'), ('fly', 'VB'), ('.', '.')]\n",
      "\n",
      "\n"
     ]
    }
   ],
   "source": [
    "art_nouns = [\"the cat\", \"a cat\", \"an orange\"]\n",
    "\n",
    "t_c_list(art_nouns, append=\" can fly.\")"
   ]
  },
  {
   "cell_type": "markdown",
   "id": "9fbf5b94",
   "metadata": {},
   "source": [
    "No issue for articles."
   ]
  },
  {
   "cell_type": "markdown",
   "id": "79624793",
   "metadata": {},
   "source": [
    "## Quantifiers (as determiners and pronouns)"
   ]
  },
  {
   "cell_type": "code",
   "execution_count": 20,
   "id": "28269dde",
   "metadata": {},
   "outputs": [
    {
     "name": "stdout",
     "output_type": "stream",
     "text": [
      "(S (NP (AdjP several/JJ) cats/NNS) (VP can/MD fly/VB) ./.)\n",
      "[('several', 'JJ'), ('cats', 'NNS'), ('can', 'MD'), ('fly', 'VB'), ('.', '.')]\n",
      "\n",
      "\n",
      "(S (NP (AdjP few/JJ) cats/NNS) (VP can/MD fly/VB) ./.)\n",
      "[('few', 'JJ'), ('cats', 'NNS'), ('can', 'MD'), ('fly', 'VB'), ('.', '.')]\n",
      "\n",
      "\n",
      "(S (NP (AdjP fewer/JJR) cats/NNS) (VP can/MD fly/VB) ./.)\n",
      "[('fewer', 'JJR'), ('cats', 'NNS'), ('can', 'MD'), ('fly', 'VB'), ('.', '.')]\n",
      "\n",
      "\n",
      "(S (NP (AdjP many/JJ) cats/NNS) (VP can/MD fly/VB) ./.)\n",
      "[('many', 'JJ'), ('cats', 'NNS'), ('can', 'MD'), ('fly', 'VB'), ('.', '.')]\n",
      "\n",
      "\n",
      "(S (NP all/DT cats/NNS) (VP can/MD fly/VB) ./.)\n",
      "[('all', 'DT'), ('cats', 'NNS'), ('can', 'MD'), ('fly', 'VB'), ('.', '.')]\n",
      "\n",
      "\n",
      "(S (NP some/DT cats/NNS) (VP can/MD fly/VB) ./.)\n",
      "[('some', 'DT'), ('cats', 'NNS'), ('can', 'MD'), ('fly', 'VB'), ('.', '.')]\n",
      "\n",
      "\n",
      "(S (NP no/DT cats/NNS) (VP can/MD fly/VB) ./.)\n",
      "[('no', 'DT'), ('cats', 'NNS'), ('can', 'MD'), ('fly', 'VB'), ('.', '.')]\n",
      "\n",
      "\n",
      "(S (NP neither/DT cats/NNS) (VP can/MD fly/VB) ./.)\n",
      "[('neither', 'DT'), ('cats', 'NNS'), ('can', 'MD'), ('fly', 'VB'), ('.', '.')]\n",
      "\n",
      "\n",
      "(S (NP either/DT cats/NNS) (VP can/MD fly/VB) ./.)\n",
      "[('either', 'DT'), ('cats', 'NNS'), ('can', 'MD'), ('fly', 'VB'), ('.', '.')]\n",
      "\n",
      "\n",
      "(S enough/RB (NP cats/NNS) (VP can/MD fly/VB) ./.)\n",
      "[('enough', 'RB'), ('cats', 'NNS'), ('can', 'MD'), ('fly', 'VB'), ('.', '.')]\n",
      "\n",
      "\n",
      "(S (NP (AdjP other/JJ) cats/NNS) (VP can/MD fly/VB) ./.)\n",
      "[('other', 'JJ'), ('cats', 'NNS'), ('can', 'MD'), ('fly', 'VB'), ('.', '.')]\n",
      "\n",
      "\n",
      "(S (NP both/DT cats/NNS) (VP can/MD fly/VB) ./.)\n",
      "[('both', 'DT'), ('cats', 'NNS'), ('can', 'MD'), ('fly', 'VB'), ('.', '.')]\n",
      "\n",
      "\n"
     ]
    }
   ],
   "source": [
    "p_quantifiers = [\"several\", \"few\", \"fewer\", \"many\", \"all\", \"some\", \"no\", \"neither\", \"either\", \"enough\", \"other\", \"both\"]\n",
    "\n",
    "t_c_list(p_quantifiers, append=\" cats can fly.\")"
   ]
  },
  {
   "cell_type": "code",
   "execution_count": 21,
   "id": "6cfe3ef6",
   "metadata": {},
   "outputs": [
    {
     "name": "stdout",
     "output_type": "stream",
     "text": [
      "(S (AdjP several/JJ) (VP can/MD fly/VB) ./.)\n",
      "[('several', 'JJ'), ('can', 'MD'), ('fly', 'VB'), ('.', '.')]\n",
      "\n",
      "\n",
      "(S (AdjP few/JJ) (VP can/MD fly/VB) ./.)\n",
      "[('few', 'JJ'), ('can', 'MD'), ('fly', 'VB'), ('.', '.')]\n",
      "\n",
      "\n",
      "(S (AdjP fewer/JJR) (VP can/MD fly/VB) ./.)\n",
      "[('fewer', 'JJR'), ('can', 'MD'), ('fly', 'VB'), ('.', '.')]\n",
      "\n",
      "\n",
      "(S (AdjP many/JJ) (VP can/MD fly/VB) ./.)\n",
      "[('many', 'JJ'), ('can', 'MD'), ('fly', 'VB'), ('.', '.')]\n",
      "\n",
      "\n",
      "(S all/DT (VP can/MD fly/VB) ./.)\n",
      "[('all', 'DT'), ('can', 'MD'), ('fly', 'VB'), ('.', '.')]\n",
      "\n",
      "\n",
      "(S some/DT (VP can/MD fly/VB) ./.)\n",
      "[('some', 'DT'), ('can', 'MD'), ('fly', 'VB'), ('.', '.')]\n",
      "\n",
      "\n",
      "(S no/DT (VP can/MD fly/VB) ./.)\n",
      "[('no', 'DT'), ('can', 'MD'), ('fly', 'VB'), ('.', '.')]\n",
      "\n",
      "\n",
      "(S neither/DT (VP can/MD fly/VB) ./.)\n",
      "[('neither', 'DT'), ('can', 'MD'), ('fly', 'VB'), ('.', '.')]\n",
      "\n",
      "\n",
      "(S either/CC (VP can/MD fly/VB) ./.)\n",
      "[('either', 'CC'), ('can', 'MD'), ('fly', 'VB'), ('.', '.')]\n",
      "\n",
      "\n",
      "(S enough/RB (VP can/MD fly/VB) ./.)\n",
      "[('enough', 'RB'), ('can', 'MD'), ('fly', 'VB'), ('.', '.')]\n",
      "\n",
      "\n",
      "(S (AdjP other/JJ) (VP can/MD fly/VB) ./.)\n",
      "[('other', 'JJ'), ('can', 'MD'), ('fly', 'VB'), ('.', '.')]\n",
      "\n",
      "\n",
      "(S both/DT (VP can/MD fly/VB) ./.)\n",
      "[('both', 'DT'), ('can', 'MD'), ('fly', 'VB'), ('.', '.')]\n",
      "\n",
      "\n"
     ]
    }
   ],
   "source": [
    "t_c_list(p_quantifiers, append=\" can fly.\")"
   ]
  },
  {
   "cell_type": "code",
   "execution_count": 22,
   "id": "bb67ee6c",
   "metadata": {},
   "outputs": [
    {
     "name": "stdout",
     "output_type": "stream",
     "text": [
      "(S (NP every/DT cat/NN) (VP can/MD fly/VB) ./.)\n",
      "[('every', 'DT'), ('cat', 'NN'), ('can', 'MD'), ('fly', 'VB'), ('.', '.')]\n",
      "\n",
      "\n",
      "(S (NP each/DT cat/NN) (VP can/MD fly/VB) ./.)\n",
      "[('each', 'DT'), ('cat', 'NN'), ('can', 'MD'), ('fly', 'VB'), ('.', '.')]\n",
      "\n",
      "\n",
      "(S (NP any/DT cat/NN) (VP can/MD fly/VB) ./.)\n",
      "[('any', 'DT'), ('cat', 'NN'), ('can', 'MD'), ('fly', 'VB'), ('.', '.')]\n",
      "\n",
      "\n",
      "(S (NP another/DT cat/NN) (VP can/MD fly/VB) ./.)\n",
      "[('another', 'DT'), ('cat', 'NN'), ('can', 'MD'), ('fly', 'VB'), ('.', '.')]\n",
      "\n",
      "\n"
     ]
    }
   ],
   "source": [
    "s_quantifiers = [\"every\", \"each\", \"any\", \"another\"]\n",
    "\n",
    "t_c_list(s_quantifiers, append=\" cat can fly.\")"
   ]
  },
  {
   "cell_type": "code",
   "execution_count": 23,
   "id": "55f4683f",
   "metadata": {},
   "outputs": [
    {
     "name": "stdout",
     "output_type": "stream",
     "text": [
      "(S every/DT (VP can/MD fly/VB) ./.)\n",
      "[('every', 'DT'), ('can', 'MD'), ('fly', 'VB'), ('.', '.')]\n",
      "\n",
      "\n",
      "(S each/DT (VP can/MD fly/VB) ./.)\n",
      "[('each', 'DT'), ('can', 'MD'), ('fly', 'VB'), ('.', '.')]\n",
      "\n",
      "\n",
      "(S any/DT (VP can/MD fly/VB) ./.)\n",
      "[('any', 'DT'), ('can', 'MD'), ('fly', 'VB'), ('.', '.')]\n",
      "\n",
      "\n",
      "(S another/DT (VP can/MD fly/VB) ./.)\n",
      "[('another', 'DT'), ('can', 'MD'), ('fly', 'VB'), ('.', '.')]\n",
      "\n",
      "\n"
     ]
    }
   ],
   "source": [
    "t_c_list(s_quantifiers, append=\" can fly.\")"
   ]
  },
  {
   "cell_type": "code",
   "execution_count": 24,
   "id": "640ac174",
   "metadata": {},
   "outputs": [
    {
     "name": "stdout",
     "output_type": "stream",
     "text": [
      "(S (NP (AdjP little/JJ) water/NN) (VP is/VBZ needed/VBN) ./.)\n",
      "[('little', 'JJ'), ('water', 'NN'), ('is', 'VBZ'), ('needed', 'VBN'), ('.', '.')]\n",
      "\n",
      "\n",
      "(S (NP (AdjP much/JJ) water/NN) (VP is/VBZ needed/VBN) ./.)\n",
      "[('much', 'JJ'), ('water', 'NN'), ('is', 'VBZ'), ('needed', 'VBN'), ('.', '.')]\n",
      "\n",
      "\n"
     ]
    }
   ],
   "source": [
    "u_quantifiers = [\"little\", \"much\"]\n",
    "\n",
    "t_c_list(u_quantifiers, append=\" water is needed.\")"
   ]
  },
  {
   "cell_type": "code",
   "execution_count": 25,
   "id": "5e2d97d0",
   "metadata": {},
   "outputs": [
    {
     "name": "stdout",
     "output_type": "stream",
     "text": [
      "(S (AdjP little/JJ) (VP is/VBZ needed/VBN) ./.)\n",
      "[('little', 'JJ'), ('is', 'VBZ'), ('needed', 'VBN'), ('.', '.')]\n",
      "\n",
      "\n",
      "(S (AdjP much/JJ) (VP is/VBZ needed/VBN) ./.)\n",
      "[('much', 'JJ'), ('is', 'VBZ'), ('needed', 'VBN'), ('.', '.')]\n",
      "\n",
      "\n"
     ]
    }
   ],
   "source": [
    "t_c_list(u_quantifiers, append=\" is needed.\")"
   ]
  },
  {
   "cell_type": "markdown",
   "id": "ca4adc5d",
   "metadata": {},
   "source": [
    "Most of the quantifiers are treated as adjectives or determiners, which led to accurate noun phrase parsing. Only 'enough' is considered as adverb."
   ]
  },
  {
   "cell_type": "code",
   "execution_count": 26,
   "id": "782fe969",
   "metadata": {},
   "outputs": [
    {
     "name": "stdout",
     "output_type": "stream",
     "text": [
      "(S\n",
      "  (NP (NP a/DT lot/NN) (PP of/IN (NP the/DT cats/NNS)))\n",
      "  (VP ate/VBP)\n",
      "  ./.)\n",
      "[('a', 'DT'), ('lot', 'NN'), ('of', 'IN'), ('the', 'DT'), ('cats', 'NNS'), ('ate', 'VBP'), ('.', '.')]\n",
      "\n",
      "\n",
      "(S\n",
      "  (NP (NP a/DT number/NN) (PP of/IN (NP the/DT cats/NNS)))\n",
      "  (VP ate/VBP)\n",
      "  ./.)\n",
      "[('a', 'DT'), ('number', 'NN'), ('of', 'IN'), ('the', 'DT'), ('cats', 'NNS'), ('ate', 'VBP'), ('.', '.')]\n",
      "\n",
      "\n",
      "(S (AdjP many/JJ) (PP of/IN (NP the/DT cats/NNS)) (VP ate/VBP) ./.)\n",
      "[('many', 'JJ'), ('of', 'IN'), ('the', 'DT'), ('cats', 'NNS'), ('ate', 'VBP'), ('.', '.')]\n",
      "\n",
      "\n",
      "(S some/DT (PP of/IN (NP the/DT cats/NNS)) (VP ate/VBP) ./.)\n",
      "[('some', 'DT'), ('of', 'IN'), ('the', 'DT'), ('cats', 'NNS'), ('ate', 'VBP'), ('.', '.')]\n",
      "\n",
      "\n",
      "(S\n",
      "  (NP (NP none/NN) (PP of/IN (NP the/DT cats/NNS)))\n",
      "  (VP ate/VBP)\n",
      "  ./.)\n",
      "[('none', 'NN'), ('of', 'IN'), ('the', 'DT'), ('cats', 'NNS'), ('ate', 'VBP'), ('.', '.')]\n",
      "\n",
      "\n",
      "(S any/DT (PP of/IN (NP the/DT cats/NNS)) (VP ate/VBP) ./.)\n",
      "[('any', 'DT'), ('of', 'IN'), ('the', 'DT'), ('cats', 'NNS'), ('ate', 'VBP'), ('.', '.')]\n",
      "\n",
      "\n",
      "(S\n",
      "  (AdjP several/JJ)\n",
      "  (PP of/IN (NP the/DT cats/NNS))\n",
      "  (VP ate/VBP)\n",
      "  ./.)\n",
      "[('several', 'JJ'), ('of', 'IN'), ('the', 'DT'), ('cats', 'NNS'), ('ate', 'VBP'), ('.', '.')]\n",
      "\n",
      "\n",
      "(S (AdjP most/JJS) (PP of/IN (NP the/DT cats/NNS)) (VP ate/VBP) ./.)\n",
      "[('most', 'JJS'), ('of', 'IN'), ('the', 'DT'), ('cats', 'NNS'), ('ate', 'VBP'), ('.', '.')]\n",
      "\n",
      "\n",
      "(S (AdjP few/JJ) (PP of/IN (NP the/DT cats/NNS)) (VP ate/VBP) ./.)\n",
      "[('few', 'JJ'), ('of', 'IN'), ('the', 'DT'), ('cats', 'NNS'), ('ate', 'VBP'), ('.', '.')]\n",
      "\n",
      "\n",
      "(S each/DT (PP of/IN (NP the/DT cats/NNS)) (VP ate/VBP) ./.)\n",
      "[('each', 'DT'), ('of', 'IN'), ('the', 'DT'), ('cats', 'NNS'), ('ate', 'VBP'), ('.', '.')]\n",
      "\n",
      "\n",
      "(S both/DT (PP of/IN (NP the/DT cats/NNS)) (VP ate/VBP) ./.)\n",
      "[('both', 'DT'), ('of', 'IN'), ('the', 'DT'), ('cats', 'NNS'), ('ate', 'VBP'), ('.', '.')]\n",
      "\n",
      "\n"
     ]
    }
   ],
   "source": [
    "c_quan_with_of = [\"a lot\", \"a number\", \"many\", \"some\", \"none\", \"any\", \"several\", \"most\", \"few\", \"each\", \"both\"]\n",
    "\n",
    "t_c_list(c_quan_with_of, append=\" of the cats ate.\")"
   ]
  },
  {
   "cell_type": "code",
   "execution_count": 27,
   "id": "662c0d98",
   "metadata": {},
   "outputs": [
    {
     "name": "stdout",
     "output_type": "stream",
     "text": [
      "(S much/RB (PP of/IN (NP the/DT water/NN)) (VP is/VBZ left/VBN) ./.)\n",
      "[('much', 'RB'), ('of', 'IN'), ('the', 'DT'), ('water', 'NN'), ('is', 'VBZ'), ('left', 'VBN'), ('.', '.')]\n",
      "\n",
      "\n",
      "(S\n",
      "  a/DT\n",
      "  (AdjP little/JJ)\n",
      "  (PP of/IN (NP the/DT water/NN))\n",
      "  (VP is/VBZ left/VBN)\n",
      "  ./.)\n",
      "[('a', 'DT'), ('little', 'JJ'), ('of', 'IN'), ('the', 'DT'), ('water', 'NN'), ('is', 'VBZ'), ('left', 'VBN'), ('.', '.')]\n",
      "\n",
      "\n"
     ]
    }
   ],
   "source": [
    "u_quan_with_of = [\"much\", \"a little\"]\n",
    "\n",
    "t_c_list(u_quan_with_of, append=\" of the water is left.\")"
   ]
  },
  {
   "cell_type": "markdown",
   "id": "250c0c5e",
   "metadata": {},
   "source": [
    "A {noun1} of {noun2} can be treated as (NP a/DT {noun1}/NN (PP of/IN (NP the/DT {noun2}/NN))). Even though in the grammar variable at the beginning, NP's definition included PP, PP is only defined after NP. Thus, it is unable to include the 'of the {noun2}' into the first noun phrase."
   ]
  },
  {
   "cell_type": "markdown",
   "id": "9b93b657",
   "metadata": {},
   "source": [
    "## Personal Pronouns (Subject)\n",
    "\n",
    "In general, pronouns should be able to be replaced by nouns easily, because they refer to actual nouns."
   ]
  },
  {
   "cell_type": "code",
   "execution_count": 28,
   "id": "f3c3d4a7",
   "metadata": {},
   "outputs": [
    {
     "name": "stdout",
     "output_type": "stream",
     "text": [
      "(S (NP I/PRP) (VP will/MD eat/VB) (NP the/DT cake/NN) ./.)\n",
      "[('I', 'PRP'), ('will', 'MD'), ('eat', 'VB'), ('the', 'DT'), ('cake', 'NN'), ('.', '.')]\n",
      "\n",
      "\n",
      "(S (NP you/PRP) (VP will/MD eat/VB) (NP the/DT cake/NN) ./.)\n",
      "[('you', 'PRP'), ('will', 'MD'), ('eat', 'VB'), ('the', 'DT'), ('cake', 'NN'), ('.', '.')]\n",
      "\n",
      "\n",
      "(S (NP he/PRP) (VP will/MD eat/VB) (NP the/DT cake/NN) ./.)\n",
      "[('he', 'PRP'), ('will', 'MD'), ('eat', 'VB'), ('the', 'DT'), ('cake', 'NN'), ('.', '.')]\n",
      "\n",
      "\n",
      "(S (NP she/PRP) (VP will/MD eat/VB) (NP the/DT cake/NN) ./.)\n",
      "[('she', 'PRP'), ('will', 'MD'), ('eat', 'VB'), ('the', 'DT'), ('cake', 'NN'), ('.', '.')]\n",
      "\n",
      "\n",
      "(S (NP it/PRP) (VP will/MD eat/VB) (NP the/DT cake/NN) ./.)\n",
      "[('it', 'PRP'), ('will', 'MD'), ('eat', 'VB'), ('the', 'DT'), ('cake', 'NN'), ('.', '.')]\n",
      "\n",
      "\n",
      "(S (NP we/PRP) (VP will/MD eat/VB) (NP the/DT cake/NN) ./.)\n",
      "[('we', 'PRP'), ('will', 'MD'), ('eat', 'VB'), ('the', 'DT'), ('cake', 'NN'), ('.', '.')]\n",
      "\n",
      "\n",
      "(S (NP they/PRP) (VP will/MD eat/VB) (NP the/DT cake/NN) ./.)\n",
      "[('they', 'PRP'), ('will', 'MD'), ('eat', 'VB'), ('the', 'DT'), ('cake', 'NN'), ('.', '.')]\n",
      "\n",
      "\n",
      "(S (NP one/CD) (VP will/MD eat/VB) (NP the/DT cake/NN) ./.)\n",
      "[('one', 'CD'), ('will', 'MD'), ('eat', 'VB'), ('the', 'DT'), ('cake', 'NN'), ('.', '.')]\n",
      "\n",
      "\n"
     ]
    }
   ],
   "source": [
    "person_obj_pn = [\"I\", \"you\", \"he\", \"she\", \"it\", \"we\", \"they\", \"one\"]\n",
    "\n",
    "t_c_list(person_obj_pn, append=\" will eat the cake.\")"
   ]
  },
  {
   "cell_type": "markdown",
   "id": "a8c590bc",
   "metadata": {},
   "source": [
    "Technically, pronouns can be considered a noun phrase. Also, 'one' can also be a pronoun, in addition to being a cardinal digit."
   ]
  },
  {
   "cell_type": "markdown",
   "id": "0d4b572e",
   "metadata": {},
   "source": [
    "## Personal Pronoun (Object)"
   ]
  },
  {
   "cell_type": "code",
   "execution_count": 29,
   "id": "0fc26f21",
   "metadata": {},
   "outputs": [
    {
     "name": "stdout",
     "output_type": "stream",
     "text": [
      "(S (NP Ahmad/NNP) (VP befriends/VBZ) (NP me/PRP))\n",
      "[('Ahmad', 'NNP'), ('befriends', 'VBZ'), ('me', 'PRP')]\n",
      "\n",
      "\n",
      "(S (NP Ahmad/NNP) (VP befriends/VBZ) (NP you/PRP))\n",
      "[('Ahmad', 'NNP'), ('befriends', 'VBZ'), ('you', 'PRP')]\n",
      "\n",
      "\n",
      "(S (NP Ahmad/NNP) (VP befriends/VBZ) (NP him/PRP))\n",
      "[('Ahmad', 'NNP'), ('befriends', 'VBZ'), ('him', 'PRP')]\n",
      "\n",
      "\n",
      "(S (NP Ahmad/NNP) (VP befriends/VBZ) her/PRP$)\n",
      "[('Ahmad', 'NNP'), ('befriends', 'VBZ'), ('her', 'PRP$')]\n",
      "\n",
      "\n",
      "(S (NP Ahmad/NNP) (VP befriends/VBZ) (NP it/PRP))\n",
      "[('Ahmad', 'NNP'), ('befriends', 'VBZ'), ('it', 'PRP')]\n",
      "\n",
      "\n",
      "(S (NP Ahmad/NNP) (VP befriends/VBZ) (NP us/PRP))\n",
      "[('Ahmad', 'NNP'), ('befriends', 'VBZ'), ('us', 'PRP')]\n",
      "\n",
      "\n",
      "(S (NP Ahmad/NNP) (VP befriends/VBZ) (NP them/PRP))\n",
      "[('Ahmad', 'NNP'), ('befriends', 'VBZ'), ('them', 'PRP')]\n",
      "\n",
      "\n",
      "(S (NP Ahmad/NNP) (VP befriends/VBZ) (NP one/CD))\n",
      "[('Ahmad', 'NNP'), ('befriends', 'VBZ'), ('one', 'CD')]\n",
      "\n",
      "\n"
     ]
    }
   ],
   "source": [
    "person_obj_pn = [\"me\", \"you\", \"him\", \"her\", \"it\", \"us\", \"them\", \"one\"]\n",
    "\n",
    "t_c_list(person_obj_pn, prepend=\"Ahmad befriends \")"
   ]
  },
  {
   "cell_type": "markdown",
   "id": "14be32e5",
   "metadata": {},
   "source": [
    "No issues found."
   ]
  },
  {
   "cell_type": "markdown",
   "id": "09a814a8",
   "metadata": {},
   "source": [
    "## Reflexive Pronoun"
   ]
  },
  {
   "cell_type": "code",
   "execution_count": 30,
   "id": "6ac499ba",
   "metadata": {},
   "outputs": [
    {
     "name": "stdout",
     "output_type": "stream",
     "text": [
      "(S Helping/VBG (NP myself/PRP))\n",
      "[('Helping', 'VBG'), ('myself', 'PRP')]\n",
      "\n",
      "\n",
      "(S Helping/VBG (NP youself/PRP))\n",
      "[('Helping', 'VBG'), ('youself', 'PRP')]\n",
      "\n",
      "\n",
      "(S Helping/VBG (NP yourselves/NNS))\n",
      "[('Helping', 'VBG'), ('yourselves', 'NNS')]\n",
      "\n",
      "\n",
      "(S Helping/VBG (NP himself/PRP))\n",
      "[('Helping', 'VBG'), ('himself', 'PRP')]\n",
      "\n",
      "\n",
      "(S Helping/VBG (NP herself/PRP))\n",
      "[('Helping', 'VBG'), ('herself', 'PRP')]\n",
      "\n",
      "\n",
      "(S Helping/VBG (NP itself/PRP))\n",
      "[('Helping', 'VBG'), ('itself', 'PRP')]\n",
      "\n",
      "\n",
      "(S Helping/VBG (NP ourselves/PRP))\n",
      "[('Helping', 'VBG'), ('ourselves', 'PRP')]\n",
      "\n",
      "\n",
      "(S Helping/VBG (NP themselves/PRP))\n",
      "[('Helping', 'VBG'), ('themselves', 'PRP')]\n",
      "\n",
      "\n",
      "(S Helping/VBG (NP oneself/PRP))\n",
      "[('Helping', 'VBG'), ('oneself', 'PRP')]\n",
      "\n",
      "\n"
     ]
    }
   ],
   "source": [
    "person_obj_pn = [\"myself\", \"youself\", \"yourselves\", \"himself\", \"herself\", \"itself\", \"ourselves\", \"themselves\", \"oneself\"]\n",
    "\n",
    "t_c_list(person_obj_pn, prepend=\"Helping \")"
   ]
  },
  {
   "cell_type": "markdown",
   "id": "1a05bf9a",
   "metadata": {},
   "source": [
    "No issues found."
   ]
  },
  {
   "cell_type": "markdown",
   "id": "394501cf",
   "metadata": {},
   "source": [
    "## Possessive Pronouns"
   ]
  },
  {
   "cell_type": "code",
   "execution_count": 31,
   "id": "c7a92810",
   "metadata": {},
   "outputs": [
    {
     "name": "stdout",
     "output_type": "stream",
     "text": [
      "(S (NP This/DT cat/NN) (VP is/VBZ) (AdjP mine/JJ))\n",
      "[('This', 'DT'), ('cat', 'NN'), ('is', 'VBZ'), ('mine', 'JJ')]\n",
      "\n",
      "\n",
      "(S (NP This/DT cat/NN) (VP is/VBZ) (NP yours/NNS))\n",
      "[('This', 'DT'), ('cat', 'NN'), ('is', 'VBZ'), ('yours', 'NNS')]\n",
      "\n",
      "\n",
      "(S (NP This/DT cat/NN) (VP is/VBZ) his/PRP$)\n",
      "[('This', 'DT'), ('cat', 'NN'), ('is', 'VBZ'), ('his', 'PRP$')]\n",
      "\n",
      "\n",
      "(S (NP This/DT cat/NN) (VP is/VBZ) (NP hers/NNS))\n",
      "[('This', 'DT'), ('cat', 'NN'), ('is', 'VBZ'), ('hers', 'NNS')]\n",
      "\n",
      "\n",
      "(S (NP This/DT cat/NN) (VP is/VBZ) its/PRP$)\n",
      "[('This', 'DT'), ('cat', 'NN'), ('is', 'VBZ'), ('its', 'PRP$')]\n",
      "\n",
      "\n",
      "(S (NP This/DT cat/NN) (VP is/VBZ) (AdjP ours/JJ))\n",
      "[('This', 'DT'), ('cat', 'NN'), ('is', 'VBZ'), ('ours', 'JJ')]\n",
      "\n",
      "\n",
      "(S (NP This/DT cat/NN) (VP is/VBZ) (AdjP theirs/JJ))\n",
      "[('This', 'DT'), ('cat', 'NN'), ('is', 'VBZ'), ('theirs', 'JJ')]\n",
      "\n",
      "\n"
     ]
    }
   ],
   "source": [
    "poss_pn = [\"mine\", \"yours\", \"his\", \"hers\", \"its\", \"ours\", \"theirs\"]\n",
    "\n",
    "t_c_list(poss_pn, prepend=\"This cat is \")"
   ]
  },
  {
   "cell_type": "markdown",
   "id": "20ac22d1",
   "metadata": {},
   "source": [
    "'His' can be a determiner or a pronoun, causing parsing error."
   ]
  },
  {
   "cell_type": "markdown",
   "id": "c409bffc",
   "metadata": {},
   "source": [
    "## Indefinite Pronouns"
   ]
  },
  {
   "cell_type": "code",
   "execution_count": 32,
   "id": "da076dc3",
   "metadata": {},
   "outputs": [
    {
     "name": "stdout",
     "output_type": "stream",
     "text": [
      "(S (NP I/PRP) (VP will/MD help/VB) (NP none/NN))\n",
      "[('I', 'PRP'), ('will', 'MD'), ('help', 'VB'), ('none', 'NN')]\n",
      "\n",
      "\n",
      "(S (NP I/PRP) (VP will/MD help/VB) (NP nobody/NN))\n",
      "[('I', 'PRP'), ('will', 'MD'), ('help', 'VB'), ('nobody', 'NN')]\n",
      "\n",
      "\n",
      "(S (NP I/PRP) (VP will/MD help/VB) (NP everyone/NN))\n",
      "[('I', 'PRP'), ('will', 'MD'), ('help', 'VB'), ('everyone', 'NN')]\n",
      "\n",
      "\n",
      "(S (NP I/PRP) (VP will/MD help/VB) (NP everybody/NN))\n",
      "[('I', 'PRP'), ('will', 'MD'), ('help', 'VB'), ('everybody', 'NN')]\n",
      "\n",
      "\n",
      "(S (NP I/PRP) (VP will/MD help/VB) (NP someone/NN))\n",
      "[('I', 'PRP'), ('will', 'MD'), ('help', 'VB'), ('someone', 'NN')]\n",
      "\n",
      "\n",
      "(S (NP I/PRP) (VP will/MD help/VB) (NP somebody/NN))\n",
      "[('I', 'PRP'), ('will', 'MD'), ('help', 'VB'), ('somebody', 'NN')]\n",
      "\n",
      "\n",
      "(S (NP I/PRP) (VP will/MD help/VB) (NP anyone/NN))\n",
      "[('I', 'PRP'), ('will', 'MD'), ('help', 'VB'), ('anyone', 'NN')]\n",
      "\n",
      "\n",
      "(S (NP I/PRP) (VP will/MD help/VB) (NP anybody/NN))\n",
      "[('I', 'PRP'), ('will', 'MD'), ('help', 'VB'), ('anybody', 'NN')]\n",
      "\n",
      "\n",
      "(S (NP I/PRP) (VP will/MD help/VB) (NP nothing/NN))\n",
      "[('I', 'PRP'), ('will', 'MD'), ('help', 'VB'), ('nothing', 'NN')]\n",
      "\n",
      "\n",
      "(S (NP I/PRP) (VP will/MD help/VB) (NP everything/NN))\n",
      "[('I', 'PRP'), ('will', 'MD'), ('help', 'VB'), ('everything', 'NN')]\n",
      "\n",
      "\n",
      "(S (NP I/PRP) (VP will/MD help/VB) (NP something/NN))\n",
      "[('I', 'PRP'), ('will', 'MD'), ('help', 'VB'), ('something', 'NN')]\n",
      "\n",
      "\n",
      "(S (NP I/PRP) (VP will/MD help/VB) (NP anything/NN))\n",
      "[('I', 'PRP'), ('will', 'MD'), ('help', 'VB'), ('anything', 'NN')]\n",
      "\n",
      "\n",
      "(S (NP I/PRP) (VP will/MD help/VB) each/DT)\n",
      "[('I', 'PRP'), ('will', 'MD'), ('help', 'VB'), ('each', 'DT')]\n",
      "\n",
      "\n",
      "(S (NP I/PRP) (VP will/MD help/VB) whatever/WDT)\n",
      "[('I', 'PRP'), ('will', 'MD'), ('help', 'VB'), ('whatever', 'WDT')]\n",
      "\n",
      "\n",
      "(S (NP I/PRP) (VP will/MD help/VB whichever/VB))\n",
      "[('I', 'PRP'), ('will', 'MD'), ('help', 'VB'), ('whichever', 'VB')]\n",
      "\n",
      "\n",
      "(S (NP I/PRP) (VP will/MD help/VB whoever/VB))\n",
      "[('I', 'PRP'), ('will', 'MD'), ('help', 'VB'), ('whoever', 'VB')]\n",
      "\n",
      "\n",
      "(S (NP I/PRP) (VP will/MD help/VB whomever/VB))\n",
      "[('I', 'PRP'), ('will', 'MD'), ('help', 'VB'), ('whomever', 'VB')]\n",
      "\n",
      "\n",
      "(S (NP I/PRP) (VP will/MD help/VB whomsoever/VB))\n",
      "[('I', 'PRP'), ('will', 'MD'), ('help', 'VB'), ('whomsoever', 'VB')]\n",
      "\n",
      "\n",
      "(S (NP I/PRP) (VP will/MD help/VB whosoever/VB))\n",
      "[('I', 'PRP'), ('will', 'MD'), ('help', 'VB'), ('whosoever', 'VB')]\n",
      "\n",
      "\n",
      "(S (NP I/PRP) (VP will/MD help/VB) (NP others/NNS))\n",
      "[('I', 'PRP'), ('will', 'MD'), ('help', 'VB'), ('others', 'NNS')]\n",
      "\n",
      "\n",
      "(S (NP I/PRP) (VP will/MD help/VB) neither/CC)\n",
      "[('I', 'PRP'), ('will', 'MD'), ('help', 'VB'), ('neither', 'CC')]\n",
      "\n",
      "\n",
      "(S (NP I/PRP) (VP will/MD help/VB) both/DT)\n",
      "[('I', 'PRP'), ('will', 'MD'), ('help', 'VB'), ('both', 'DT')]\n",
      "\n",
      "\n",
      "(S (NP I/PRP) (VP will/MD help/VB) either/CC)\n",
      "[('I', 'PRP'), ('will', 'MD'), ('help', 'VB'), ('either', 'CC')]\n",
      "\n",
      "\n",
      "(S (NP I/PRP) (VP will/MD help/VB) any/DT)\n",
      "[('I', 'PRP'), ('will', 'MD'), ('help', 'VB'), ('any', 'DT')]\n",
      "\n",
      "\n"
     ]
    }
   ],
   "source": [
    "indef_pn = [ \"none\", \"nobody\", \"everyone\", \"everybody\", \"someone\", \"somebody\", \"anyone\", \"anybody\", \"nothing\",\n",
    "\"everything\", \"something\", \"anything\", \"each\", \"whatever\", \"whichever\", \"whoever\", \"whomever\",\n",
    "\"whomsoever\", \"whosoever\", \"others\", \"neither\", \"both\", \"either\", \"any\"]\n",
    "\n",
    "t_c_list(indef_pn, prepend=\"I will help \")"
   ]
  },
  {
   "cell_type": "markdown",
   "id": "aa09a196",
   "metadata": {},
   "source": [
    "About half of the sentences have their noun phrases parsed correctly. In the other half, some are determiners, which can often also function as pronouns. This is similar to the coordinating conjunction, either and neither. Most of the pronouns that end with -ever are wrongly labelled as verbs."
   ]
  },
  {
   "cell_type": "markdown",
   "id": "a7f8e78b",
   "metadata": {},
   "source": [
    "## \"Existential there\""
   ]
  },
  {
   "cell_type": "code",
   "execution_count": 33,
   "id": "a3322183",
   "metadata": {},
   "outputs": [
    {
     "name": "stdout",
     "output_type": "stream",
     "text": [
      "(S (NP there/EX) (VP are/VBP) (NP the/DT cats/NNS) ./.)\n",
      "[('there', 'EX'), ('are', 'VBP'), ('the', 'DT'), ('cats', 'NNS'), ('.', '.')]\n",
      "\n",
      "\n",
      "(S (VP here/RB are/VBP) (NP the/DT cats/NNS) ./.)\n",
      "[('here', 'RB'), ('are', 'VBP'), ('the', 'DT'), ('cats', 'NNS'), ('.', '.')]\n",
      "\n",
      "\n"
     ]
    }
   ],
   "source": [
    "ex_there = [\"there\", \"here\"]\n",
    "\n",
    "t_c_list(ex_there, append=\" are the cats.\")"
   ]
  },
  {
   "cell_type": "code",
   "execution_count": 34,
   "id": "aed6c409",
   "metadata": {},
   "outputs": [
    {
     "name": "stdout",
     "output_type": "stream",
     "text": [
      "(S (VP Here/RB are/VBP) (NP the/DT cats/NNS) ./.)\n",
      "[('Here', 'RB'), ('are', 'VBP'), ('the', 'DT'), ('cats', 'NNS'), ('.', '.')]\n",
      "(S (NP Dogs/NNS) (VP are/VBP) (NP the/DT cats/NNS) ./.)\n",
      "[('Dogs', 'NNS'), ('are', 'VBP'), ('the', 'DT'), ('cats', 'NNS'), ('.', '.')]\n"
     ]
    }
   ],
   "source": [
    "tag_and_chunk(\"Here are the cats.\")\n",
    "tag_and_chunk(\"Dogs are the cats.\")"
   ]
  },
  {
   "cell_type": "markdown",
   "id": "f09e7333",
   "metadata": {},
   "source": [
    "'Here' and 'there' can also function like pronouns."
   ]
  },
  {
   "cell_type": "markdown",
   "id": "b6aaf982",
   "metadata": {},
   "source": [
    "## Multiple nouns"
   ]
  },
  {
   "cell_type": "code",
   "execution_count": 35,
   "id": "516b48a3",
   "metadata": {},
   "outputs": [
    {
     "name": "stdout",
     "output_type": "stream",
     "text": [
      "(S\n",
      "  (NP (NP Edwin/NNP) and/CC (NP Sally/NNP))\n",
      "  (VP are/VBP)\n",
      "  (NP (AdjP best/JJS) friends/NNS)\n",
      "  ./.)\n",
      "[('Edwin', 'NNP'), ('and', 'CC'), ('Sally', 'NNP'), ('are', 'VBP'), ('best', 'JJS'), ('friends', 'NNS'), ('.', '.')]\n",
      "(S\n",
      "  (NP\n",
      "    (NP Edwin/NNP)\n",
      "    ,/,\n",
      "    (NP John/NNP)\n",
      "    ,/,\n",
      "    (NP Sally/NNP)\n",
      "    and/CC\n",
      "    (NP I/PRP))\n",
      "  (VP are/VBP)\n",
      "  (NP (AdjP best/JJ) friends/NNS)\n",
      "  ./.)\n",
      "[('Edwin', 'NNP'), (',', ','), ('John', 'NNP'), (',', ','), ('Sally', 'NNP'), ('and', 'CC'), ('I', 'PRP'), ('are', 'VBP'), ('best', 'JJ'), ('friends', 'NNS'), ('.', '.')]\n",
      "(S\n",
      "  (NP (NP Edwin/NNP) and/CC (NP the/DT three/CD cats/NNS))\n",
      "  (VP are/VBP)\n",
      "  (NP (AdjP best/JJS) friends/NNS)\n",
      "  ./.)\n",
      "[('Edwin', 'NNP'), ('and', 'CC'), ('the', 'DT'), ('three', 'CD'), ('cats', 'NNS'), ('are', 'VBP'), ('best', 'JJS'), ('friends', 'NNS'), ('.', '.')]\n"
     ]
    }
   ],
   "source": [
    "tag_and_chunk(\"Edwin and Sally are best friends.\")\n",
    "tag_and_chunk(\"Edwin, John, Sally and I are best friends.\")\n",
    "tag_and_chunk(\"Edwin and the three cats are best friends.\")"
   ]
  },
  {
   "cell_type": "markdown",
   "id": "e8fa8ad1",
   "metadata": {},
   "source": [
    "## Prepositional phrase"
   ]
  },
  {
   "cell_type": "code",
   "execution_count": 36,
   "id": "158dd5bc",
   "metadata": {},
   "outputs": [
    {
     "name": "stdout",
     "output_type": "stream",
     "text": [
      "(S (NP Jibby/NNP) (VP is/VBZ) (PP about/IN (NP the/DT law/NN)) ./.)\n",
      "[('Jibby', 'NNP'), ('is', 'VBZ'), ('about', 'IN'), ('the', 'DT'), ('law', 'NN'), ('.', '.')]\n",
      "\n",
      "\n",
      "(S (NP Jibby/NNP) (VP is/VBZ) (PP above/IN (NP the/DT law/NN)) ./.)\n",
      "[('Jibby', 'NNP'), ('is', 'VBZ'), ('above', 'IN'), ('the', 'DT'), ('law', 'NN'), ('.', '.')]\n",
      "\n",
      "\n",
      "(S (NP Jibby/NNP) (VP is/VBZ) (PP across/IN (NP the/DT law/NN)) ./.)\n",
      "[('Jibby', 'NNP'), ('is', 'VBZ'), ('across', 'IN'), ('the', 'DT'), ('law', 'NN'), ('.', '.')]\n",
      "\n",
      "\n",
      "(S (NP Jibby/NNP) (VP is/VBZ) (PP along/IN (NP the/DT law/NN)) ./.)\n",
      "[('Jibby', 'NNP'), ('is', 'VBZ'), ('along', 'IN'), ('the', 'DT'), ('law', 'NN'), ('.', '.')]\n",
      "\n",
      "\n",
      "(S (NP Jibby/NNP) (VP is/VBZ alongside/RB) (NP the/DT law/NN) ./.)\n",
      "[('Jibby', 'NNP'), ('is', 'VBZ'), ('alongside', 'RB'), ('the', 'DT'), ('law', 'NN'), ('.', '.')]\n",
      "\n",
      "\n",
      "(S (NP Jibby/NNP) (VP is/VBZ) (PP among/IN (NP the/DT law/NN)) ./.)\n",
      "[('Jibby', 'NNP'), ('is', 'VBZ'), ('among', 'IN'), ('the', 'DT'), ('law', 'NN'), ('.', '.')]\n",
      "\n",
      "\n",
      "(S (NP Jibby/NNP) (VP is/VBZ) (PP around/IN (NP the/DT law/NN)) ./.)\n",
      "[('Jibby', 'NNP'), ('is', 'VBZ'), ('around', 'IN'), ('the', 'DT'), ('law', 'NN'), ('.', '.')]\n",
      "\n",
      "\n",
      "(S (NP Jibby/NNP) (VP is/VBZ) (PP at/IN (NP the/DT law/NN)) ./.)\n",
      "[('Jibby', 'NNP'), ('is', 'VBZ'), ('at', 'IN'), ('the', 'DT'), ('law', 'NN'), ('.', '.')]\n",
      "\n",
      "\n",
      "(S (NP Jibby/NNP) (VP is/VBZ) (PP before/IN (NP the/DT law/NN)) ./.)\n",
      "[('Jibby', 'NNP'), ('is', 'VBZ'), ('before', 'IN'), ('the', 'DT'), ('law', 'NN'), ('.', '.')]\n",
      "\n",
      "\n",
      "(S (NP Jibby/NNP) (VP is/VBZ) (PP behind/IN (NP the/DT law/NN)) ./.)\n",
      "[('Jibby', 'NNP'), ('is', 'VBZ'), ('behind', 'IN'), ('the', 'DT'), ('law', 'NN'), ('.', '.')]\n",
      "\n",
      "\n",
      "(S (NP Jibby/NNP) (VP is/VBZ) (PP below/IN (NP the/DT law/NN)) ./.)\n",
      "[('Jibby', 'NNP'), ('is', 'VBZ'), ('below', 'IN'), ('the', 'DT'), ('law', 'NN'), ('.', '.')]\n",
      "\n",
      "\n",
      "(S (NP Jibby/NNP) (VP is/VBZ) (PP beneath/IN (NP the/DT law/NN)) ./.)\n",
      "[('Jibby', 'NNP'), ('is', 'VBZ'), ('beneath', 'IN'), ('the', 'DT'), ('law', 'NN'), ('.', '.')]\n",
      "\n",
      "\n",
      "(S (NP Jibby/NNP) (VP is/VBZ) (PP beside/IN (NP the/DT law/NN)) ./.)\n",
      "[('Jibby', 'NNP'), ('is', 'VBZ'), ('beside', 'IN'), ('the', 'DT'), ('law', 'NN'), ('.', '.')]\n",
      "\n",
      "\n",
      "(S (NP Jibby/NNP) (VP is/VBZ) (PP between/IN (NP the/DT law/NN)) ./.)\n",
      "[('Jibby', 'NNP'), ('is', 'VBZ'), ('between', 'IN'), ('the', 'DT'), ('law', 'NN'), ('.', '.')]\n",
      "\n",
      "\n",
      "(S (NP Jibby/NNP) (VP is/VBZ) (PP beyond/IN (NP the/DT law/NN)) ./.)\n",
      "[('Jibby', 'NNP'), ('is', 'VBZ'), ('beyond', 'IN'), ('the', 'DT'), ('law', 'NN'), ('.', '.')]\n",
      "\n",
      "\n",
      "(S (NP Jibby/NNP) (VP is/VBZ) (PP by/IN (NP the/DT law/NN)) ./.)\n",
      "[('Jibby', 'NNP'), ('is', 'VBZ'), ('by', 'IN'), ('the', 'DT'), ('law', 'NN'), ('.', '.')]\n",
      "\n",
      "\n",
      "(S (NP Jibby/NNP) (VP is/VBZ) down/RP (NP the/DT law/NN) ./.)\n",
      "[('Jibby', 'NNP'), ('is', 'VBZ'), ('down', 'RP'), ('the', 'DT'), ('law', 'NN'), ('.', '.')]\n",
      "\n",
      "\n",
      "(S (NP Jibby/NNP) (VP is/VBZ) (PP from/IN (NP the/DT law/NN)) ./.)\n",
      "[('Jibby', 'NNP'), ('is', 'VBZ'), ('from', 'IN'), ('the', 'DT'), ('law', 'NN'), ('.', '.')]\n",
      "\n",
      "\n",
      "(S (NP Jibby/NNP) (VP is/VBZ) (PP in/IN (NP the/DT law/NN)) ./.)\n",
      "[('Jibby', 'NNP'), ('is', 'VBZ'), ('in', 'IN'), ('the', 'DT'), ('law', 'NN'), ('.', '.')]\n",
      "\n",
      "\n",
      "(S (NP Jibby/NNP) (VP is/VBZ) (PP inside/IN (NP the/DT law/NN)) ./.)\n",
      "[('Jibby', 'NNP'), ('is', 'VBZ'), ('inside', 'IN'), ('the', 'DT'), ('law', 'NN'), ('.', '.')]\n",
      "\n",
      "\n",
      "(S (NP Jibby/NNP) (VP is/VBZ) (PP into/IN (NP the/DT law/NN)) ./.)\n",
      "[('Jibby', 'NNP'), ('is', 'VBZ'), ('into', 'IN'), ('the', 'DT'), ('law', 'NN'), ('.', '.')]\n",
      "\n",
      "\n",
      "(S (NP Jibby/NNP) (VP is/VBZ) (PP near/IN (NP the/DT law/NN)) ./.)\n",
      "[('Jibby', 'NNP'), ('is', 'VBZ'), ('near', 'IN'), ('the', 'DT'), ('law', 'NN'), ('.', '.')]\n",
      "\n",
      "\n",
      "(S (NP Jibby/NNP) (VP is/VBZ) (PP off/IN (NP the/DT law/NN)) ./.)\n",
      "[('Jibby', 'NNP'), ('is', 'VBZ'), ('off', 'IN'), ('the', 'DT'), ('law', 'NN'), ('.', '.')]\n",
      "\n",
      "\n",
      "(S (NP Jibby/NNP) (VP is/VBZ) (PP on/IN (NP the/DT law/NN)) ./.)\n",
      "[('Jibby', 'NNP'), ('is', 'VBZ'), ('on', 'IN'), ('the', 'DT'), ('law', 'NN'), ('.', '.')]\n",
      "\n",
      "\n",
      "(S (NP Jibby/NNP) (VP is/VBZ opposite/RB) (NP the/DT law/NN) ./.)\n",
      "[('Jibby', 'NNP'), ('is', 'VBZ'), ('opposite', 'RB'), ('the', 'DT'), ('law', 'NN'), ('.', '.')]\n",
      "\n",
      "\n",
      "(S (NP Jibby/NNP) (VP is/VBZ) (PP outside/IN (NP the/DT law/NN)) ./.)\n",
      "[('Jibby', 'NNP'), ('is', 'VBZ'), ('outside', 'IN'), ('the', 'DT'), ('law', 'NN'), ('.', '.')]\n",
      "\n",
      "\n",
      "(S (NP Jibby/NNP) (VP is/VBZ) (PP over/IN (NP the/DT law/NN)) ./.)\n",
      "[('Jibby', 'NNP'), ('is', 'VBZ'), ('over', 'IN'), ('the', 'DT'), ('law', 'NN'), ('.', '.')]\n",
      "\n",
      "\n",
      "(S (NP Jibby/NNP) (VP is/VBZ) (PP past/IN (NP the/DT law/NN)) ./.)\n",
      "[('Jibby', 'NNP'), ('is', 'VBZ'), ('past', 'IN'), ('the', 'DT'), ('law', 'NN'), ('.', '.')]\n",
      "\n",
      "\n",
      "(S (NP Jibby/NNP) (VP is/VBZ round/VBN) (NP the/DT law/NN) ./.)\n",
      "[('Jibby', 'NNP'), ('is', 'VBZ'), ('round', 'VBN'), ('the', 'DT'), ('law', 'NN'), ('.', '.')]\n",
      "\n",
      "\n",
      "(S (NP Jibby/NN) (VP is/VBZ) (PP through/IN (NP the/DT law/NN)) ./.)\n",
      "[('Jibby', 'NN'), ('is', 'VBZ'), ('through', 'IN'), ('the', 'DT'), ('law', 'NN'), ('.', '.')]\n",
      "\n",
      "\n",
      "(S\n",
      "  (NP Jibby/NNP)\n",
      "  (VP is/VBZ)\n",
      "  (PP throughout/IN (NP the/DT law/NN))\n",
      "  ./.)\n",
      "[('Jibby', 'NNP'), ('is', 'VBZ'), ('throughout', 'IN'), ('the', 'DT'), ('law', 'NN'), ('.', '.')]\n",
      "\n",
      "\n",
      "(S (NP Jibby/NNP) (VP is/VBZ) (PP toward/IN (NP the/DT law/NN)) ./.)\n",
      "[('Jibby', 'NNP'), ('is', 'VBZ'), ('toward', 'IN'), ('the', 'DT'), ('law', 'NN'), ('.', '.')]\n",
      "\n",
      "\n",
      "(S (NP Jibby/NNP) (VP is/VBZ) (PP towards/IN (NP the/DT law/NN)) ./.)\n",
      "[('Jibby', 'NNP'), ('is', 'VBZ'), ('towards', 'IN'), ('the', 'DT'), ('law', 'NN'), ('.', '.')]\n",
      "\n",
      "\n",
      "(S (NP Jibby/NNP) (VP is/VBZ) (PP under/IN (NP the/DT law/NN)) ./.)\n",
      "[('Jibby', 'NNP'), ('is', 'VBZ'), ('under', 'IN'), ('the', 'DT'), ('law', 'NN'), ('.', '.')]\n",
      "\n",
      "\n",
      "(S\n",
      "  (NP Jibby/NNP)\n",
      "  (VP is/VBZ)\n",
      "  (PP underneath/IN (NP the/DT law/NN))\n",
      "  ./.)\n",
      "[('Jibby', 'NNP'), ('is', 'VBZ'), ('underneath', 'IN'), ('the', 'DT'), ('law', 'NN'), ('.', '.')]\n",
      "\n",
      "\n",
      "(S (NP Jibby/NN) (VP is/VBZ) up/RP (NP the/DT law/NN) ./.)\n",
      "[('Jibby', 'NN'), ('is', 'VBZ'), ('up', 'RP'), ('the', 'DT'), ('law', 'NN'), ('.', '.')]\n",
      "\n",
      "\n",
      "(S (NP Jibby/NNP) (VP is/VBZ) (PP within/IN (NP the/DT law/NN)) ./.)\n",
      "[('Jibby', 'NNP'), ('is', 'VBZ'), ('within', 'IN'), ('the', 'DT'), ('law', 'NN'), ('.', '.')]\n",
      "\n",
      "\n",
      "(S (NP Jibby/NNP) (VP is/VBZ) (PP to/TO (NP the/DT law/NN)) ./.)\n",
      "[('Jibby', 'NNP'), ('is', 'VBZ'), ('to', 'TO'), ('the', 'DT'), ('law', 'NN'), ('.', '.')]\n",
      "\n",
      "\n",
      "(S (NP Jibby/NNP) (VP is/VBZ) (PP upon/IN (NP the/DT law/NN)) ./.)\n",
      "[('Jibby', 'NNP'), ('is', 'VBZ'), ('upon', 'IN'), ('the', 'DT'), ('law', 'NN'), ('.', '.')]\n",
      "\n",
      "\n"
     ]
    }
   ],
   "source": [
    "single_word_prep = [\"about\", \"above\", \"across\", \"along\", \"alongside\", \"among\", \"around\", \"at\", \"before\", \"behind\", \"below\",\n",
    "\"beneath\", \"beside\", \"between\", \"beyond\", \"by\", \"down\", \"from\", \"in\", \"inside\", \"into\", \"near\", \"off\", \"on\", \"opposite\",\n",
    "\"outside\", \"over\", \"past\", \"round\", \"through\", \"throughout\", \"toward\", \"towards\", \"under\", \"underneath\", \"up\", \"within\", \"to\",\n",
    "\"upon\"]\n",
    "\n",
    "t_c_list(single_word_prep, prepend=\"Jibby is \", append=\" the law.\")"
   ]
  },
  {
   "cell_type": "markdown",
   "id": "f5007a24",
   "metadata": {},
   "source": [
    "Most of the prepositional phrases were parsed correctly, except for those that can also serve as adverbs, such as 'up' and 'down'."
   ]
  },
  {
   "cell_type": "code",
   "execution_count": 37,
   "id": "3629b09b",
   "metadata": {},
   "outputs": [
    {
     "name": "stdout",
     "output_type": "stream",
     "text": [
      "(S (NP jibby/NN) (VP is/VBZ) (PP opposite/IN (NP the/DT law/NN)) ./.)\n",
      "(S (NP jibby/NN) (VP is/VBZ) (PP up/IN (NP the/DT law/NN)) ./.)\n",
      "(S (NP jibby/NN) (VP is/VBZ) (PP down/IN (NP the/DT law/NN)) ./.)\n"
     ]
    }
   ],
   "source": [
    "print(chunker.parse(modify_pos(\"Jibby is opposite the law.\", \"opposite\", \"IN\")))\n",
    "print(chunker.parse(modify_pos(\"Jibby is up the law.\", \"up\", \"IN\")))\n",
    "print(chunker.parse(modify_pos(\"Jibby is down the law.\", \"down\", \"IN\")))"
   ]
  },
  {
   "cell_type": "markdown",
   "id": "888834bc",
   "metadata": {},
   "source": [
    "With the function defined earlier, the tagged part of speech can be changed and lead to a different chunking result."
   ]
  },
  {
   "cell_type": "code",
   "execution_count": 38,
   "id": "ff7c1d02",
   "metadata": {},
   "outputs": [
    {
     "name": "stdout",
     "output_type": "stream",
     "text": [
      "(S\n",
      "  (NP Jibby/NNP)\n",
      "  (VP is/VBZ)\n",
      "  (PP across/IN from/IN (NP the/DT law/NN))\n",
      "  ./.)\n",
      "[('Jibby', 'NNP'), ('is', 'VBZ'), ('across', 'IN'), ('from', 'IN'), ('the', 'DT'), ('law', 'NN'), ('.', '.')]\n",
      "\n",
      "\n",
      "(S\n",
      "  (NP Jibby/NNP)\n",
      "  (VP is/VBZ ahead/RB)\n",
      "  (PP of/IN (NP the/DT law/NN))\n",
      "  ./.)\n",
      "[('Jibby', 'NNP'), ('is', 'VBZ'), ('ahead', 'RB'), ('of', 'IN'), ('the', 'DT'), ('law', 'NN'), ('.', '.')]\n",
      "\n",
      "\n",
      "(S\n",
      "  (NP Jibby/NNP)\n",
      "  (VP is/VBZ away/RB)\n",
      "  (PP from/IN (NP the/DT law/NN))\n",
      "  ./.)\n",
      "[('Jibby', 'NNP'), ('is', 'VBZ'), ('away', 'RB'), ('from', 'IN'), ('the', 'DT'), ('law', 'NN'), ('.', '.')]\n",
      "\n",
      "\n",
      "(S\n",
      "  (NP Jibby/NNP)\n",
      "  (VP is/VBZ close/RB)\n",
      "  (PP by/IN (NP the/DT law/NN))\n",
      "  ./.)\n",
      "[('Jibby', 'NNP'), ('is', 'VBZ'), ('close', 'RB'), ('by', 'IN'), ('the', 'DT'), ('law', 'NN'), ('.', '.')]\n",
      "\n",
      "\n",
      "(S\n",
      "  (NP Jibby/NNP)\n",
      "  (VP is/VBZ close/RB)\n",
      "  (PP to/TO (NP the/DT law/NN))\n",
      "  ./.)\n",
      "[('Jibby', 'NNP'), ('is', 'VBZ'), ('close', 'RB'), ('to', 'TO'), ('the', 'DT'), ('law', 'NN'), ('.', '.')]\n",
      "\n",
      "\n",
      "(S\n",
      "  (NP Jibby/NNP)\n",
      "  (VP is/VBZ)\n",
      "  (PP in/IN between/IN (NP the/DT law/NN))\n",
      "  ./.)\n",
      "[('Jibby', 'NNP'), ('is', 'VBZ'), ('in', 'IN'), ('between', 'IN'), ('the', 'DT'), ('law', 'NN'), ('.', '.')]\n",
      "\n",
      "\n",
      "(S\n",
      "  (NP Jibby/NNP)\n",
      "  (VP is/VBZ)\n",
      "  (PP in/IN (NP front/NN))\n",
      "  (PP of/IN (NP the/DT law/NN))\n",
      "  ./.)\n",
      "[('Jibby', 'NNP'), ('is', 'VBZ'), ('in', 'IN'), ('front', 'NN'), ('of', 'IN'), ('the', 'DT'), ('law', 'NN'), ('.', '.')]\n",
      "\n",
      "\n",
      "(S\n",
      "  (NP Jibby/NNP)\n",
      "  (VP is/VBZ)\n",
      "  (PP near/IN to/TO (NP the/DT law/NN))\n",
      "  ./.)\n",
      "[('Jibby', 'NNP'), ('is', 'VBZ'), ('near', 'IN'), ('to', 'TO'), ('the', 'DT'), ('law', 'NN'), ('.', '.')]\n",
      "\n",
      "\n",
      "(S\n",
      "  (NP Jibby/NNP)\n",
      "  (VP is/VBZ)\n",
      "  (AdjP next/JJ)\n",
      "  (PP to/TO (NP the/DT law/NN))\n",
      "  ./.)\n",
      "[('Jibby', 'NNP'), ('is', 'VBZ'), ('next', 'JJ'), ('to', 'TO'), ('the', 'DT'), ('law', 'NN'), ('.', '.')]\n",
      "\n",
      "\n",
      "(S\n",
      "  (NP Jibby/NNP)\n",
      "  (VP is/VBZ)\n",
      "  (PP on/IN (NP top/NN))\n",
      "  (PP of/IN (NP the/DT law/NN))\n",
      "  ./.)\n",
      "[('Jibby', 'NNP'), ('is', 'VBZ'), ('on', 'IN'), ('top', 'NN'), ('of', 'IN'), ('the', 'DT'), ('law', 'NN'), ('.', '.')]\n",
      "\n",
      "\n",
      "(S\n",
      "  (NP Jibby/NNP)\n",
      "  (VP is/VBZ)\n",
      "  (PP out/IN of/IN (NP the/DT law/NN))\n",
      "  ./.)\n",
      "[('Jibby', 'NNP'), ('is', 'VBZ'), ('out', 'IN'), ('of', 'IN'), ('the', 'DT'), ('law', 'NN'), ('.', '.')]\n",
      "\n",
      "\n"
     ]
    }
   ],
   "source": [
    "multi_word_prep = [\"across from\", \"ahead of\", \"away from\", \"close by\", \"close to\", \"in between\", \"in front of\",\n",
    "                   \"near to\", \"next to\", \"on top of\", \"out of\"]\n",
    "\n",
    "t_c_list(multi_word_prep, prepend=\"Jibby is \", append=\" the law.\")"
   ]
  },
  {
   "cell_type": "markdown",
   "id": "bdb68184",
   "metadata": {},
   "source": [
    "Sometimes prepositions can be chained together. The parsing can also be done, except when the second preposition is also considered as an adverb."
   ]
  },
  {
   "cell_type": "code",
   "execution_count": 39,
   "id": "3da7cd71",
   "metadata": {},
   "outputs": [
    {
     "name": "stdout",
     "output_type": "stream",
     "text": [
      "(S\n",
      "  (NP jibby/NN)\n",
      "  (VP is/VBZ)\n",
      "  (PP ahead/IN of/IN (NP the/DT law/NN))\n",
      "  ./.)\n",
      "(S\n",
      "  (NP jibby/NN)\n",
      "  (VP is/VBZ)\n",
      "  (PP away/IN from/IN (NP the/DT law/NN))\n",
      "  ./.)\n",
      "(S\n",
      "  (NP jibby/NN)\n",
      "  (VP is/VBZ)\n",
      "  (PP in/IN front/IN of/IN (NP the/DT law/NN))\n",
      "  ./.)\n",
      "(S\n",
      "  (NP jibby/NN)\n",
      "  (VP is/VBZ)\n",
      "  (PP next/IN to/TO (NP the/DT law/NN))\n",
      "  ./.)\n",
      "(S\n",
      "  (NP jibby/NN)\n",
      "  (VP is/VBZ)\n",
      "  (PP on/IN top/IN of/IN (NP the/DT law/NN))\n",
      "  ./.)\n"
     ]
    }
   ],
   "source": [
    "print(chunker.parse(modify_pos(\"Jibby is ahead of the law.\", \"ahead\", \"IN\")))\n",
    "print(chunker.parse(modify_pos(\"Jibby is away from the law.\", \"away\", \"IN\")))\n",
    "print(chunker.parse(modify_pos(\"Jibby is in front of the law.\", \"front\", \"IN\", prev_word=[\"in\"], next_word=[\"of\"])))\n",
    "print(chunker.parse(modify_pos(\"Jibby is next to the law.\", \"next\", \"IN\", next_word=[\"to\"])))\n",
    "print(chunker.parse(modify_pos(\"Jibby is on top of the law.\", \"top\", \"IN\", prev_word=[\"on\"], next_word=[\"of\"])))"
   ]
  },
  {
   "cell_type": "markdown",
   "id": "795802dd",
   "metadata": {},
   "source": [
    "The function also works for very spcecific cases like prepositional phrases with multiple prepositions."
   ]
  },
  {
   "cell_type": "markdown",
   "id": "2c32f40a",
   "metadata": {},
   "source": [
    "# Verb Phrases"
   ]
  },
  {
   "cell_type": "markdown",
   "id": "c2b77cb5",
   "metadata": {},
   "source": [
    "## Modal Auxilary"
   ]
  },
  {
   "cell_type": "code",
   "execution_count": 40,
   "id": "9b507239",
   "metadata": {},
   "outputs": [
    {
     "name": "stdout",
     "output_type": "stream",
     "text": [
      "(S (NP Cat/NNP) (VP can/MD fly/VB) ./.)\n",
      "[('Cat', 'NNP'), ('can', 'MD'), ('fly', 'VB'), ('.', '.')]\n",
      "\n",
      "\n",
      "(S (NP Cat/NNP) (VP can/MD not/RB fly/VB) ./.)\n",
      "[('Cat', 'NNP'), ('can', 'MD'), ('not', 'RB'), ('fly', 'VB'), ('.', '.')]\n",
      "\n",
      "\n",
      "(S (NP Cat/NNP) (VP could/MD fly/VB) ./.)\n",
      "[('Cat', 'NNP'), ('could', 'MD'), ('fly', 'VB'), ('.', '.')]\n",
      "\n",
      "\n",
      "(S (NP Cat/NNP) (VP could/MD n't/RB fly/VB) ./.)\n",
      "[('Cat', 'NNP'), ('could', 'MD'), (\"n't\", 'RB'), ('fly', 'VB'), ('.', '.')]\n",
      "\n",
      "\n",
      "(S (NP Cat/NNP) (VP ca/MD n't/RB fly/VB) ./.)\n",
      "[('Cat', 'NNP'), ('ca', 'MD'), (\"n't\", 'RB'), ('fly', 'VB'), ('.', '.')]\n",
      "\n",
      "\n",
      "(S (NP Cat/NNP) (VP may/MD fly/VB) ./.)\n",
      "[('Cat', 'NNP'), ('may', 'MD'), ('fly', 'VB'), ('.', '.')]\n",
      "\n",
      "\n",
      "(S (NP Cat/NN) (VP might/MD fly/VB) ./.)\n",
      "[('Cat', 'NN'), ('might', 'MD'), ('fly', 'VB'), ('.', '.')]\n",
      "\n",
      "\n",
      "(S (NP Cat/NNP) (VP must/MD fly/VB) ./.)\n",
      "[('Cat', 'NNP'), ('must', 'MD'), ('fly', 'VB'), ('.', '.')]\n",
      "\n",
      "\n",
      "(S (NP Cat/NNP) (VP ought/MD fly/VB) ./.)\n",
      "[('Cat', 'NNP'), ('ought', 'MD'), ('fly', 'VB'), ('.', '.')]\n",
      "\n",
      "\n",
      "(S (NP Cat/NNP) (VP shall/MD fly/VB) ./.)\n",
      "[('Cat', 'NNP'), ('shall', 'MD'), ('fly', 'VB'), ('.', '.')]\n",
      "\n",
      "\n",
      "(S (NP Cat/NNP) (VP should/MD fly/VB) ./.)\n",
      "[('Cat', 'NNP'), ('should', 'MD'), ('fly', 'VB'), ('.', '.')]\n",
      "\n",
      "\n",
      "(S (NP Cat/NNP) (VP will/MD fly/VB) ./.)\n",
      "[('Cat', 'NNP'), ('will', 'MD'), ('fly', 'VB'), ('.', '.')]\n",
      "\n",
      "\n",
      "(S (NP Cat/NNP) (VP would/MD fly/VB) ./.)\n",
      "[('Cat', 'NNP'), ('would', 'MD'), ('fly', 'VB'), ('.', '.')]\n",
      "\n",
      "\n",
      "(S (NP Cat/NNP) (VP would/MD n't/RB fly/VB) ./.)\n",
      "[('Cat', 'NNP'), ('would', 'MD'), (\"n't\", 'RB'), ('fly', 'VB'), ('.', '.')]\n",
      "\n",
      "\n"
     ]
    }
   ],
   "source": [
    "mod_aux = [\"can\", \"cannot\", \"could\", \"couldn't\", \"can't\", \"may\", \"might\", \"must\", \"ought\", \"shall\", \"should\",\n",
    "           \"will\", \"would\", \"wouldn't\"]\n",
    "\n",
    "t_c_list(mod_aux, prepend=\"Cat \", append=\" fly.\")"
   ]
  },
  {
   "cell_type": "markdown",
   "id": "d2615f30",
   "metadata": {},
   "source": [
    "The modal verbs are parsed into their main verbs as verb phrases, except when there is a 'not' in between."
   ]
  },
  {
   "cell_type": "code",
   "execution_count": 41,
   "id": "46923a95",
   "metadata": {},
   "outputs": [
    {
     "name": "stdout",
     "output_type": "stream",
     "text": [
      "(S\n",
      "  (NP (NP Ali/NNP 's/POS) (NP (AdjP favourite/JJ) drink/NN))\n",
      "  (VP is/VBZ)\n",
      "  (AdjP tea/JJ)\n",
      "  ./.)\n",
      "[('Ali', 'NNP'), (\"'s\", 'POS'), ('favourite', 'JJ'), ('drink', 'NN'), ('is', 'VBZ'), ('tea', 'JJ'), ('.', '.')]\n",
      "(S (NP Ali/NNP 's/POS drink/NN) (VP is/VBZ) (AdjP tea/JJ) ./.)\n",
      "[('Ali', 'NNP'), (\"'s\", 'POS'), ('drink', 'NN'), ('is', 'VBZ'), ('tea', 'JJ'), ('.', '.')]\n",
      "(S (NP He/PRP) (VP 's/VBZ) my/PRP$ (NP brother/NN) ./.)\n",
      "[('He', 'PRP'), (\"'s\", 'VBZ'), ('my', 'PRP$'), ('brother', 'NN'), ('.', '.')]\n"
     ]
    }
   ],
   "source": [
    "tag_and_chunk(\"Ali's favourite drink is tea.\")\n",
    "tag_and_chunk(\"Ali's drink is tea.\")\n",
    "tag_and_chunk(\"He's my brother.\")"
   ]
  },
  {
   "cell_type": "markdown",
   "id": "05ccc6da",
   "metadata": {},
   "source": [
    "Possessive 's can also be parsed in noun phrase, except it there is an adjective in between. However, the library is able to distinguish between possessive 's and contraction 's."
   ]
  },
  {
   "cell_type": "markdown",
   "id": "2f20e085",
   "metadata": {},
   "source": [
    "## Be, do, have and tenses\n",
    "These can be both main and auxilary verbs"
   ]
  },
  {
   "cell_type": "markdown",
   "id": "0fe5da67",
   "metadata": {},
   "source": [
    "## Simple present, simple past, present continuous, past continuous, simple present (passive), simple past (passive), present continuous (passive), past continous (passive)"
   ]
  },
  {
   "cell_type": "code",
   "execution_count": 42,
   "id": "07a74300",
   "metadata": {},
   "outputs": [
    {
     "name": "stdout",
     "output_type": "stream",
     "text": [
      "(S (NP I/PRP) (VP am/VBP cat/RB) ./.)\n",
      "[('I', 'PRP'), ('am', 'VBP'), ('cat', 'RB'), ('.', '.')]\n",
      "\n",
      "\n",
      "(S (NP I/PRP) (VP was/VBD) (NP cat/NN) ./.)\n",
      "[('I', 'PRP'), ('was', 'VBD'), ('cat', 'NN'), ('.', '.')]\n",
      "\n",
      "\n",
      "(S (NP I/PRP) (VP was'nt/VBP) (NP cat/NN) ./.)\n",
      "[('I', 'PRP'), (\"was'nt\", 'VBP'), ('cat', 'NN'), ('.', '.')]\n",
      "\n",
      "\n",
      "(S (NP I/PRP) (VP am/VBP cleaned/VBN) ./.)\n",
      "[('I', 'PRP'), ('am', 'VBP'), ('cleaned', 'VBN'), ('.', '.')]\n",
      "\n",
      "\n",
      "(S (NP I/PRP) (VP was/VBD cleaned/VBN) ./.)\n",
      "[('I', 'PRP'), ('was', 'VBD'), ('cleaned', 'VBN'), ('.', '.')]\n",
      "\n",
      "\n",
      "(S (NP I/PRP) (VP was'nt/VBP cleaned/VBN) ./.)\n",
      "[('I', 'PRP'), (\"was'nt\", 'VBP'), ('cleaned', 'VBN'), ('.', '.')]\n",
      "\n",
      "\n",
      "(S (NP I/PRP) (VP am/VBP cleaning/VBG) ./.)\n",
      "[('I', 'PRP'), ('am', 'VBP'), ('cleaning', 'VBG'), ('.', '.')]\n",
      "\n",
      "\n",
      "(S (NP I/PRP) (VP was/VBD cleaning/VBG) ./.)\n",
      "[('I', 'PRP'), ('was', 'VBD'), ('cleaning', 'VBG'), ('.', '.')]\n",
      "\n",
      "\n",
      "(S (NP I/PRP) (VP was'nt/VBP cleaning/VBG) ./.)\n",
      "[('I', 'PRP'), (\"was'nt\", 'VBP'), ('cleaning', 'VBG'), ('.', '.')]\n",
      "\n",
      "\n",
      "(S (NP I/PRP) (VP am/VBP being/VBG cleaned/VBN) ./.)\n",
      "[('I', 'PRP'), ('am', 'VBP'), ('being', 'VBG'), ('cleaned', 'VBN'), ('.', '.')]\n",
      "\n",
      "\n",
      "(S (NP I/PRP) (VP was/VBD being/VBG cleaned/VBN) ./.)\n",
      "[('I', 'PRP'), ('was', 'VBD'), ('being', 'VBG'), ('cleaned', 'VBN'), ('.', '.')]\n",
      "\n",
      "\n",
      "(S (NP I/PRP) (VP was'nt/VBP being/VBG cleaned/VBN) ./.)\n",
      "[('I', 'PRP'), (\"was'nt\", 'VBP'), ('being', 'VBG'), ('cleaned', 'VBN'), ('.', '.')]\n",
      "\n",
      "\n"
     ]
    }
   ],
   "source": [
    "am_was = [\"am\", \"was\", \"was'nt\"]\n",
    "\n",
    "t_c_list(am_was, prepend=\"I \", append=\" cat.\")\n",
    "t_c_list(am_was, prepend=\"I \", append=\" cleaned.\")\n",
    "t_c_list(am_was, prepend=\"I \", append=\" cleaning.\")\n",
    "t_c_list(am_was, prepend=\"I \", append=\" being cleaned.\")"
   ]
  },
  {
   "cell_type": "code",
   "execution_count": 43,
   "id": "ec443ab9",
   "metadata": {},
   "outputs": [
    {
     "name": "stdout",
     "output_type": "stream",
     "text": [
      "(S (NP He/PRP) (VP is/VBZ) (NP cat/NN) ./.)\n",
      "[('He', 'PRP'), ('is', 'VBZ'), ('cat', 'NN'), ('.', '.')]\n",
      "\n",
      "\n",
      "(S (NP He/PRP) (VP is/VBZ n't/RB) (NP cat/NN) ./.)\n",
      "[('He', 'PRP'), ('is', 'VBZ'), (\"n't\", 'RB'), ('cat', 'NN'), ('.', '.')]\n",
      "\n",
      "\n",
      "(S (NP He/PRP) (VP was/VBD) (NP cat/NN) ./.)\n",
      "[('He', 'PRP'), ('was', 'VBD'), ('cat', 'NN'), ('.', '.')]\n",
      "\n",
      "\n",
      "(S (NP He/PRP) (VP was'nt/VBZ) (NP cat/NN) ./.)\n",
      "[('He', 'PRP'), (\"was'nt\", 'VBZ'), ('cat', 'NN'), ('.', '.')]\n",
      "\n",
      "\n",
      "(S (NP He/PRP) (VP is/VBZ cleaned/VBN) ./.)\n",
      "[('He', 'PRP'), ('is', 'VBZ'), ('cleaned', 'VBN'), ('.', '.')]\n",
      "\n",
      "\n",
      "(S (NP He/PRP) (VP is/VBZ n't/RB) cleaned/VBN ./.)\n",
      "[('He', 'PRP'), ('is', 'VBZ'), (\"n't\", 'RB'), ('cleaned', 'VBN'), ('.', '.')]\n",
      "\n",
      "\n",
      "(S (NP He/PRP) (VP was/VBD cleaned/VBN) ./.)\n",
      "[('He', 'PRP'), ('was', 'VBD'), ('cleaned', 'VBN'), ('.', '.')]\n",
      "\n",
      "\n",
      "(S (NP He/PRP) (VP was'nt/VBD cleaned/VBN) ./.)\n",
      "[('He', 'PRP'), (\"was'nt\", 'VBD'), ('cleaned', 'VBN'), ('.', '.')]\n",
      "\n",
      "\n",
      "(S (NP He/PRP) (VP is/VBZ cleaning/VBG) ./.)\n",
      "[('He', 'PRP'), ('is', 'VBZ'), ('cleaning', 'VBG'), ('.', '.')]\n",
      "\n",
      "\n",
      "(S (NP He/PRP) (VP is/VBZ n't/RB) cleaning/VBG ./.)\n",
      "[('He', 'PRP'), ('is', 'VBZ'), (\"n't\", 'RB'), ('cleaning', 'VBG'), ('.', '.')]\n",
      "\n",
      "\n",
      "(S (NP He/PRP) (VP was/VBD cleaning/VBG) ./.)\n",
      "[('He', 'PRP'), ('was', 'VBD'), ('cleaning', 'VBG'), ('.', '.')]\n",
      "\n",
      "\n",
      "(S (NP He/PRP) (VP was'nt/VBD) (NP cleaning/NN) ./.)\n",
      "[('He', 'PRP'), (\"was'nt\", 'VBD'), ('cleaning', 'NN'), ('.', '.')]\n",
      "\n",
      "\n",
      "(S (NP He/PRP) (VP is/VBZ being/VBG cleaned/VBN) ./.)\n",
      "[('He', 'PRP'), ('is', 'VBZ'), ('being', 'VBG'), ('cleaned', 'VBN'), ('.', '.')]\n",
      "\n",
      "\n",
      "(S (NP He/PRP) (VP is/VBZ n't/RB) being/VBG cleaned/VBN ./.)\n",
      "[('He', 'PRP'), ('is', 'VBZ'), (\"n't\", 'RB'), ('being', 'VBG'), ('cleaned', 'VBN'), ('.', '.')]\n",
      "\n",
      "\n",
      "(S (NP He/PRP) (VP was/VBD being/VBG cleaned/VBN) ./.)\n",
      "[('He', 'PRP'), ('was', 'VBD'), ('being', 'VBG'), ('cleaned', 'VBN'), ('.', '.')]\n",
      "\n",
      "\n",
      "(S (NP He/PRP) (VP was'nt/VBD being/VBG cleaned/VBN) ./.)\n",
      "[('He', 'PRP'), (\"was'nt\", 'VBD'), ('being', 'VBG'), ('cleaned', 'VBN'), ('.', '.')]\n",
      "\n",
      "\n"
     ]
    }
   ],
   "source": [
    "is_was = [\"is\", \"isn't\", \"was\", \"was'nt\"]\n",
    "\n",
    "t_c_list(is_was, prepend=\"He \", append=\" cat.\")\n",
    "t_c_list(is_was, prepend=\"He \", append=\" cleaned.\")\n",
    "t_c_list(is_was, prepend=\"He \", append=\" cleaning.\")\n",
    "t_c_list(is_was, prepend=\"He \", append=\" being cleaned.\")"
   ]
  },
  {
   "cell_type": "code",
   "execution_count": 44,
   "id": "06442537",
   "metadata": {},
   "outputs": [
    {
     "name": "stdout",
     "output_type": "stream",
     "text": [
      "(S (NP We/PRP) (VP are/VBP) (AdjP cat/JJ) ./.)\n",
      "[('We', 'PRP'), ('are', 'VBP'), ('cat', 'JJ'), ('.', '.')]\n",
      "\n",
      "\n",
      "(S (NP We/PRP) (VP are/VBP n't/RB) (NP cat/NNS) ./.)\n",
      "[('We', 'PRP'), ('are', 'VBP'), (\"n't\", 'RB'), ('cat', 'NNS'), ('.', '.')]\n",
      "\n",
      "\n",
      "(S (NP We/PRP) (VP were/VBD) (NP cat/NNS) ./.)\n",
      "[('We', 'PRP'), ('were', 'VBD'), ('cat', 'NNS'), ('.', '.')]\n",
      "\n",
      "\n",
      "(S (NP We/PRP) (VP were/VBD n't/RB) cat/VBN ./.)\n",
      "[('We', 'PRP'), ('were', 'VBD'), (\"n't\", 'RB'), ('cat', 'VBN'), ('.', '.')]\n",
      "\n",
      "\n",
      "(S (NP We/PRP) (VP are/VBP cleaned/VBN) ./.)\n",
      "[('We', 'PRP'), ('are', 'VBP'), ('cleaned', 'VBN'), ('.', '.')]\n",
      "\n",
      "\n",
      "(S (NP We/PRP) (VP are/VBP n't/RB) cleaned/VBN ./.)\n",
      "[('We', 'PRP'), ('are', 'VBP'), (\"n't\", 'RB'), ('cleaned', 'VBN'), ('.', '.')]\n",
      "\n",
      "\n",
      "(S (NP We/PRP) (VP were/VBD cleaned/VBN) ./.)\n",
      "[('We', 'PRP'), ('were', 'VBD'), ('cleaned', 'VBN'), ('.', '.')]\n",
      "\n",
      "\n",
      "(S (NP We/PRP) (VP were/VBD n't/RB) cleaned/VBN ./.)\n",
      "[('We', 'PRP'), ('were', 'VBD'), (\"n't\", 'RB'), ('cleaned', 'VBN'), ('.', '.')]\n",
      "\n",
      "\n",
      "(S (NP We/PRP) (VP are/VBP cleaning/VBG) ./.)\n",
      "[('We', 'PRP'), ('are', 'VBP'), ('cleaning', 'VBG'), ('.', '.')]\n",
      "\n",
      "\n",
      "(S (NP We/PRP) (VP are/VBP n't/RB) cleaning/VBG ./.)\n",
      "[('We', 'PRP'), ('are', 'VBP'), (\"n't\", 'RB'), ('cleaning', 'VBG'), ('.', '.')]\n",
      "\n",
      "\n",
      "(S (NP We/PRP) (VP were/VBD cleaning/VBG) ./.)\n",
      "[('We', 'PRP'), ('were', 'VBD'), ('cleaning', 'VBG'), ('.', '.')]\n",
      "\n",
      "\n",
      "(S (NP We/PRP) (VP were/VBD n't/RB) cleaning/VBG ./.)\n",
      "[('We', 'PRP'), ('were', 'VBD'), (\"n't\", 'RB'), ('cleaning', 'VBG'), ('.', '.')]\n",
      "\n",
      "\n",
      "(S (NP We/PRP) (VP are/VBP being/VBG cleaned/VBN) ./.)\n",
      "[('We', 'PRP'), ('are', 'VBP'), ('being', 'VBG'), ('cleaned', 'VBN'), ('.', '.')]\n",
      "\n",
      "\n",
      "(S (NP We/PRP) (VP are/VBP n't/RB) being/VBG cleaned/VBN ./.)\n",
      "[('We', 'PRP'), ('are', 'VBP'), (\"n't\", 'RB'), ('being', 'VBG'), ('cleaned', 'VBN'), ('.', '.')]\n",
      "\n",
      "\n",
      "(S (NP We/PRP) (VP were/VBD being/VBG cleaned/VBN) ./.)\n",
      "[('We', 'PRP'), ('were', 'VBD'), ('being', 'VBG'), ('cleaned', 'VBN'), ('.', '.')]\n",
      "\n",
      "\n",
      "(S (NP We/PRP) (VP were/VBD n't/RB) being/VBG cleaned/VBN ./.)\n",
      "[('We', 'PRP'), ('were', 'VBD'), (\"n't\", 'RB'), ('being', 'VBG'), ('cleaned', 'VBN'), ('.', '.')]\n",
      "\n",
      "\n"
     ]
    }
   ],
   "source": [
    "are_were = [\"are\", \"aren't\", \"were\", \"weren't\"]\n",
    "\n",
    "t_c_list(are_were, prepend=\"We \", append=\" cat.\")\n",
    "t_c_list(are_were, prepend=\"We \", append=\" cleaned.\")\n",
    "t_c_list(are_were, prepend=\"We \", append=\" cleaning.\")\n",
    "t_c_list(are_were, prepend=\"We \", append=\" being cleaned.\")"
   ]
  },
  {
   "cell_type": "markdown",
   "id": "784809c7",
   "metadata": {},
   "source": [
    "## Present perfect, past perfect, present perfect continuous, past perfect continuous, present perfect (passive), past perfect (passive)"
   ]
  },
  {
   "cell_type": "code",
   "execution_count": 45,
   "id": "0be712da",
   "metadata": {},
   "outputs": [
    {
     "name": "stdout",
     "output_type": "stream",
     "text": [
      "(S (NP He/PRP) (VP has/VBZ) (NP water/NN) ./.)\n",
      "[('He', 'PRP'), ('has', 'VBZ'), ('water', 'NN'), ('.', '.')]\n",
      "\n",
      "\n",
      "(S (NP He/PRP) (VP had/VBD) (NP water/NN) ./.)\n",
      "[('He', 'PRP'), ('had', 'VBD'), ('water', 'NN'), ('.', '.')]\n",
      "\n",
      "\n",
      "(S (NP He/PRP) (VP has/VBZ n't/RB) (NP water/NN) ./.)\n",
      "[('He', 'PRP'), ('has', 'VBZ'), (\"n't\", 'RB'), ('water', 'NN'), ('.', '.')]\n",
      "\n",
      "\n",
      "(S (NP He/PRP) (VP has/VBZ cleaned/VBN) ./.)\n",
      "[('He', 'PRP'), ('has', 'VBZ'), ('cleaned', 'VBN'), ('.', '.')]\n",
      "\n",
      "\n",
      "(S (NP He/PRP) (VP had/VBD cleaned/VBN) ./.)\n",
      "[('He', 'PRP'), ('had', 'VBD'), ('cleaned', 'VBN'), ('.', '.')]\n",
      "\n",
      "\n",
      "(S (NP He/PRP) (VP has/VBZ n't/RB) cleaned/VBN ./.)\n",
      "[('He', 'PRP'), ('has', 'VBZ'), (\"n't\", 'RB'), ('cleaned', 'VBN'), ('.', '.')]\n",
      "\n",
      "\n",
      "(S (NP He/PRP) (VP has/VBZ been/VBN cleaned/VBN) ./.)\n",
      "[('He', 'PRP'), ('has', 'VBZ'), ('been', 'VBN'), ('cleaned', 'VBN'), ('.', '.')]\n",
      "\n",
      "\n",
      "(S (NP He/PRP) (VP had/VBD been/VBN cleaned/VBN) ./.)\n",
      "[('He', 'PRP'), ('had', 'VBD'), ('been', 'VBN'), ('cleaned', 'VBN'), ('.', '.')]\n",
      "\n",
      "\n",
      "(S (NP He/PRP) (VP has/VBZ n't/RB) been/VBN cleaned/VBN ./.)\n",
      "[('He', 'PRP'), ('has', 'VBZ'), (\"n't\", 'RB'), ('been', 'VBN'), ('cleaned', 'VBN'), ('.', '.')]\n",
      "\n",
      "\n",
      "(S (NP He/PRP) (VP has/VBZ been/VBN cleaning/VBG) ./.)\n",
      "[('He', 'PRP'), ('has', 'VBZ'), ('been', 'VBN'), ('cleaning', 'VBG'), ('.', '.')]\n",
      "\n",
      "\n",
      "(S (NP He/PRP) (VP had/VBD been/VBN cleaning/VBG) ./.)\n",
      "[('He', 'PRP'), ('had', 'VBD'), ('been', 'VBN'), ('cleaning', 'VBG'), ('.', '.')]\n",
      "\n",
      "\n",
      "(S (NP He/PRP) (VP has/VBZ n't/RB) been/VBN cleaning/VBG ./.)\n",
      "[('He', 'PRP'), ('has', 'VBZ'), (\"n't\", 'RB'), ('been', 'VBN'), ('cleaning', 'VBG'), ('.', '.')]\n",
      "\n",
      "\n"
     ]
    }
   ],
   "source": [
    "has_had = [\"has\", \"had\", \"hasn't\"]\n",
    "\n",
    "t_c_list(has_had, prepend=\"He \", append=\" water.\")\n",
    "t_c_list(has_had, prepend=\"He \", append=\" cleaned.\")\n",
    "t_c_list(has_had, prepend=\"He \", append=\" been cleaned.\")\n",
    "t_c_list(has_had, prepend=\"He \", append=\" been cleaning.\")"
   ]
  },
  {
   "cell_type": "code",
   "execution_count": 46,
   "id": "c2c385b9",
   "metadata": {},
   "outputs": [
    {
     "name": "stdout",
     "output_type": "stream",
     "text": [
      "(S (NP We/PRP) (VP have/VBP) (NP water/NN) ./.)\n",
      "[('We', 'PRP'), ('have', 'VBP'), ('water', 'NN'), ('.', '.')]\n",
      "\n",
      "\n",
      "(S (NP We/PRP) (VP had/VBD) (NP water/NN) ./.)\n",
      "[('We', 'PRP'), ('had', 'VBD'), ('water', 'NN'), ('.', '.')]\n",
      "\n",
      "\n",
      "(S (NP We/PRP) (VP have/VBP n't/RB) (NP water/NN) ./.)\n",
      "[('We', 'PRP'), ('have', 'VBP'), (\"n't\", 'RB'), ('water', 'NN'), ('.', '.')]\n",
      "\n",
      "\n",
      "(S (NP We/PRP) (VP have/VBP cleaned/VBN) ./.)\n",
      "[('We', 'PRP'), ('have', 'VBP'), ('cleaned', 'VBN'), ('.', '.')]\n",
      "\n",
      "\n",
      "(S (NP We/PRP) (VP had/VBD cleaned/VBN) ./.)\n",
      "[('We', 'PRP'), ('had', 'VBD'), ('cleaned', 'VBN'), ('.', '.')]\n",
      "\n",
      "\n",
      "(S (NP We/PRP) (VP have/VBP n't/RB) cleaned/VBN ./.)\n",
      "[('We', 'PRP'), ('have', 'VBP'), (\"n't\", 'RB'), ('cleaned', 'VBN'), ('.', '.')]\n",
      "\n",
      "\n",
      "(S (NP We/PRP) (VP have/VBP been/VBN cleaned/VBN) ./.)\n",
      "[('We', 'PRP'), ('have', 'VBP'), ('been', 'VBN'), ('cleaned', 'VBN'), ('.', '.')]\n",
      "\n",
      "\n",
      "(S (NP We/PRP) (VP had/VBD been/VBN cleaned/VBN) ./.)\n",
      "[('We', 'PRP'), ('had', 'VBD'), ('been', 'VBN'), ('cleaned', 'VBN'), ('.', '.')]\n",
      "\n",
      "\n",
      "(S (NP We/PRP) (VP have/VBP n't/RB) been/VBN cleaned/VBN ./.)\n",
      "[('We', 'PRP'), ('have', 'VBP'), (\"n't\", 'RB'), ('been', 'VBN'), ('cleaned', 'VBN'), ('.', '.')]\n",
      "\n",
      "\n",
      "(S (NP We/PRP) (VP have/VBP been/VBN cleaning/VBG) ./.)\n",
      "[('We', 'PRP'), ('have', 'VBP'), ('been', 'VBN'), ('cleaning', 'VBG'), ('.', '.')]\n",
      "\n",
      "\n",
      "(S (NP We/PRP) (VP had/VBD been/VBN cleaning/VBG) ./.)\n",
      "[('We', 'PRP'), ('had', 'VBD'), ('been', 'VBN'), ('cleaning', 'VBG'), ('.', '.')]\n",
      "\n",
      "\n",
      "(S (NP We/PRP) (VP have/VBP n't/RB) been/VBN cleaning/VBG ./.)\n",
      "[('We', 'PRP'), ('have', 'VBP'), (\"n't\", 'RB'), ('been', 'VBN'), ('cleaning', 'VBG'), ('.', '.')]\n",
      "\n",
      "\n"
     ]
    }
   ],
   "source": [
    "have_had = [\"have\", \"had\", \"haven't\"]\n",
    "\n",
    "t_c_list(have_had, prepend=\"We \", append=\" water.\")\n",
    "t_c_list(have_had, prepend=\"We \", append=\" cleaned.\")\n",
    "t_c_list(have_had, prepend=\"We \", append=\" been cleaned.\")\n",
    "t_c_list(have_had, prepend=\"We \", append=\" been cleaning.\")"
   ]
  },
  {
   "cell_type": "markdown",
   "id": "fc38ee41",
   "metadata": {},
   "source": [
    "## Present perfect continuous (passive), past perfect continuous (passive)"
   ]
  },
  {
   "cell_type": "code",
   "execution_count": 47,
   "id": "5837b770",
   "metadata": {},
   "outputs": [
    {
     "name": "stdout",
     "output_type": "stream",
     "text": [
      "(S (NP He/PRP) (VP has/VBZ been/VBN getting/VBG cleaned/VBN) ./.)\n",
      "[('He', 'PRP'), ('has', 'VBZ'), ('been', 'VBN'), ('getting', 'VBG'), ('cleaned', 'VBN'), ('.', '.')]\n",
      "\n",
      "\n",
      "(S (NP He/PRP) (VP had/VBD been/VBN getting/VBG cleaned/VBN) ./.)\n",
      "[('He', 'PRP'), ('had', 'VBD'), ('been', 'VBN'), ('getting', 'VBG'), ('cleaned', 'VBN'), ('.', '.')]\n",
      "\n",
      "\n",
      "(S\n",
      "  (NP He/PRP)\n",
      "  (VP has/VBZ n't/RB)\n",
      "  been/VBN\n",
      "  getting/VBG\n",
      "  cleaned/VBN\n",
      "  ./.)\n",
      "[('He', 'PRP'), ('has', 'VBZ'), (\"n't\", 'RB'), ('been', 'VBN'), ('getting', 'VBG'), ('cleaned', 'VBN'), ('.', '.')]\n",
      "\n",
      "\n"
     ]
    }
   ],
   "source": [
    "t_c_list(has_had, prepend=\"He \", append=\" been getting cleaned.\")"
   ]
  },
  {
   "cell_type": "code",
   "execution_count": 48,
   "id": "75a103e0",
   "metadata": {},
   "outputs": [
    {
     "name": "stdout",
     "output_type": "stream",
     "text": [
      "(S (NP We/PRP) (VP have/VBP been/VBN getting/VBG cleaned/VBN) ./.)\n",
      "[('We', 'PRP'), ('have', 'VBP'), ('been', 'VBN'), ('getting', 'VBG'), ('cleaned', 'VBN'), ('.', '.')]\n",
      "\n",
      "\n",
      "(S (NP We/PRP) (VP had/VBD been/VBN getting/VBG cleaned/VBN) ./.)\n",
      "[('We', 'PRP'), ('had', 'VBD'), ('been', 'VBN'), ('getting', 'VBG'), ('cleaned', 'VBN'), ('.', '.')]\n",
      "\n",
      "\n",
      "(S\n",
      "  (NP We/PRP)\n",
      "  (VP have/VBP n't/RB)\n",
      "  been/VBN\n",
      "  getting/VBG\n",
      "  cleaned/VBN\n",
      "  ./.)\n",
      "[('We', 'PRP'), ('have', 'VBP'), (\"n't\", 'RB'), ('been', 'VBN'), ('getting', 'VBG'), ('cleaned', 'VBN'), ('.', '.')]\n",
      "\n",
      "\n"
     ]
    }
   ],
   "source": [
    "t_c_list(have_had, prepend=\"We \", append=\" been getting cleaned.\")"
   ]
  },
  {
   "cell_type": "markdown",
   "id": "5165bc59",
   "metadata": {},
   "source": [
    "## Future tense and probabilities"
   ]
  },
  {
   "cell_type": "code",
   "execution_count": 49,
   "id": "9d503a9c",
   "metadata": {},
   "outputs": [
    {
     "name": "stdout",
     "output_type": "stream",
     "text": [
      "(S (NP I/PRP) (VP can/MD fly/VB) ./.)\n",
      "[('I', 'PRP'), ('can', 'MD'), ('fly', 'VB'), ('.', '.')]\n",
      "\n",
      "\n",
      "(S (NP I/PRP) (VP can/MD not/RB fly/VB) ./.)\n",
      "[('I', 'PRP'), ('can', 'MD'), ('not', 'RB'), ('fly', 'VB'), ('.', '.')]\n",
      "\n",
      "\n",
      "(S (NP I/PRP) (VP could/MD fly/VB) ./.)\n",
      "[('I', 'PRP'), ('could', 'MD'), ('fly', 'VB'), ('.', '.')]\n",
      "\n",
      "\n",
      "(S (NP I/PRP) (VP could/MD n't/RB fly/VB) ./.)\n",
      "[('I', 'PRP'), ('could', 'MD'), (\"n't\", 'RB'), ('fly', 'VB'), ('.', '.')]\n",
      "\n",
      "\n",
      "(S (NP I/PRP) (VP ca/MD n't/RB fly/VB) ./.)\n",
      "[('I', 'PRP'), ('ca', 'MD'), (\"n't\", 'RB'), ('fly', 'VB'), ('.', '.')]\n",
      "\n",
      "\n",
      "(S (NP I/PRP) (VP may/MD fly/VB) ./.)\n",
      "[('I', 'PRP'), ('may', 'MD'), ('fly', 'VB'), ('.', '.')]\n",
      "\n",
      "\n",
      "(S (NP I/PRP) (VP might/MD fly/VB) ./.)\n",
      "[('I', 'PRP'), ('might', 'MD'), ('fly', 'VB'), ('.', '.')]\n",
      "\n",
      "\n",
      "(S (NP I/PRP) (VP must/MD fly/VB) ./.)\n",
      "[('I', 'PRP'), ('must', 'MD'), ('fly', 'VB'), ('.', '.')]\n",
      "\n",
      "\n",
      "(S (NP I/PRP) (VP ought/MD fly/VB) ./.)\n",
      "[('I', 'PRP'), ('ought', 'MD'), ('fly', 'VB'), ('.', '.')]\n",
      "\n",
      "\n",
      "(S (NP I/PRP) (VP shall/MD fly/VB) ./.)\n",
      "[('I', 'PRP'), ('shall', 'MD'), ('fly', 'VB'), ('.', '.')]\n",
      "\n",
      "\n",
      "(S (NP I/PRP) (VP should/MD fly/VB) ./.)\n",
      "[('I', 'PRP'), ('should', 'MD'), ('fly', 'VB'), ('.', '.')]\n",
      "\n",
      "\n",
      "(S (NP I/PRP) (VP will/MD fly/VB) ./.)\n",
      "[('I', 'PRP'), ('will', 'MD'), ('fly', 'VB'), ('.', '.')]\n",
      "\n",
      "\n",
      "(S (NP I/PRP) (VP would/MD fly/VB) ./.)\n",
      "[('I', 'PRP'), ('would', 'MD'), ('fly', 'VB'), ('.', '.')]\n",
      "\n",
      "\n",
      "(S (NP I/PRP) (VP would/MD n't/RB fly/VB) ./.)\n",
      "[('I', 'PRP'), ('would', 'MD'), (\"n't\", 'RB'), ('fly', 'VB'), ('.', '.')]\n",
      "\n",
      "\n"
     ]
    }
   ],
   "source": [
    "t_c_list(mod_aux, prepend=\"I \", append=\" fly.\")"
   ]
  },
  {
   "cell_type": "code",
   "execution_count": 50,
   "id": "e9d2394c",
   "metadata": {},
   "outputs": [
    {
     "name": "stdout",
     "output_type": "stream",
     "text": [
      "(S (NP I/PRP) (VP can/MD be/VB flying/VBG) ./.)\n",
      "[('I', 'PRP'), ('can', 'MD'), ('be', 'VB'), ('flying', 'VBG'), ('.', '.')]\n",
      "\n",
      "\n",
      "(S (NP I/PRP) (VP can/MD not/RB be/VB flying/VBG) ./.)\n",
      "[('I', 'PRP'), ('can', 'MD'), ('not', 'RB'), ('be', 'VB'), ('flying', 'VBG'), ('.', '.')]\n",
      "\n",
      "\n",
      "(S (NP I/PRP) (VP could/MD be/VB flying/VBG) ./.)\n",
      "[('I', 'PRP'), ('could', 'MD'), ('be', 'VB'), ('flying', 'VBG'), ('.', '.')]\n",
      "\n",
      "\n",
      "(S (NP I/PRP) (VP could/MD n't/RB be/VB flying/VBG) ./.)\n",
      "[('I', 'PRP'), ('could', 'MD'), (\"n't\", 'RB'), ('be', 'VB'), ('flying', 'VBG'), ('.', '.')]\n",
      "\n",
      "\n",
      "(S (NP I/PRP) (VP ca/MD n't/RB be/VB flying/VBG) ./.)\n",
      "[('I', 'PRP'), ('ca', 'MD'), (\"n't\", 'RB'), ('be', 'VB'), ('flying', 'VBG'), ('.', '.')]\n",
      "\n",
      "\n",
      "(S (NP I/PRP) (VP may/MD be/VB flying/VBG) ./.)\n",
      "[('I', 'PRP'), ('may', 'MD'), ('be', 'VB'), ('flying', 'VBG'), ('.', '.')]\n",
      "\n",
      "\n",
      "(S (NP I/PRP) (VP might/MD be/VB flying/VBG) ./.)\n",
      "[('I', 'PRP'), ('might', 'MD'), ('be', 'VB'), ('flying', 'VBG'), ('.', '.')]\n",
      "\n",
      "\n",
      "(S (NP I/PRP) (VP must/MD be/VB flying/VBG) ./.)\n",
      "[('I', 'PRP'), ('must', 'MD'), ('be', 'VB'), ('flying', 'VBG'), ('.', '.')]\n",
      "\n",
      "\n",
      "(S (NP I/PRP) (VP ought/MD be/VB flying/VBG) ./.)\n",
      "[('I', 'PRP'), ('ought', 'MD'), ('be', 'VB'), ('flying', 'VBG'), ('.', '.')]\n",
      "\n",
      "\n",
      "(S (NP I/PRP) (VP shall/MD be/VB flying/VBG) ./.)\n",
      "[('I', 'PRP'), ('shall', 'MD'), ('be', 'VB'), ('flying', 'VBG'), ('.', '.')]\n",
      "\n",
      "\n",
      "(S (NP I/PRP) (VP should/MD be/VB flying/VBG) ./.)\n",
      "[('I', 'PRP'), ('should', 'MD'), ('be', 'VB'), ('flying', 'VBG'), ('.', '.')]\n",
      "\n",
      "\n",
      "(S (NP I/PRP) (VP will/MD be/VB flying/VBG) ./.)\n",
      "[('I', 'PRP'), ('will', 'MD'), ('be', 'VB'), ('flying', 'VBG'), ('.', '.')]\n",
      "\n",
      "\n",
      "(S (NP I/PRP) (VP would/MD be/VB flying/VBG) ./.)\n",
      "[('I', 'PRP'), ('would', 'MD'), ('be', 'VB'), ('flying', 'VBG'), ('.', '.')]\n",
      "\n",
      "\n",
      "(S (NP I/PRP) (VP would/MD n't/RB be/VB flying/VBG) ./.)\n",
      "[('I', 'PRP'), ('would', 'MD'), (\"n't\", 'RB'), ('be', 'VB'), ('flying', 'VBG'), ('.', '.')]\n",
      "\n",
      "\n"
     ]
    }
   ],
   "source": [
    "t_c_list(mod_aux, prepend=\"I \", append=\" be flying.\")"
   ]
  },
  {
   "cell_type": "code",
   "execution_count": 51,
   "id": "e629f259",
   "metadata": {},
   "outputs": [
    {
     "name": "stdout",
     "output_type": "stream",
     "text": [
      "(S (NP I/PRP) can/MD (VP will/MD have/VB flown/VBN) ./.)\n",
      "[('I', 'PRP'), ('can', 'MD'), ('will', 'MD'), ('have', 'VB'), ('flown', 'VBN'), ('.', '.')]\n",
      "\n",
      "\n",
      "(S (NP I/PRP) can/MD not/RB (VP will/MD have/VB flown/VBN) ./.)\n",
      "[('I', 'PRP'), ('can', 'MD'), ('not', 'RB'), ('will', 'MD'), ('have', 'VB'), ('flown', 'VBN'), ('.', '.')]\n",
      "\n",
      "\n",
      "(S (NP I/PRP) could/MD (VP will/MD have/VB flown/VBN) ./.)\n",
      "[('I', 'PRP'), ('could', 'MD'), ('will', 'MD'), ('have', 'VB'), ('flown', 'VBN'), ('.', '.')]\n",
      "\n",
      "\n",
      "(S (NP I/PRP) could/MD n't/RB (VP will/MD have/VB flown/VBN) ./.)\n",
      "[('I', 'PRP'), ('could', 'MD'), (\"n't\", 'RB'), ('will', 'MD'), ('have', 'VB'), ('flown', 'VBN'), ('.', '.')]\n",
      "\n",
      "\n",
      "(S (NP I/PRP) ca/MD n't/RB (VP will/MD have/VB flown/VBN) ./.)\n",
      "[('I', 'PRP'), ('ca', 'MD'), (\"n't\", 'RB'), ('will', 'MD'), ('have', 'VB'), ('flown', 'VBN'), ('.', '.')]\n",
      "\n",
      "\n",
      "(S (NP I/PRP) may/MD (VP will/MD have/VB flown/VBN) ./.)\n",
      "[('I', 'PRP'), ('may', 'MD'), ('will', 'MD'), ('have', 'VB'), ('flown', 'VBN'), ('.', '.')]\n",
      "\n",
      "\n",
      "(S (NP I/PRP) might/MD (VP will/MD have/VB flown/VBN) ./.)\n",
      "[('I', 'PRP'), ('might', 'MD'), ('will', 'MD'), ('have', 'VB'), ('flown', 'VBN'), ('.', '.')]\n",
      "\n",
      "\n",
      "(S (NP I/PRP) must/MD (VP will/MD have/VB flown/VBN) ./.)\n",
      "[('I', 'PRP'), ('must', 'MD'), ('will', 'MD'), ('have', 'VB'), ('flown', 'VBN'), ('.', '.')]\n",
      "\n",
      "\n",
      "(S (NP I/PRP) ought/MD (VP will/MD have/VB flown/VBN) ./.)\n",
      "[('I', 'PRP'), ('ought', 'MD'), ('will', 'MD'), ('have', 'VB'), ('flown', 'VBN'), ('.', '.')]\n",
      "\n",
      "\n",
      "(S (NP I/PRP) shall/MD (VP will/MD have/VB flown/VBN) ./.)\n",
      "[('I', 'PRP'), ('shall', 'MD'), ('will', 'MD'), ('have', 'VB'), ('flown', 'VBN'), ('.', '.')]\n",
      "\n",
      "\n",
      "(S (NP I/PRP) should/MD (VP will/MD have/VB flown/VBN) ./.)\n",
      "[('I', 'PRP'), ('should', 'MD'), ('will', 'MD'), ('have', 'VB'), ('flown', 'VBN'), ('.', '.')]\n",
      "\n",
      "\n",
      "(S (NP I/PRP) will/MD (VP will/MD have/VB flown/VBN) ./.)\n",
      "[('I', 'PRP'), ('will', 'MD'), ('will', 'MD'), ('have', 'VB'), ('flown', 'VBN'), ('.', '.')]\n",
      "\n",
      "\n",
      "(S (NP I/PRP) would/MD (VP will/MD have/VB flown/VBN) ./.)\n",
      "[('I', 'PRP'), ('would', 'MD'), ('will', 'MD'), ('have', 'VB'), ('flown', 'VBN'), ('.', '.')]\n",
      "\n",
      "\n",
      "(S (NP I/PRP) would/MD n't/RB (VP will/MD have/VB flown/VBN) ./.)\n",
      "[('I', 'PRP'), ('would', 'MD'), (\"n't\", 'RB'), ('will', 'MD'), ('have', 'VB'), ('flown', 'VBN'), ('.', '.')]\n",
      "\n",
      "\n"
     ]
    }
   ],
   "source": [
    "t_c_list(mod_aux, prepend=\"I \", append=\" will have flown.\")"
   ]
  },
  {
   "cell_type": "code",
   "execution_count": 52,
   "id": "ae7bf478",
   "metadata": {},
   "outputs": [
    {
     "name": "stdout",
     "output_type": "stream",
     "text": [
      "(S (NP I/PRP) (VP can/MD have/VB been/VBN flying/VBG) ./.)\n",
      "[('I', 'PRP'), ('can', 'MD'), ('have', 'VB'), ('been', 'VBN'), ('flying', 'VBG'), ('.', '.')]\n",
      "\n",
      "\n",
      "(S (NP I/PRP) (VP can/MD not/RB have/VB been/VBN flying/VBG) ./.)\n",
      "[('I', 'PRP'), ('can', 'MD'), ('not', 'RB'), ('have', 'VB'), ('been', 'VBN'), ('flying', 'VBG'), ('.', '.')]\n",
      "\n",
      "\n",
      "(S (NP I/PRP) (VP could/MD have/VB been/VBN flying/VBG) ./.)\n",
      "[('I', 'PRP'), ('could', 'MD'), ('have', 'VB'), ('been', 'VBN'), ('flying', 'VBG'), ('.', '.')]\n",
      "\n",
      "\n",
      "(S (NP I/PRP) (VP could/MD n't/RB have/VB been/VBN flying/VBG) ./.)\n",
      "[('I', 'PRP'), ('could', 'MD'), (\"n't\", 'RB'), ('have', 'VB'), ('been', 'VBN'), ('flying', 'VBG'), ('.', '.')]\n",
      "\n",
      "\n",
      "(S (NP I/PRP) (VP ca/MD n't/RB have/VB been/VBN flying/VBG) ./.)\n",
      "[('I', 'PRP'), ('ca', 'MD'), (\"n't\", 'RB'), ('have', 'VB'), ('been', 'VBN'), ('flying', 'VBG'), ('.', '.')]\n",
      "\n",
      "\n",
      "(S (NP I/PRP) (VP may/MD have/VB been/VBN flying/VBG) ./.)\n",
      "[('I', 'PRP'), ('may', 'MD'), ('have', 'VB'), ('been', 'VBN'), ('flying', 'VBG'), ('.', '.')]\n",
      "\n",
      "\n",
      "(S (NP I/PRP) (VP might/MD have/VB been/VBN flying/VBG) ./.)\n",
      "[('I', 'PRP'), ('might', 'MD'), ('have', 'VB'), ('been', 'VBN'), ('flying', 'VBG'), ('.', '.')]\n",
      "\n",
      "\n",
      "(S (NP I/PRP) (VP must/MD have/VB been/VBN flying/VBG) ./.)\n",
      "[('I', 'PRP'), ('must', 'MD'), ('have', 'VB'), ('been', 'VBN'), ('flying', 'VBG'), ('.', '.')]\n",
      "\n",
      "\n",
      "(S (NP I/PRP) (VP ought/MD have/VB been/VBN flying/VBG) ./.)\n",
      "[('I', 'PRP'), ('ought', 'MD'), ('have', 'VB'), ('been', 'VBN'), ('flying', 'VBG'), ('.', '.')]\n",
      "\n",
      "\n",
      "(S (NP I/PRP) (VP shall/MD have/VB been/VBN flying/VBG) ./.)\n",
      "[('I', 'PRP'), ('shall', 'MD'), ('have', 'VB'), ('been', 'VBN'), ('flying', 'VBG'), ('.', '.')]\n",
      "\n",
      "\n",
      "(S (NP I/PRP) (VP should/MD have/VB been/VBN flying/VBG) ./.)\n",
      "[('I', 'PRP'), ('should', 'MD'), ('have', 'VB'), ('been', 'VBN'), ('flying', 'VBG'), ('.', '.')]\n",
      "\n",
      "\n",
      "(S (NP I/PRP) (VP will/MD have/VB been/VBN flying/VBG) ./.)\n",
      "[('I', 'PRP'), ('will', 'MD'), ('have', 'VB'), ('been', 'VBN'), ('flying', 'VBG'), ('.', '.')]\n",
      "\n",
      "\n",
      "(S (NP I/PRP) (VP would/MD have/VB been/VBN flying/VBG) ./.)\n",
      "[('I', 'PRP'), ('would', 'MD'), ('have', 'VB'), ('been', 'VBN'), ('flying', 'VBG'), ('.', '.')]\n",
      "\n",
      "\n",
      "(S (NP I/PRP) (VP would/MD n't/RB have/VB been/VBN flying/VBG) ./.)\n",
      "[('I', 'PRP'), ('would', 'MD'), (\"n't\", 'RB'), ('have', 'VB'), ('been', 'VBN'), ('flying', 'VBG'), ('.', '.')]\n",
      "\n",
      "\n"
     ]
    }
   ],
   "source": [
    "t_c_list(mod_aux, prepend=\"I \", append=\" have been flying.\")"
   ]
  },
  {
   "cell_type": "code",
   "execution_count": 53,
   "id": "84e0778b",
   "metadata": {},
   "outputs": [
    {
     "name": "stdout",
     "output_type": "stream",
     "text": [
      "(S (NP I/PRP) can/MD (VP will/MD be/VB cleaned/VBN) ./.)\n",
      "[('I', 'PRP'), ('can', 'MD'), ('will', 'MD'), ('be', 'VB'), ('cleaned', 'VBN'), ('.', '.')]\n",
      "\n",
      "\n",
      "(S (NP I/PRP) can/MD not/RB (VP will/MD be/VB cleaned/VBN) ./.)\n",
      "[('I', 'PRP'), ('can', 'MD'), ('not', 'RB'), ('will', 'MD'), ('be', 'VB'), ('cleaned', 'VBN'), ('.', '.')]\n",
      "\n",
      "\n",
      "(S (NP I/PRP) could/MD (VP will/MD be/VB cleaned/VBN) ./.)\n",
      "[('I', 'PRP'), ('could', 'MD'), ('will', 'MD'), ('be', 'VB'), ('cleaned', 'VBN'), ('.', '.')]\n",
      "\n",
      "\n",
      "(S (NP I/PRP) could/MD n't/RB (VP will/MD be/VB cleaned/VBN) ./.)\n",
      "[('I', 'PRP'), ('could', 'MD'), (\"n't\", 'RB'), ('will', 'MD'), ('be', 'VB'), ('cleaned', 'VBN'), ('.', '.')]\n",
      "\n",
      "\n",
      "(S (NP I/PRP) ca/MD n't/RB (VP will/MD be/VB cleaned/VBN) ./.)\n",
      "[('I', 'PRP'), ('ca', 'MD'), (\"n't\", 'RB'), ('will', 'MD'), ('be', 'VB'), ('cleaned', 'VBN'), ('.', '.')]\n",
      "\n",
      "\n",
      "(S (NP I/PRP) may/MD (VP will/MD be/VB cleaned/VBN) ./.)\n",
      "[('I', 'PRP'), ('may', 'MD'), ('will', 'MD'), ('be', 'VB'), ('cleaned', 'VBN'), ('.', '.')]\n",
      "\n",
      "\n",
      "(S (NP I/PRP) might/MD (VP will/MD be/VB cleaned/VBN) ./.)\n",
      "[('I', 'PRP'), ('might', 'MD'), ('will', 'MD'), ('be', 'VB'), ('cleaned', 'VBN'), ('.', '.')]\n",
      "\n",
      "\n",
      "(S (NP I/PRP) must/MD (VP will/MD be/VB cleaned/VBN) ./.)\n",
      "[('I', 'PRP'), ('must', 'MD'), ('will', 'MD'), ('be', 'VB'), ('cleaned', 'VBN'), ('.', '.')]\n",
      "\n",
      "\n",
      "(S (NP I/PRP) ought/MD (VP will/MD be/VB cleaned/VBN) ./.)\n",
      "[('I', 'PRP'), ('ought', 'MD'), ('will', 'MD'), ('be', 'VB'), ('cleaned', 'VBN'), ('.', '.')]\n",
      "\n",
      "\n",
      "(S (NP I/PRP) shall/MD (VP will/MD be/VB cleaned/VBN) ./.)\n",
      "[('I', 'PRP'), ('shall', 'MD'), ('will', 'MD'), ('be', 'VB'), ('cleaned', 'VBN'), ('.', '.')]\n",
      "\n",
      "\n",
      "(S (NP I/PRP) should/MD (VP will/MD be/VB cleaned/VBN) ./.)\n",
      "[('I', 'PRP'), ('should', 'MD'), ('will', 'MD'), ('be', 'VB'), ('cleaned', 'VBN'), ('.', '.')]\n",
      "\n",
      "\n",
      "(S (NP I/PRP) will/MD (VP will/MD be/VB cleaned/VBN) ./.)\n",
      "[('I', 'PRP'), ('will', 'MD'), ('will', 'MD'), ('be', 'VB'), ('cleaned', 'VBN'), ('.', '.')]\n",
      "\n",
      "\n",
      "(S (NP I/PRP) would/MD (VP will/MD be/VB cleaned/VBN) ./.)\n",
      "[('I', 'PRP'), ('would', 'MD'), ('will', 'MD'), ('be', 'VB'), ('cleaned', 'VBN'), ('.', '.')]\n",
      "\n",
      "\n",
      "(S (NP I/PRP) would/MD n't/RB (VP will/MD be/VB cleaned/VBN) ./.)\n",
      "[('I', 'PRP'), ('would', 'MD'), (\"n't\", 'RB'), ('will', 'MD'), ('be', 'VB'), ('cleaned', 'VBN'), ('.', '.')]\n",
      "\n",
      "\n"
     ]
    }
   ],
   "source": [
    "t_c_list(mod_aux, prepend=\"I \", append=\" will be cleaned.\")"
   ]
  },
  {
   "cell_type": "code",
   "execution_count": 54,
   "id": "143a48d0",
   "metadata": {},
   "outputs": [
    {
     "name": "stdout",
     "output_type": "stream",
     "text": [
      "(S (NP I/PRP) can/MD (VP will/MD have/VB been/VBN cleaned/VBN) ./.)\n",
      "[('I', 'PRP'), ('can', 'MD'), ('will', 'MD'), ('have', 'VB'), ('been', 'VBN'), ('cleaned', 'VBN'), ('.', '.')]\n",
      "\n",
      "\n",
      "(S\n",
      "  (NP I/PRP)\n",
      "  can/MD\n",
      "  not/RB\n",
      "  (VP will/MD have/VB been/VBN cleaned/VBN)\n",
      "  ./.)\n",
      "[('I', 'PRP'), ('can', 'MD'), ('not', 'RB'), ('will', 'MD'), ('have', 'VB'), ('been', 'VBN'), ('cleaned', 'VBN'), ('.', '.')]\n",
      "\n",
      "\n",
      "(S (NP I/PRP) could/MD (VP will/MD have/VB been/VBN cleaned/VBN) ./.)\n",
      "[('I', 'PRP'), ('could', 'MD'), ('will', 'MD'), ('have', 'VB'), ('been', 'VBN'), ('cleaned', 'VBN'), ('.', '.')]\n",
      "\n",
      "\n",
      "(S\n",
      "  (NP I/PRP)\n",
      "  could/MD\n",
      "  n't/RB\n",
      "  (VP will/MD have/VB been/VBN cleaned/VBN)\n",
      "  ./.)\n",
      "[('I', 'PRP'), ('could', 'MD'), (\"n't\", 'RB'), ('will', 'MD'), ('have', 'VB'), ('been', 'VBN'), ('cleaned', 'VBN'), ('.', '.')]\n",
      "\n",
      "\n",
      "(S\n",
      "  (NP I/PRP)\n",
      "  ca/MD\n",
      "  n't/RB\n",
      "  (VP will/MD have/VB been/VBN cleaned/VBN)\n",
      "  ./.)\n",
      "[('I', 'PRP'), ('ca', 'MD'), (\"n't\", 'RB'), ('will', 'MD'), ('have', 'VB'), ('been', 'VBN'), ('cleaned', 'VBN'), ('.', '.')]\n",
      "\n",
      "\n",
      "(S (NP I/PRP) may/MD (VP will/MD have/VB been/VBN cleaned/VBN) ./.)\n",
      "[('I', 'PRP'), ('may', 'MD'), ('will', 'MD'), ('have', 'VB'), ('been', 'VBN'), ('cleaned', 'VBN'), ('.', '.')]\n",
      "\n",
      "\n",
      "(S (NP I/PRP) might/MD (VP will/MD have/VB been/VBN cleaned/VBN) ./.)\n",
      "[('I', 'PRP'), ('might', 'MD'), ('will', 'MD'), ('have', 'VB'), ('been', 'VBN'), ('cleaned', 'VBN'), ('.', '.')]\n",
      "\n",
      "\n",
      "(S (NP I/PRP) must/MD (VP will/MD have/VB been/VBN cleaned/VBN) ./.)\n",
      "[('I', 'PRP'), ('must', 'MD'), ('will', 'MD'), ('have', 'VB'), ('been', 'VBN'), ('cleaned', 'VBN'), ('.', '.')]\n",
      "\n",
      "\n",
      "(S (NP I/PRP) ought/MD (VP will/MD have/VB been/VBN cleaned/VBN) ./.)\n",
      "[('I', 'PRP'), ('ought', 'MD'), ('will', 'MD'), ('have', 'VB'), ('been', 'VBN'), ('cleaned', 'VBN'), ('.', '.')]\n",
      "\n",
      "\n",
      "(S (NP I/PRP) shall/MD (VP will/MD have/VB been/VBN cleaned/VBN) ./.)\n",
      "[('I', 'PRP'), ('shall', 'MD'), ('will', 'MD'), ('have', 'VB'), ('been', 'VBN'), ('cleaned', 'VBN'), ('.', '.')]\n",
      "\n",
      "\n",
      "(S\n",
      "  (NP I/PRP)\n",
      "  should/MD\n",
      "  (VP will/MD have/VB been/VBN cleaned/VBN)\n",
      "  ./.)\n",
      "[('I', 'PRP'), ('should', 'MD'), ('will', 'MD'), ('have', 'VB'), ('been', 'VBN'), ('cleaned', 'VBN'), ('.', '.')]\n",
      "\n",
      "\n",
      "(S (NP I/PRP) will/MD (VP will/MD have/VB been/VBN cleaned/VBN) ./.)\n",
      "[('I', 'PRP'), ('will', 'MD'), ('will', 'MD'), ('have', 'VB'), ('been', 'VBN'), ('cleaned', 'VBN'), ('.', '.')]\n",
      "\n",
      "\n",
      "(S (NP I/PRP) would/MD (VP will/MD have/VB been/VBN cleaned/VBN) ./.)\n",
      "[('I', 'PRP'), ('would', 'MD'), ('will', 'MD'), ('have', 'VB'), ('been', 'VBN'), ('cleaned', 'VBN'), ('.', '.')]\n",
      "\n",
      "\n",
      "(S\n",
      "  (NP I/PRP)\n",
      "  would/MD\n",
      "  n't/RB\n",
      "  (VP will/MD have/VB been/VBN cleaned/VBN)\n",
      "  ./.)\n",
      "[('I', 'PRP'), ('would', 'MD'), (\"n't\", 'RB'), ('will', 'MD'), ('have', 'VB'), ('been', 'VBN'), ('cleaned', 'VBN'), ('.', '.')]\n",
      "\n",
      "\n"
     ]
    }
   ],
   "source": [
    "t_c_list(mod_aux, prepend=\"I \", append=\" will have been cleaned.\")"
   ]
  },
  {
   "cell_type": "code",
   "execution_count": 55,
   "id": "c4581b34",
   "metadata": {},
   "outputs": [
    {
     "name": "stdout",
     "output_type": "stream",
     "text": [
      "(S (NP I/PRP) can/MD (VP will/MD be/VB being/VBG cleaned/VBN) ./.)\n",
      "[('I', 'PRP'), ('can', 'MD'), ('will', 'MD'), ('be', 'VB'), ('being', 'VBG'), ('cleaned', 'VBN'), ('.', '.')]\n",
      "\n",
      "\n",
      "(S\n",
      "  (NP I/PRP)\n",
      "  can/MD\n",
      "  not/RB\n",
      "  (VP will/MD be/VB being/VBG cleaned/VBN)\n",
      "  ./.)\n",
      "[('I', 'PRP'), ('can', 'MD'), ('not', 'RB'), ('will', 'MD'), ('be', 'VB'), ('being', 'VBG'), ('cleaned', 'VBN'), ('.', '.')]\n",
      "\n",
      "\n",
      "(S (NP I/PRP) could/MD (VP will/MD be/VB being/VBG cleaned/VBN) ./.)\n",
      "[('I', 'PRP'), ('could', 'MD'), ('will', 'MD'), ('be', 'VB'), ('being', 'VBG'), ('cleaned', 'VBN'), ('.', '.')]\n",
      "\n",
      "\n",
      "(S\n",
      "  (NP I/PRP)\n",
      "  could/MD\n",
      "  n't/RB\n",
      "  (VP will/MD be/VB being/VBG cleaned/VBN)\n",
      "  ./.)\n",
      "[('I', 'PRP'), ('could', 'MD'), (\"n't\", 'RB'), ('will', 'MD'), ('be', 'VB'), ('being', 'VBG'), ('cleaned', 'VBN'), ('.', '.')]\n",
      "\n",
      "\n",
      "(S\n",
      "  (NP I/PRP)\n",
      "  ca/MD\n",
      "  n't/RB\n",
      "  (VP will/MD be/VB being/VBG cleaned/VBN)\n",
      "  ./.)\n",
      "[('I', 'PRP'), ('ca', 'MD'), (\"n't\", 'RB'), ('will', 'MD'), ('be', 'VB'), ('being', 'VBG'), ('cleaned', 'VBN'), ('.', '.')]\n",
      "\n",
      "\n",
      "(S (NP I/PRP) may/MD (VP will/MD be/VB being/VBG cleaned/VBN) ./.)\n",
      "[('I', 'PRP'), ('may', 'MD'), ('will', 'MD'), ('be', 'VB'), ('being', 'VBG'), ('cleaned', 'VBN'), ('.', '.')]\n",
      "\n",
      "\n",
      "(S (NP I/PRP) might/MD (VP will/MD be/VB being/VBG cleaned/VBN) ./.)\n",
      "[('I', 'PRP'), ('might', 'MD'), ('will', 'MD'), ('be', 'VB'), ('being', 'VBG'), ('cleaned', 'VBN'), ('.', '.')]\n",
      "\n",
      "\n",
      "(S (NP I/PRP) must/MD (VP will/MD be/VB being/VBG cleaned/VBN) ./.)\n",
      "[('I', 'PRP'), ('must', 'MD'), ('will', 'MD'), ('be', 'VB'), ('being', 'VBG'), ('cleaned', 'VBN'), ('.', '.')]\n",
      "\n",
      "\n",
      "(S (NP I/PRP) ought/MD (VP will/MD be/VB being/VBG cleaned/VBN) ./.)\n",
      "[('I', 'PRP'), ('ought', 'MD'), ('will', 'MD'), ('be', 'VB'), ('being', 'VBG'), ('cleaned', 'VBN'), ('.', '.')]\n",
      "\n",
      "\n",
      "(S (NP I/PRP) shall/MD (VP will/MD be/VB being/VBG cleaned/VBN) ./.)\n",
      "[('I', 'PRP'), ('shall', 'MD'), ('will', 'MD'), ('be', 'VB'), ('being', 'VBG'), ('cleaned', 'VBN'), ('.', '.')]\n",
      "\n",
      "\n",
      "(S (NP I/PRP) should/MD (VP will/MD be/VB being/VBG cleaned/VBN) ./.)\n",
      "[('I', 'PRP'), ('should', 'MD'), ('will', 'MD'), ('be', 'VB'), ('being', 'VBG'), ('cleaned', 'VBN'), ('.', '.')]\n",
      "\n",
      "\n",
      "(S (NP I/PRP) will/MD (VP will/MD be/VB being/VBG cleaned/VBN) ./.)\n",
      "[('I', 'PRP'), ('will', 'MD'), ('will', 'MD'), ('be', 'VB'), ('being', 'VBG'), ('cleaned', 'VBN'), ('.', '.')]\n",
      "\n",
      "\n",
      "(S (NP I/PRP) would/MD (VP will/MD be/VB being/VBG cleaned/VBN) ./.)\n",
      "[('I', 'PRP'), ('would', 'MD'), ('will', 'MD'), ('be', 'VB'), ('being', 'VBG'), ('cleaned', 'VBN'), ('.', '.')]\n",
      "\n",
      "\n",
      "(S\n",
      "  (NP I/PRP)\n",
      "  would/MD\n",
      "  n't/RB\n",
      "  (VP will/MD be/VB being/VBG cleaned/VBN)\n",
      "  ./.)\n",
      "[('I', 'PRP'), ('would', 'MD'), (\"n't\", 'RB'), ('will', 'MD'), ('be', 'VB'), ('being', 'VBG'), ('cleaned', 'VBN'), ('.', '.')]\n",
      "\n",
      "\n"
     ]
    }
   ],
   "source": [
    "t_c_list(mod_aux, prepend=\"I \", append=\" will be being cleaned.\")"
   ]
  },
  {
   "cell_type": "code",
   "execution_count": 56,
   "id": "0e4ed731",
   "metadata": {},
   "outputs": [
    {
     "name": "stdout",
     "output_type": "stream",
     "text": [
      "(S\n",
      "  (NP I/PRP)\n",
      "  can/MD\n",
      "  (VP will/MD have/VB been/VBN getting/VBG cleaned/VBN)\n",
      "  ./.)\n",
      "[('I', 'PRP'), ('can', 'MD'), ('will', 'MD'), ('have', 'VB'), ('been', 'VBN'), ('getting', 'VBG'), ('cleaned', 'VBN'), ('.', '.')]\n",
      "\n",
      "\n",
      "(S\n",
      "  (NP I/PRP)\n",
      "  can/MD\n",
      "  not/RB\n",
      "  (VP will/MD have/VB been/VBN getting/VBG cleaned/VBN)\n",
      "  ./.)\n",
      "[('I', 'PRP'), ('can', 'MD'), ('not', 'RB'), ('will', 'MD'), ('have', 'VB'), ('been', 'VBN'), ('getting', 'VBG'), ('cleaned', 'VBN'), ('.', '.')]\n",
      "\n",
      "\n",
      "(S\n",
      "  (NP I/PRP)\n",
      "  could/MD\n",
      "  (VP will/MD have/VB been/VBN getting/VBG cleaned/VBN)\n",
      "  ./.)\n",
      "[('I', 'PRP'), ('could', 'MD'), ('will', 'MD'), ('have', 'VB'), ('been', 'VBN'), ('getting', 'VBG'), ('cleaned', 'VBN'), ('.', '.')]\n",
      "\n",
      "\n",
      "(S\n",
      "  (NP I/PRP)\n",
      "  could/MD\n",
      "  n't/RB\n",
      "  (VP will/MD have/VB been/VBN getting/VBG cleaned/VBN)\n",
      "  ./.)\n",
      "[('I', 'PRP'), ('could', 'MD'), (\"n't\", 'RB'), ('will', 'MD'), ('have', 'VB'), ('been', 'VBN'), ('getting', 'VBG'), ('cleaned', 'VBN'), ('.', '.')]\n",
      "\n",
      "\n",
      "(S\n",
      "  (NP I/PRP)\n",
      "  ca/MD\n",
      "  n't/RB\n",
      "  (VP will/MD have/VB been/VBN getting/VBG cleaned/VBN)\n",
      "  ./.)\n",
      "[('I', 'PRP'), ('ca', 'MD'), (\"n't\", 'RB'), ('will', 'MD'), ('have', 'VB'), ('been', 'VBN'), ('getting', 'VBG'), ('cleaned', 'VBN'), ('.', '.')]\n",
      "\n",
      "\n",
      "(S\n",
      "  (NP I/PRP)\n",
      "  may/MD\n",
      "  (VP will/MD have/VB been/VBN getting/VBG cleaned/VBN)\n",
      "  ./.)\n",
      "[('I', 'PRP'), ('may', 'MD'), ('will', 'MD'), ('have', 'VB'), ('been', 'VBN'), ('getting', 'VBG'), ('cleaned', 'VBN'), ('.', '.')]\n",
      "\n",
      "\n",
      "(S\n",
      "  (NP I/PRP)\n",
      "  might/MD\n",
      "  (VP will/MD have/VB been/VBN getting/VBG cleaned/VBN)\n",
      "  ./.)\n",
      "[('I', 'PRP'), ('might', 'MD'), ('will', 'MD'), ('have', 'VB'), ('been', 'VBN'), ('getting', 'VBG'), ('cleaned', 'VBN'), ('.', '.')]\n",
      "\n",
      "\n",
      "(S\n",
      "  (NP I/PRP)\n",
      "  must/MD\n",
      "  (VP will/MD have/VB been/VBN getting/VBG cleaned/VBN)\n",
      "  ./.)\n",
      "[('I', 'PRP'), ('must', 'MD'), ('will', 'MD'), ('have', 'VB'), ('been', 'VBN'), ('getting', 'VBG'), ('cleaned', 'VBN'), ('.', '.')]\n",
      "\n",
      "\n",
      "(S\n",
      "  (NP I/PRP)\n",
      "  ought/MD\n",
      "  (VP will/MD have/VB been/VBN getting/VBG cleaned/VBN)\n",
      "  ./.)\n",
      "[('I', 'PRP'), ('ought', 'MD'), ('will', 'MD'), ('have', 'VB'), ('been', 'VBN'), ('getting', 'VBG'), ('cleaned', 'VBN'), ('.', '.')]\n",
      "\n",
      "\n",
      "(S\n",
      "  (NP I/PRP)\n",
      "  shall/MD\n",
      "  (VP will/MD have/VB been/VBN getting/VBG cleaned/VBN)\n",
      "  ./.)\n",
      "[('I', 'PRP'), ('shall', 'MD'), ('will', 'MD'), ('have', 'VB'), ('been', 'VBN'), ('getting', 'VBG'), ('cleaned', 'VBN'), ('.', '.')]\n",
      "\n",
      "\n",
      "(S\n",
      "  (NP I/PRP)\n",
      "  should/MD\n",
      "  (VP will/MD have/VB been/VBN getting/VBG cleaned/VBN)\n",
      "  ./.)\n",
      "[('I', 'PRP'), ('should', 'MD'), ('will', 'MD'), ('have', 'VB'), ('been', 'VBN'), ('getting', 'VBG'), ('cleaned', 'VBN'), ('.', '.')]\n",
      "\n",
      "\n",
      "(S\n",
      "  (NP I/PRP)\n",
      "  will/MD\n",
      "  (VP will/MD have/VB been/VBN getting/VBG cleaned/VBN)\n",
      "  ./.)\n",
      "[('I', 'PRP'), ('will', 'MD'), ('will', 'MD'), ('have', 'VB'), ('been', 'VBN'), ('getting', 'VBG'), ('cleaned', 'VBN'), ('.', '.')]\n",
      "\n",
      "\n",
      "(S\n",
      "  (NP I/PRP)\n",
      "  would/MD\n",
      "  (VP will/MD have/VB been/VBN getting/VBG cleaned/VBN)\n",
      "  ./.)\n",
      "[('I', 'PRP'), ('would', 'MD'), ('will', 'MD'), ('have', 'VB'), ('been', 'VBN'), ('getting', 'VBG'), ('cleaned', 'VBN'), ('.', '.')]\n",
      "\n",
      "\n",
      "(S\n",
      "  (NP I/PRP)\n",
      "  would/MD\n",
      "  n't/RB\n",
      "  (VP will/MD have/VB been/VBN getting/VBG cleaned/VBN)\n",
      "  ./.)\n",
      "[('I', 'PRP'), ('would', 'MD'), (\"n't\", 'RB'), ('will', 'MD'), ('have', 'VB'), ('been', 'VBN'), ('getting', 'VBG'), ('cleaned', 'VBN'), ('.', '.')]\n",
      "\n",
      "\n"
     ]
    }
   ],
   "source": [
    "t_c_list(mod_aux, prepend=\"I \", append=\" will have been getting cleaned.\")"
   ]
  },
  {
   "cell_type": "markdown",
   "id": "e6db3f96",
   "metadata": {},
   "source": [
    "# Do"
   ]
  },
  {
   "cell_type": "code",
   "execution_count": 57,
   "id": "f8f63e96",
   "metadata": {},
   "outputs": [
    {
     "name": "stdout",
     "output_type": "stream",
     "text": [
      "(S (NP I/PRP) (VP do/VBP homework/RB) ./.)\n",
      "[('I', 'PRP'), ('do', 'VBP'), ('homework', 'RB'), ('.', '.')]\n",
      "\n",
      "\n",
      "(S (NP I/PRP) (VP did/VBD) (NP homework/NN) ./.)\n",
      "[('I', 'PRP'), ('did', 'VBD'), ('homework', 'NN'), ('.', '.')]\n",
      "\n",
      "\n",
      "(S (NP I/PRP) (VP do/VBP n't/RB) (VP do/VB homework/VB) ./.)\n",
      "[('I', 'PRP'), ('do', 'VBP'), (\"n't\", 'RB'), ('do', 'VB'), ('homework', 'VB'), ('.', '.')]\n",
      "\n",
      "\n",
      "(S (NP I/PRP) (VP did/VBD n't/RB) (VP do/VB homework/VB) ./.)\n",
      "[('I', 'PRP'), ('did', 'VBD'), (\"n't\", 'RB'), ('do', 'VB'), ('homework', 'VB'), ('.', '.')]\n",
      "\n",
      "\n",
      "(S (NP I/PRP) (VP do/VBP achieve/RB) ./.)\n",
      "[('I', 'PRP'), ('do', 'VBP'), ('achieve', 'RB'), ('.', '.')]\n",
      "\n",
      "\n",
      "(S (NP I/PRP) (VP did/VBD achieve/VB) ./.)\n",
      "[('I', 'PRP'), ('did', 'VBD'), ('achieve', 'VB'), ('.', '.')]\n",
      "\n",
      "\n",
      "(S (NP I/PRP) (VP do/VBP n't/RB) (VP do/VB achieve/VB) ./.)\n",
      "[('I', 'PRP'), ('do', 'VBP'), (\"n't\", 'RB'), ('do', 'VB'), ('achieve', 'VB'), ('.', '.')]\n",
      "\n",
      "\n",
      "(S (NP I/PRP) (VP did/VBD n't/RB) (VP do/VB achieve/VB) ./.)\n",
      "[('I', 'PRP'), ('did', 'VBD'), (\"n't\", 'RB'), ('do', 'VB'), ('achieve', 'VB'), ('.', '.')]\n",
      "\n",
      "\n"
     ]
    }
   ],
   "source": [
    "do_did = [\"do\", \"did\", \"don't do\", \"didn't do\"]\n",
    "\n",
    "t_c_list(do_did, prepend=\"I \", append=\" homework.\")\n",
    "t_c_list(do_did, prepend=\"I \", append=\" achieve.\")"
   ]
  },
  {
   "cell_type": "code",
   "execution_count": 58,
   "id": "b6a0c6a5",
   "metadata": {},
   "outputs": [
    {
     "name": "stdout",
     "output_type": "stream",
     "text": [
      "(S (NP he/PRP) (VP does/VBZ) (NP homework/NN) ./.)\n",
      "[('he', 'PRP'), ('does', 'VBZ'), ('homework', 'NN'), ('.', '.')]\n",
      "\n",
      "\n",
      "(S (NP he/PRP) (VP did/VBD) (NP homework/NN) ./.)\n",
      "[('he', 'PRP'), ('did', 'VBD'), ('homework', 'NN'), ('.', '.')]\n",
      "\n",
      "\n",
      "(S (NP he/PRP) (VP does/VBZ n't/RB) (VP do/VB homework/VB) ./.)\n",
      "[('he', 'PRP'), ('does', 'VBZ'), (\"n't\", 'RB'), ('do', 'VB'), ('homework', 'VB'), ('.', '.')]\n",
      "\n",
      "\n",
      "(S (NP he/PRP) (VP did/VBD n't/RB) (VP do/VB homework/VB) ./.)\n",
      "[('he', 'PRP'), ('did', 'VBD'), (\"n't\", 'RB'), ('do', 'VB'), ('homework', 'VB'), ('.', '.')]\n",
      "\n",
      "\n",
      "(S (NP he/PRP) (VP does/VBZ achieve/VB) ./.)\n",
      "[('he', 'PRP'), ('does', 'VBZ'), ('achieve', 'VB'), ('.', '.')]\n",
      "\n",
      "\n",
      "(S (NP he/PRP) (VP did/VBD achieve/VB) ./.)\n",
      "[('he', 'PRP'), ('did', 'VBD'), ('achieve', 'VB'), ('.', '.')]\n",
      "\n",
      "\n",
      "(S (NP he/PRP) (VP does/VBZ n't/RB) (VP do/VB achieve/VB) ./.)\n",
      "[('he', 'PRP'), ('does', 'VBZ'), (\"n't\", 'RB'), ('do', 'VB'), ('achieve', 'VB'), ('.', '.')]\n",
      "\n",
      "\n",
      "(S (NP he/PRP) (VP did/VBD n't/RB) (VP do/VB achieve/VB) ./.)\n",
      "[('he', 'PRP'), ('did', 'VBD'), (\"n't\", 'RB'), ('do', 'VB'), ('achieve', 'VB'), ('.', '.')]\n",
      "\n",
      "\n"
     ]
    }
   ],
   "source": [
    "does_did = [\"does\", \"did\", \"doesn't do\", \"didn't do\"]\n",
    "\n",
    "t_c_list(does_did, prepend=\"he \", append=\" homework.\")\n",
    "t_c_list(does_did, prepend=\"he \", append=\" achieve.\")"
   ]
  },
  {
   "cell_type": "markdown",
   "id": "0f0e8eee",
   "metadata": {},
   "source": [
    "Whatever comes behind \"do\" will be treated as adverb, causing problematic verb phrase parsing. Otherwise, 'does' and 'did' with a verb after get parsed."
   ]
  },
  {
   "cell_type": "markdown",
   "id": "3b5080a7",
   "metadata": {},
   "source": [
    "# To\n",
    "'To' can be infinitive or preposition"
   ]
  },
  {
   "cell_type": "code",
   "execution_count": 59,
   "id": "f7962741",
   "metadata": {},
   "outputs": [
    {
     "name": "stdout",
     "output_type": "stream",
     "text": [
      "(S (NP I/PRP) (VP am/VBP going/VBG (ToP to/TO work/VB)) ./.)\n",
      "[('I', 'PRP'), ('am', 'VBP'), ('going', 'VBG'), ('to', 'TO'), ('work', 'VB'), ('.', '.')]\n",
      "(S\n",
      "  (NP I/PRP)\n",
      "  (VP am/VBP going/VBG (ToP to/TO eat/VB (NP the/DT bread/NN)))\n",
      "  ./.)\n",
      "[('I', 'PRP'), ('am', 'VBP'), ('going', 'VBG'), ('to', 'TO'), ('eat', 'VB'), ('the', 'DT'), ('bread', 'NN'), ('.', '.')]\n"
     ]
    }
   ],
   "source": [
    "tag_and_chunk(\"I am going to work.\")\n",
    "tag_and_chunk(\"I am going to eat the bread.\")"
   ]
  },
  {
   "cell_type": "markdown",
   "id": "8f3c8af2",
   "metadata": {},
   "source": [
    "## Phrasal verb\n",
    "Verbs that come with a preposition, like clean off."
   ]
  },
  {
   "cell_type": "code",
   "execution_count": 60,
   "id": "94e172a5",
   "metadata": {},
   "outputs": [
    {
     "name": "stdout",
     "output_type": "stream",
     "text": [
      "(S (NP He/PRP) (VP turned/VBD in/IN) ./.)\n",
      "[('He', 'PRP'), ('turned', 'VBD'), ('in', 'IN'), ('.', '.')]\n",
      "(S\n",
      "  (NP He/PRP)\n",
      "  (VP walked/VBD)\n",
      "  (PP across/IN (NP the/DT street/NN))\n",
      "  ./.)\n",
      "[('He', 'PRP'), ('walked', 'VBD'), ('across', 'IN'), ('the', 'DT'), ('street', 'NN'), ('.', '.')]\n"
     ]
    }
   ],
   "source": [
    "tag_and_chunk(\"He turned in.\")\n",
    "tag_and_chunk(\"He walked across the street.\")"
   ]
  },
  {
   "cell_type": "markdown",
   "id": "bfbdf8c8",
   "metadata": {},
   "source": [
    "Phrasal verb parsing is limited, because it shares similar structure with prepositional phrases. It works if there is no noun after the verb and preposition."
   ]
  },
  {
   "cell_type": "markdown",
   "id": "91aadcf9",
   "metadata": {},
   "source": [
    "## Homophones: auxilary and noun"
   ]
  },
  {
   "cell_type": "code",
   "execution_count": 61,
   "id": "5b70a4e2",
   "metadata": {},
   "outputs": [
    {
     "name": "stdout",
     "output_type": "stream",
     "text": [
      "(S (NP I/PRP) (VP can/MD be/VB late/RB) ./.)\n",
      "[('I', 'PRP'), ('can', 'MD'), ('be', 'VB'), ('late', 'RB'), ('.', '.')]\n",
      "(S\n",
      "  (NP There/EX)\n",
      "  (VP are/VBP)\n",
      "  (NP (NP cans/NNS) (PP of/IN (NP tomatoes/NNS)))\n",
      "  ./.)\n",
      "[('There', 'EX'), ('are', 'VBP'), ('cans', 'NNS'), ('of', 'IN'), ('tomatoes', 'NNS'), ('.', '.')]\n",
      "(S\n",
      "  (NP There/EX)\n",
      "  (VP is/VBZ)\n",
      "  a/DT\n",
      "  can/MD\n",
      "  (PP of/IN (NP tomatoes/NNS))\n",
      "  ./.)\n",
      "[('There', 'EX'), ('is', 'VBZ'), ('a', 'DT'), ('can', 'MD'), ('of', 'IN'), ('tomatoes', 'NNS'), ('.', '.')]\n",
      "(S (NP Test/NNP) your/PRP$ might/MD ./.)\n",
      "[('Test', 'NNP'), ('your', 'PRP$'), ('might', 'MD'), ('.', '.')]\n",
      "(S (VP Test/VB) your/PRP$ (NP mights/NNS) ./.)\n",
      "[('Test', 'VB'), ('your', 'PRP$'), ('mights', 'NNS'), ('.', '.')]\n",
      "(S (NP I/PRP) (VP might/MD be/VB late/RB) ./.)\n",
      "[('I', 'PRP'), ('might', 'MD'), ('be', 'VB'), ('late', 'RB'), ('.', '.')]\n"
     ]
    }
   ],
   "source": [
    "tag_and_chunk(\"I can be late.\")\n",
    "tag_and_chunk(\"There are cans of tomatoes.\")\n",
    "tag_and_chunk(\"There is a can of tomatoes.\")\n",
    "tag_and_chunk(\"Test your might.\")\n",
    "tag_and_chunk(\"Test your mights.\")\n",
    "tag_and_chunk(\"I might be late.\")"
   ]
  },
  {
   "cell_type": "markdown",
   "id": "290dfb39",
   "metadata": {},
   "source": [
    "Some auxilaries and nouns share the same spelling, but for the most part, the distinguishing is accurate."
   ]
  },
  {
   "cell_type": "markdown",
   "id": "f8331d7f",
   "metadata": {},
   "source": [
    "## WH- words and yes/no question"
   ]
  },
  {
   "cell_type": "code",
   "execution_count": 62,
   "id": "90e2bb04",
   "metadata": {},
   "outputs": [
    {
     "name": "stdout",
     "output_type": "stream",
     "text": [
      "(S (NP what/WP) (VP is/VBZ) (NP it/PRP) ?/.)\n",
      "[('what', 'WP'), ('is', 'VBZ'), ('it', 'PRP'), ('?', '.')]\n",
      "\n",
      "\n",
      "(S (NP where/WRB) (VP is/VBZ) (NP it/PRP) ?/.)\n",
      "[('where', 'WRB'), ('is', 'VBZ'), ('it', 'PRP'), ('?', '.')]\n",
      "\n",
      "\n",
      "(S (NP who/WP) (VP is/VBZ) (NP it/PRP) ?/.)\n",
      "[('who', 'WP'), ('is', 'VBZ'), ('it', 'PRP'), ('?', '.')]\n",
      "\n",
      "\n",
      "(S (NP when/WRB) (VP is/VBZ) (NP it/PRP) ?/.)\n",
      "[('when', 'WRB'), ('is', 'VBZ'), ('it', 'PRP'), ('?', '.')]\n",
      "\n",
      "\n",
      "(S (NP why/WRB) (VP is/VBZ) (NP it/PRP) ?/.)\n",
      "[('why', 'WRB'), ('is', 'VBZ'), ('it', 'PRP'), ('?', '.')]\n",
      "\n",
      "\n"
     ]
    }
   ],
   "source": [
    "wh_pronouns = [\"what\", \"where\", \"who\", \"when\", \"why\"]\n",
    "\n",
    "t_c_list(wh_pronouns, append=\" is it?\")"
   ]
  },
  {
   "cell_type": "code",
   "execution_count": 63,
   "id": "228f8eea",
   "metadata": {},
   "outputs": [
    {
     "name": "stdout",
     "output_type": "stream",
     "text": [
      "(S (NP which/WDT idea/NN) (VP is/VBZ) (NP it/PRP) ?/.)\n",
      "[('which', 'WDT'), ('idea', 'NN'), ('is', 'VBZ'), ('it', 'PRP'), ('?', '.')]\n",
      "\n",
      "\n",
      "(S whose/WP$ (NP idea/NN) (VP is/VBZ) (NP it/PRP) ?/.)\n",
      "[('whose', 'WP$'), ('idea', 'NN'), ('is', 'VBZ'), ('it', 'PRP'), ('?', '.')]\n",
      "\n",
      "\n"
     ]
    }
   ],
   "source": [
    "wh_dets = [\"which\", \"whose\"]\n",
    "\n",
    "t_c_list(wh_dets, append=\" idea is it?\")"
   ]
  },
  {
   "cell_type": "code",
   "execution_count": 64,
   "id": "40d98ffe",
   "metadata": {},
   "outputs": [
    {
     "name": "stdout",
     "output_type": "stream",
     "text": [
      "(S (VP am/VBP) (NP I/PRP) (AdjP healthy/JJ) ?/.)\n",
      "[('am', 'VBP'), ('I', 'PRP'), ('healthy', 'JJ'), ('?', '.')]\n",
      "\n",
      "\n",
      "(S (VP was/VBD) (NP I/PRP) (AdjP healthy/JJ) ?/.)\n",
      "[('was', 'VBD'), ('I', 'PRP'), ('healthy', 'JJ'), ('?', '.')]\n",
      "\n",
      "\n",
      "(S (NP (NP was'nt/NN) (NP I/PRP)) (AdjP healthy/JJ) ?/.)\n",
      "[(\"was'nt\", 'NN'), ('I', 'PRP'), ('healthy', 'JJ'), ('?', '.')]\n",
      "\n",
      "\n",
      "(S (VP is/VBZ) (NP he/PRP) (AdjP healthy/JJ) ?/.)\n",
      "[('is', 'VBZ'), ('he', 'PRP'), ('healthy', 'JJ'), ('?', '.')]\n",
      "\n",
      "\n",
      "(S (VP is/VBZ n't/RB) (NP he/PRP) (AdjP healthy/JJ) ?/.)\n",
      "[('is', 'VBZ'), (\"n't\", 'RB'), ('he', 'PRP'), ('healthy', 'JJ'), ('?', '.')]\n",
      "\n",
      "\n",
      "(S (VP was/VBD) (NP he/PRP) (AdjP healthy/JJ) ?/.)\n",
      "[('was', 'VBD'), ('he', 'PRP'), ('healthy', 'JJ'), ('?', '.')]\n",
      "\n",
      "\n",
      "(S (NP (NP was'nt/NN) (NP he/PRP)) (AdjP healthy/JJ) ?/.)\n",
      "[(\"was'nt\", 'NN'), ('he', 'PRP'), ('healthy', 'JJ'), ('?', '.')]\n",
      "\n",
      "\n",
      "(S (VP are/VBP) (NP we/PRP) (AdjP healthy/JJ) ?/.)\n",
      "[('are', 'VBP'), ('we', 'PRP'), ('healthy', 'JJ'), ('?', '.')]\n",
      "\n",
      "\n",
      "(S (VP are/VBP n't/RB) (NP we/PRP) (AdjP healthy/JJ) ?/.)\n",
      "[('are', 'VBP'), (\"n't\", 'RB'), ('we', 'PRP'), ('healthy', 'JJ'), ('?', '.')]\n",
      "\n",
      "\n",
      "(S (VP were/VBD) (NP we/PRP) (AdjP healthy/JJ) ?/.)\n",
      "[('were', 'VBD'), ('we', 'PRP'), ('healthy', 'JJ'), ('?', '.')]\n",
      "\n",
      "\n",
      "(S (VP were/VBD n't/RB) (NP we/PRP) (AdjP healthy/JJ) ?/.)\n",
      "[('were', 'VBD'), (\"n't\", 'RB'), ('we', 'PRP'), ('healthy', 'JJ'), ('?', '.')]\n",
      "\n",
      "\n"
     ]
    }
   ],
   "source": [
    "t_c_list(am_was, append=\" I healthy?\")\n",
    "t_c_list(is_was, append=\" he healthy?\")\n",
    "t_c_list(are_were, append=\" we healthy?\")"
   ]
  },
  {
   "cell_type": "code",
   "execution_count": 65,
   "id": "6a4f4683",
   "metadata": {},
   "outputs": [
    {
     "name": "stdout",
     "output_type": "stream",
     "text": [
      "(S (VP has/VBZ) (NP he/PRP) (VP eaten/VB) ?/.)\n",
      "[('has', 'VBZ'), ('he', 'PRP'), ('eaten', 'VB'), ('?', '.')]\n",
      "\n",
      "\n",
      "(S (VP had/VBD) (NP he/PRP) (VP eaten/VB) ?/.)\n",
      "[('had', 'VBD'), ('he', 'PRP'), ('eaten', 'VB'), ('?', '.')]\n",
      "\n",
      "\n",
      "(S (VP has/VBZ n't/RB) (NP he/PRP) (VP eaten/VB) ?/.)\n",
      "[('has', 'VBZ'), (\"n't\", 'RB'), ('he', 'PRP'), ('eaten', 'VB'), ('?', '.')]\n",
      "\n",
      "\n",
      "(S (VP have/VB) (NP you/PRP) eaten/VBN ?/.)\n",
      "[('have', 'VB'), ('you', 'PRP'), ('eaten', 'VBN'), ('?', '.')]\n",
      "\n",
      "\n",
      "(S (VP had/VBD) (NP you/PRP) (VP eaten/VB) ?/.)\n",
      "[('had', 'VBD'), ('you', 'PRP'), ('eaten', 'VB'), ('?', '.')]\n",
      "\n",
      "\n",
      "(S (VP have/VBP n't/RB) (NP you/PRP) (VP eaten/VB) ?/.)\n",
      "[('have', 'VBP'), (\"n't\", 'RB'), ('you', 'PRP'), ('eaten', 'VB'), ('?', '.')]\n",
      "\n",
      "\n"
     ]
    }
   ],
   "source": [
    "t_c_list(has_had, append=\" he eaten?\")\n",
    "t_c_list(have_had, append=\" you eaten?\")"
   ]
  },
  {
   "cell_type": "markdown",
   "id": "3c083f99",
   "metadata": {},
   "source": [
    "# Coordinating Conjunction"
   ]
  },
  {
   "cell_type": "markdown",
   "id": "dfc8462d",
   "metadata": {},
   "source": [
    "https://grammar.yourdictionary.com/parts-of-speech/conjunctions/coordinating-conjunctions.html"
   ]
  },
  {
   "cell_type": "code",
   "execution_count": 66,
   "id": "013824ec",
   "metadata": {},
   "outputs": [
    {
     "name": "stdout",
     "output_type": "stream",
     "text": [
      "(S\n",
      "  (NP I/PRP)\n",
      "  (VP go/VBP)\n",
      "  (PP to/TO (NP the/DT park/NN))\n",
      "  (NP every/DT Sunday/NNP)\n",
      "  ./.)\n",
      "[('I', 'PRP'), ('go', 'VBP'), ('to', 'TO'), ('the', 'DT'), ('park', 'NN'), ('every', 'DT'), ('Sunday', 'NNP'), ('.', '.')]\n",
      "(S (NP I/PRP) long/RB (ToP to/TO see/VB) his/PRP$ (NP face/NN) ./.)\n",
      "[('I', 'PRP'), ('long', 'RB'), ('to', 'TO'), ('see', 'VB'), ('his', 'PRP$'), ('face', 'NN'), ('.', '.')]\n",
      "(S\n",
      "  (NP I/PRP)\n",
      "  (VP go/VBP)\n",
      "  (PP to/TO (NP the/DT park/NN))\n",
      "  (NP every/DT Sunday/NNP)\n",
      "  ,/,\n",
      "  (PP for/IN (NP I/PRP))\n",
      "  (AdjP long/JJ)\n",
      "  (ToP to/TO see/VB)\n",
      "  his/PRP$\n",
      "  (NP face/NN)\n",
      "  ./.)\n",
      "[('I', 'PRP'), ('go', 'VBP'), ('to', 'TO'), ('the', 'DT'), ('park', 'NN'), ('every', 'DT'), ('Sunday', 'NNP'), (',', ','), ('for', 'IN'), ('I', 'PRP'), ('long', 'JJ'), ('to', 'TO'), ('see', 'VB'), ('his', 'PRP$'), ('face', 'NN'), ('.', '.')]\n"
     ]
    }
   ],
   "source": [
    "tag_and_chunk(\"I go to the park every Sunday.\")\n",
    "tag_and_chunk(\"I long to see his face.\")\n",
    "for_conj = \"I go to the park every Sunday, for I long to see his face.\"\n",
    "tag_and_chunk(for_conj)"
   ]
  },
  {
   "cell_type": "markdown",
   "id": "aa68e8f5",
   "metadata": {},
   "source": [
    "NLTK treats for as an adverb, but it can also be coordinating conjuction."
   ]
  },
  {
   "cell_type": "code",
   "execution_count": 67,
   "id": "281c7794",
   "metadata": {},
   "outputs": [
    {
     "name": "stdout",
     "output_type": "stream",
     "text": [
      "(S\n",
      "  (NP I/PRP)\n",
      "  (VP like/VBP (ToP to/TO read/VB))\n",
      "  ,/,\n",
      "  and/CC\n",
      "  (NP I/PRP)\n",
      "  (VP write/VBP in/IN)\n",
      "  my/PRP$\n",
      "  (NP (NP journal/NN) (NP every/DT night/NN))\n",
      "  ./.)\n",
      "[('I', 'PRP'), ('like', 'VBP'), ('to', 'TO'), ('read', 'VB'), (',', ','), ('and', 'CC'), ('I', 'PRP'), ('write', 'VBP'), ('in', 'IN'), ('my', 'PRP$'), ('journal', 'NN'), ('every', 'DT'), ('night', 'NN'), ('.', '.')]\n"
     ]
    }
   ],
   "source": [
    "and_conj = \"I like to read, and I write in my journal every night.\"\n",
    "tag_and_chunk(and_conj)"
   ]
  },
  {
   "cell_type": "code",
   "execution_count": 68,
   "id": "111edf9b",
   "metadata": {},
   "outputs": [
    {
     "name": "stdout",
     "output_type": "stream",
     "text": [
      "(S\n",
      "  (NP You/PRP)\n",
      "  (VP should/MD invite/VB)\n",
      "  (NP\n",
      "    (NP Mario/NNP)\n",
      "    and/CC\n",
      "    (NP (NP Estefan/NNP) (PP to/TO (NP the/DT party/NN))))\n",
      "  ./.)\n",
      "[('You', 'PRP'), ('should', 'MD'), ('invite', 'VB'), ('Mario', 'NNP'), ('and', 'CC'), ('Estefan', 'NNP'), ('to', 'TO'), ('the', 'DT'), ('party', 'NN'), ('.', '.')]\n"
     ]
    }
   ],
   "source": [
    "and_conj = \"You should invite Mario and Estefan to the party.\"\n",
    "tag_and_chunk(and_conj)"
   ]
  },
  {
   "cell_type": "markdown",
   "id": "b48db660",
   "metadata": {},
   "source": [
    "And is accurate."
   ]
  },
  {
   "cell_type": "code",
   "execution_count": 69,
   "id": "4fed94c5",
   "metadata": {},
   "outputs": [
    {
     "name": "stdout",
     "output_type": "stream",
     "text": [
      "(S\n",
      "  My/PRP$\n",
      "  (NP sister/NN doesn/NN ’/NNP t/NN)\n",
      "  like/IN\n",
      "  (ToP to/TO study/VB)\n",
      "  ,/,\n",
      "  nor/CC\n",
      "  (VP does/VBZ)\n",
      "  (NP she/PRP)\n",
      "  (VP take/VB)\n",
      "  (NP (NP notes/NNS) (PP in/IN (NP class/NN)))\n",
      "  ./.)\n",
      "[('My', 'PRP$'), ('sister', 'NN'), ('doesn', 'NN'), ('’', 'NNP'), ('t', 'NN'), ('like', 'IN'), ('to', 'TO'), ('study', 'VB'), (',', ','), ('nor', 'CC'), ('does', 'VBZ'), ('she', 'PRP'), ('take', 'VB'), ('notes', 'NNS'), ('in', 'IN'), ('class', 'NN'), ('.', '.')]\n"
     ]
    }
   ],
   "source": [
    "nor_conj = \"My sister doesn’t like to study, nor does she take notes in class.\"\n",
    "tag_and_chunk(nor_conj)"
   ]
  },
  {
   "cell_type": "markdown",
   "id": "520c8ff0",
   "metadata": {},
   "source": [
    "Nor is accurate"
   ]
  },
  {
   "cell_type": "code",
   "execution_count": 70,
   "id": "71746c8f",
   "metadata": {},
   "outputs": [
    {
     "name": "stdout",
     "output_type": "stream",
     "text": [
      "(S\n",
      "  (NP Television/NN)\n",
      "  (VP is/VBZ)\n",
      "  (NP (NP a/DT (AdjP wonderful/JJ) escape/NN) ,/, but/CC (NP it/PRP))\n",
      "  (VP interferes/VBZ with/IN)\n",
      "  my/PRP$\n",
      "  (NP writing/NN)\n",
      "  ./.)\n",
      "[('Television', 'NN'), ('is', 'VBZ'), ('a', 'DT'), ('wonderful', 'JJ'), ('escape', 'NN'), (',', ','), ('but', 'CC'), ('it', 'PRP'), ('interferes', 'VBZ'), ('with', 'IN'), ('my', 'PRP$'), ('writing', 'NN'), ('.', '.')]\n"
     ]
    }
   ],
   "source": [
    "but_conj = \"Television is a wonderful escape, but it interferes with my writing.\"\n",
    "tag_and_chunk(but_conj)"
   ]
  },
  {
   "cell_type": "code",
   "execution_count": 71,
   "id": "fa53149d",
   "metadata": {},
   "outputs": [
    {
     "name": "stdout",
     "output_type": "stream",
     "text": [
      "(S\n",
      "  (NP We/PRP)\n",
      "  (VP could/MD have/VB dinner/VBN)\n",
      "  (PP before/IN (NP the/DT movie/NN))\n",
      "  ,/,\n",
      "  or/CC\n",
      "  (NP we/PRP)\n",
      "  (VP could/MD grab/VB)\n",
      "  (NP a/DT (AdjP bite/JJ) afterward/NN)\n",
      "  ./.)\n",
      "[('We', 'PRP'), ('could', 'MD'), ('have', 'VB'), ('dinner', 'VBN'), ('before', 'IN'), ('the', 'DT'), ('movie', 'NN'), (',', ','), ('or', 'CC'), ('we', 'PRP'), ('could', 'MD'), ('grab', 'VB'), ('a', 'DT'), ('bite', 'JJ'), ('afterward', 'NN'), ('.', '.')]\n"
     ]
    }
   ],
   "source": [
    "or_conj = \"We could have dinner before the movie, or we could grab a bite afterward.\"\n",
    "tag_and_chunk(or_conj)"
   ]
  },
  {
   "cell_type": "code",
   "execution_count": 72,
   "id": "2c9963f4",
   "metadata": {},
   "outputs": [
    {
     "name": "stdout",
     "output_type": "stream",
     "text": [
      "(S\n",
      "  (NP I/PRP)\n",
      "  (VP can/MD ’/VB)\n",
      "  (AdjP t/JJ)\n",
      "  (PP decide/IN if/IN (NP I/PRP))\n",
      "  (VP should/MD study/VB)\n",
      "  (NP (NP economics/NNS) or/CC (NP (AdjP political/JJ) science/NN))\n",
      "  ./.)\n",
      "[('I', 'PRP'), ('can', 'MD'), ('’', 'VB'), ('t', 'JJ'), ('decide', 'IN'), ('if', 'IN'), ('I', 'PRP'), ('should', 'MD'), ('study', 'VB'), ('economics', 'NNS'), ('or', 'CC'), ('political', 'JJ'), ('science', 'NN'), ('.', '.')]\n"
     ]
    }
   ],
   "source": [
    "or_conj = \"I can’t decide if I should study economics or political science.\"\n",
    "tag_and_chunk(or_conj)"
   ]
  },
  {
   "cell_type": "code",
   "execution_count": 73,
   "id": "ac2548aa",
   "metadata": {},
   "outputs": [
    {
     "name": "stdout",
     "output_type": "stream",
     "text": [
      "(S\n",
      "  (NP I/PRP)\n",
      "  (VP always/RB take/VBP)\n",
      "  (NP (NP a/DT book/NN) (PP to/TO (NP the/DT beach/NN)))\n",
      "  ,/,\n",
      "  yet/RB\n",
      "  (NP I/PRP)\n",
      "  (VP\n",
      "    never/RB\n",
      "    seem/VBP\n",
      "    (ToP to/TO turn/VB (NP a/DT (AdjP single/JJ) page/NN)))\n",
      "  ./.)\n",
      "[('I', 'PRP'), ('always', 'RB'), ('take', 'VBP'), ('a', 'DT'), ('book', 'NN'), ('to', 'TO'), ('the', 'DT'), ('beach', 'NN'), (',', ','), ('yet', 'RB'), ('I', 'PRP'), ('never', 'RB'), ('seem', 'VBP'), ('to', 'TO'), ('turn', 'VB'), ('a', 'DT'), ('single', 'JJ'), ('page', 'NN'), ('.', '.')]\n"
     ]
    }
   ],
   "source": [
    "yet_conj = \"I always take a book to the beach, yet I never seem to turn a single page.\"\n",
    "tag_and_chunk(yet_conj)"
   ]
  },
  {
   "cell_type": "code",
   "execution_count": null,
   "id": "474700c9",
   "metadata": {},
   "outputs": [],
   "source": []
  }
 ],
 "metadata": {
  "kernelspec": {
   "display_name": "Python 3 (ipykernel)",
   "language": "python",
   "name": "python3"
  },
  "language_info": {
   "codemirror_mode": {
    "name": "ipython",
    "version": 3
   },
   "file_extension": ".py",
   "mimetype": "text/x-python",
   "name": "python",
   "nbconvert_exporter": "python",
   "pygments_lexer": "ipython3",
   "version": "3.8.10"
  }
 },
 "nbformat": 4,
 "nbformat_minor": 5
}
